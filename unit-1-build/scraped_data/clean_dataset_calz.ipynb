{
 "cells": [
  {
   "cell_type": "code",
   "execution_count": 36,
   "metadata": {},
   "outputs": [],
   "source": [
    "import numpy as np\n",
    "import pandas as pd\n",
    "import matplotlib.pyplot as plt\n",
    "\n",
    "#used to change all the relive dates to datetimes\n",
    "import datetime\n",
    "\n",
    "# this in important because the time stamps in the dataset are relitive to when they were scraped\n",
    "DATE_SCRAPED=\"03-1-2020\""
   ]
  },
  {
   "cell_type": "code",
   "execution_count": 37,
   "metadata": {},
   "outputs": [],
   "source": [
    "# read in the data frame that has my scrapped content\n",
    "df=pd.read_csv('calz_reviews_content.csv')\n",
    "df_labels=pd.read_csv('calz_labels.csv')\n"
   ]
  },
  {
   "cell_type": "markdown",
   "metadata": {
    "colab_type": "text",
    "id": "yjnm1DkV3CMS"
   },
   "source": [
    "# **EDA**"
   ]
  },
  {
   "cell_type": "code",
   "execution_count": 38,
   "metadata": {},
   "outputs": [
    {
     "name": "stdout",
     "output_type": "stream",
     "text": "(1041, 8)\n"
    },
    {
     "data": {
      "text/html": "<div>\n<style scoped>\n    .dataframe tbody tr th:only-of-type {\n        vertical-align: middle;\n    }\n\n    .dataframe tbody tr th {\n        vertical-align: top;\n    }\n\n    .dataframe thead th {\n        text-align: right;\n    }\n</style>\n<table border=\"1\" class=\"dataframe\">\n  <thead>\n    <tr style=\"text-align: right;\">\n      <th></th>\n      <th>web-scraper-order</th>\n      <th>web-scraper-start-url</th>\n      <th>name</th>\n      <th>review</th>\n      <th>review_content</th>\n      <th>time_published</th>\n      <th>owner_response</th>\n      <th>owner_response_time</th>\n    </tr>\n  </thead>\n  <tbody>\n    <tr>\n      <td>0</td>\n      <td>1583045461-1042</td>\n      <td>https://www.google.com/maps/place/Cal'z+Pizza+...</td>\n      <td>Jeanette Zeeb</td>\n      <td>&lt;span jstcache=\"293\" jsinstance=\"0\" class=\"sec...</td>\n      <td>It's ok</td>\n      <td>a year ago</td>\n      <td>Response from the owner</td>\n      <td>a year ago</td>\n    </tr>\n    <tr>\n      <td>1</td>\n      <td>1583045296-198</td>\n      <td>https://www.google.com/maps/place/Cal'z+Pizza/...</td>\n      <td>Deanna Frantzen</td>\n      <td>&lt;span jstcache=\"293\" jsinstance=\"0\" class=\"sec...</td>\n      <td>Great food and amazing staff</td>\n      <td>a year ago</td>\n      <td>NaN</td>\n      <td>NaN</td>\n    </tr>\n    <tr>\n      <td>2</td>\n      <td>1583045434-829</td>\n      <td>https://www.google.com/maps/place/Cal'z+Pizza/...</td>\n      <td>Monique Shontae</td>\n      <td>&lt;span jstcache=\"293\" jsinstance=\"0\" class=\"sec...</td>\n      <td>Order a tuna cheese sub Friday night.. It had ...</td>\n      <td>a year ago</td>\n      <td>NaN</td>\n      <td>NaN</td>\n    </tr>\n    <tr>\n      <td>3</td>\n      <td>1583045434-869</td>\n      <td>https://www.google.com/maps/place/Cal'z+Pizza/...</td>\n      <td>Annie Cheeks</td>\n      <td>&lt;span jstcache=\"293\" jsinstance=\"0\" class=\"sec...</td>\n      <td>Great service with a smile, the young man was ...</td>\n      <td>2 years ago</td>\n      <td>NaN</td>\n      <td>NaN</td>\n    </tr>\n    <tr>\n      <td>4</td>\n      <td>1583045434-899</td>\n      <td>https://www.google.com/maps/place/Cal'z+Pizza/...</td>\n      <td>mattthew kinnard</td>\n      <td>&lt;span jstcache=\"293\" jsinstance=\"0\" class=\"sec...</td>\n      <td>Good pizza</td>\n      <td>2 years ago</td>\n      <td>NaN</td>\n      <td>NaN</td>\n    </tr>\n  </tbody>\n</table>\n</div>",
      "text/plain": "  web-scraper-order                              web-scraper-start-url  \\\n0   1583045461-1042  https://www.google.com/maps/place/Cal'z+Pizza+...   \n1    1583045296-198  https://www.google.com/maps/place/Cal'z+Pizza/...   \n2    1583045434-829  https://www.google.com/maps/place/Cal'z+Pizza/...   \n3    1583045434-869  https://www.google.com/maps/place/Cal'z+Pizza/...   \n4    1583045434-899  https://www.google.com/maps/place/Cal'z+Pizza/...   \n\n               name                                             review  \\\n0     Jeanette Zeeb  <span jstcache=\"293\" jsinstance=\"0\" class=\"sec...   \n1   Deanna Frantzen  <span jstcache=\"293\" jsinstance=\"0\" class=\"sec...   \n2   Monique Shontae  <span jstcache=\"293\" jsinstance=\"0\" class=\"sec...   \n3      Annie Cheeks  <span jstcache=\"293\" jsinstance=\"0\" class=\"sec...   \n4  mattthew kinnard  <span jstcache=\"293\" jsinstance=\"0\" class=\"sec...   \n\n                                      review_content time_published  \\\n0                                            It's ok     a year ago   \n1                       Great food and amazing staff     a year ago   \n2  Order a tuna cheese sub Friday night.. It had ...     a year ago   \n3  Great service with a smile, the young man was ...    2 years ago   \n4                                         Good pizza    2 years ago   \n\n            owner_response owner_response_time  \n0  Response from the owner          a year ago  \n1                      NaN                 NaN  \n2                      NaN                 NaN  \n3                      NaN                 NaN  \n4                      NaN                 NaN  "
     },
     "execution_count": 38,
     "metadata": {},
     "output_type": "execute_result"
    }
   ],
   "source": [
    "# inspect head @TODO DROP NAME COL\n",
    "print(df.shape)\n",
    "df.head()\n"
   ]
  },
  {
   "cell_type": "code",
   "execution_count": 39,
   "metadata": {},
   "outputs": [
    {
     "name": "stdout",
     "output_type": "stream",
     "text": "(9, 6)\n"
    },
    {
     "data": {
      "text/html": "<div>\n<style scoped>\n    .dataframe tbody tr th:only-of-type {\n        vertical-align: middle;\n    }\n\n    .dataframe tbody tr th {\n        vertical-align: top;\n    }\n\n    .dataframe thead th {\n        text-align: right;\n    }\n</style>\n<table border=\"1\" class=\"dataframe\">\n  <thead>\n    <tr style=\"text-align: right;\">\n      <th></th>\n      <th>web-scraper-order</th>\n      <th>web-scraper-start-url</th>\n      <th>name</th>\n      <th>address</th>\n      <th>rating</th>\n      <th>num_to_rate</th>\n    </tr>\n  </thead>\n  <tbody>\n    <tr>\n      <td>0</td>\n      <td>1583044594-2</td>\n      <td>https://www.google.com/maps/search/calz+pizza/...</td>\n      <td>Cal'z Pizza</td>\n      <td>3678 Sewells Point Rd</td>\n      <td>4.0</td>\n      <td>(322)</td>\n    </tr>\n    <tr>\n      <td>1</td>\n      <td>1583044594-5</td>\n      <td>https://www.google.com/maps/search/calz+pizza/...</td>\n      <td>Cal'z Pizza</td>\n      <td>3324 Holland Road</td>\n      <td>4.0</td>\n      <td>(192)</td>\n    </tr>\n    <tr>\n      <td>2</td>\n      <td>1583044594-7</td>\n      <td>https://www.google.com/maps/search/calz+pizza/...</td>\n      <td>Cal'z Pizza</td>\n      <td>1009 Laskin Rd</td>\n      <td>4.2</td>\n      <td>(251)</td>\n    </tr>\n    <tr>\n      <td>3</td>\n      <td>1583044594-4</td>\n      <td>https://www.google.com/maps/search/calz+pizza/...</td>\n      <td>Cal'z Pizza</td>\n      <td>5280 Princess Anne Rd</td>\n      <td>4.4</td>\n      <td>(165)</td>\n    </tr>\n    <tr>\n      <td>4</td>\n      <td>1583044594-9</td>\n      <td>https://www.google.com/maps/search/calz+pizza/...</td>\n      <td>Cal'z Pizza</td>\n      <td>624 Independence Blvd</td>\n      <td>3.9</td>\n      <td>(133)</td>\n    </tr>\n    <tr>\n      <td>5</td>\n      <td>1583044594-3</td>\n      <td>https://www.google.com/maps/search/calz+pizza/...</td>\n      <td>Cal'z Pizza</td>\n      <td>738 E Bayview Blvd</td>\n      <td>4.1</td>\n      <td>(160)</td>\n    </tr>\n    <tr>\n      <td>6</td>\n      <td>1583044594-1</td>\n      <td>https://www.google.com/maps/search/calz+pizza/...</td>\n      <td>Cal'z Pizza - East Little Creek</td>\n      <td>3824 E Little Creek Rd</td>\n      <td>4.2</td>\n      <td>(172)</td>\n    </tr>\n    <tr>\n      <td>7</td>\n      <td>1583044594-8</td>\n      <td>https://www.google.com/maps/search/calz+pizza/...</td>\n      <td>Cal'z Pizza</td>\n      <td>1405 Harpers Rd</td>\n      <td>4.4</td>\n      <td>(82)</td>\n    </tr>\n    <tr>\n      <td>8</td>\n      <td>1583044594-6</td>\n      <td>https://www.google.com/maps/search/calz+pizza/...</td>\n      <td>Cal'z Pizza, Subs, &amp; Wings</td>\n      <td>8245 Hampton Blvd</td>\n      <td>3.8</td>\n      <td>(86)</td>\n    </tr>\n  </tbody>\n</table>\n</div>",
      "text/plain": "  web-scraper-order                              web-scraper-start-url  \\\n0      1583044594-2  https://www.google.com/maps/search/calz+pizza/...   \n1      1583044594-5  https://www.google.com/maps/search/calz+pizza/...   \n2      1583044594-7  https://www.google.com/maps/search/calz+pizza/...   \n3      1583044594-4  https://www.google.com/maps/search/calz+pizza/...   \n4      1583044594-9  https://www.google.com/maps/search/calz+pizza/...   \n5      1583044594-3  https://www.google.com/maps/search/calz+pizza/...   \n6      1583044594-1  https://www.google.com/maps/search/calz+pizza/...   \n7      1583044594-8  https://www.google.com/maps/search/calz+pizza/...   \n8      1583044594-6  https://www.google.com/maps/search/calz+pizza/...   \n\n                              name                 address  rating num_to_rate  \n0                      Cal'z Pizza   3678 Sewells Point Rd     4.0       (322)  \n1                      Cal'z Pizza       3324 Holland Road     4.0       (192)  \n2                      Cal'z Pizza          1009 Laskin Rd     4.2       (251)  \n3                      Cal'z Pizza   5280 Princess Anne Rd     4.4       (165)  \n4                      Cal'z Pizza   624 Independence Blvd     3.9       (133)  \n5                      Cal'z Pizza      738 E Bayview Blvd     4.1       (160)  \n6  Cal'z Pizza - East Little Creek  3824 E Little Creek Rd     4.2       (172)  \n7                      Cal'z Pizza         1405 Harpers Rd     4.4        (82)  \n8       Cal'z Pizza, Subs, & Wings       8245 Hampton Blvd     3.8        (86)  "
     },
     "execution_count": 39,
     "metadata": {},
     "output_type": "execute_result"
    }
   ],
   "source": [
    "print(df_labels.shape)\n",
    "df_labels.head(20)"
   ]
  },
  {
   "cell_type": "code",
   "execution_count": 40,
   "metadata": {},
   "outputs": [
    {
     "data": {
      "text/plain": "0    322\n1    192\n2    251\n3    165\n4    133\nName: num_to_rate, dtype: object"
     },
     "execution_count": 40,
     "metadata": {},
     "output_type": "execute_result"
    }
   ],
   "source": [
    "# define a function that will take the cell contents of num_to_rate and remove the\n",
    "# paretheses\n",
    "def strip_n2r(x):\n",
    "    return x.strip('(').strip(')')\n",
    "test=df_labels['num_to_rate'].apply(strip_n2r)\n",
    "test.head()"
   ]
  },
  {
   "cell_type": "code",
   "execution_count": 41,
   "metadata": {},
   "outputs": [],
   "source": [
    "# make changes to df\n",
    "df_labels['num_to_rate']=df_labels['num_to_rate'].apply(strip_n2r)"
   ]
  },
  {
   "cell_type": "markdown",
   "metadata": {
    "colab_type": "text",
    "id": "gr7bjAEMM42e"
   },
   "source": [
    "#Data Cleaning/feature engineering"
   ]
  },
  {
   "cell_type": "markdown",
   "metadata": {
    "colab_type": "text",
    "id": "2JUQPfHQS5hF"
   },
   "source": [
    "###**geo-codes engineering**"
   ]
  },
  {
   "cell_type": "code",
   "execution_count": 42,
   "metadata": {},
   "outputs": [
    {
     "name": "stdout",
     "output_type": "stream",
     "text": "labels df:\nhttps://www.google.com/maps/search/calz+pizza/@36.8599294,-76.1147392,11z\n\nreviews df:\n"
    },
    {
     "data": {
      "text/plain": "\"https://www.google.com/maps/place/Cal'z+Pizza+-+East+Little+Creek/@36.9181643,-76.2003157,17z/data=!3m1!4b1!4m10!1m2!2m1!1scalz+pizza!3m6!1s0x89ba914bb73fa53b:0x1301c924d4200997!8m2!3d36.91816!4d-76.198127!9m1!1b1\""
     },
     "execution_count": 42,
     "metadata": {},
     "output_type": "execute_result"
    }
   ],
   "source": [
    "# im going to have to extract the geo code from the following links and compare them to my geo codes from\n",
    "# my labels df to map the reviews to a particular store\n",
    "print(\"labels df:\")\n",
    "print(df_labels['web-scraper-start-url'].iloc[0])\n",
    "print(\"\\nreviews df:\")\n",
    "df['web-scraper-start-url'].iloc[0]"
   ]
  },
  {
   "cell_type": "code",
   "execution_count": 43,
   "metadata": {},
   "outputs": [
    {
     "data": {
      "text/plain": "0    [36.9181643, -76.2003157]\n1    [36.8565404, -75.9934831]\n2    [36.8892982, -76.2401211]\n3    [36.8892982, -76.2401211]\n4    [36.8892982, -76.2401211]\nName: web-scraper-start-url, dtype: object"
     },
     "execution_count": 43,
     "metadata": {},
     "output_type": "execute_result"
    }
   ],
   "source": [
    "# define a function to strip the url strings to reveal geo tags\n",
    "def parse_geo(x):\n",
    "  return x.split('@')[1].split(',')[:-1]\n",
    "# test it out before i make any changes\n",
    "# note i probably need to only test on one of the df's because the\n",
    "# start url is in the same format in both df's\n",
    "test=df['web-scraper-start-url'].apply(parse_geo)\n",
    "test.head()"
   ]
  },
  {
   "cell_type": "code",
   "execution_count": 44,
   "metadata": {},
   "outputs": [],
   "source": [
    "# make changes\n",
    "df['geo']=df['web-scraper-start-url'].apply(parse_geo)\n",
    "df_labels['geo']=df_labels['web-scraper-start-url'].apply(parse_geo)"
   ]
  },
  {
   "cell_type": "markdown",
   "metadata": {
    "colab_type": "text",
    "id": "wVX08Jd5SdWg"
   },
   "source": [
    "###**rating valuation engineering**"
   ]
  },
  {
   "cell_type": "code",
   "execution_count": 45,
   "metadata": {},
   "outputs": [
    {
     "data": {
      "text/plain": "0    <span jstcache=\"293\" jsinstance=\"0\" class=\"sec...\n1    <span jstcache=\"293\" jsinstance=\"0\" class=\"sec...\n2    <span jstcache=\"293\" jsinstance=\"0\" class=\"sec...\n3    <span jstcache=\"293\" jsinstance=\"0\" class=\"sec...\n4    <span jstcache=\"293\" jsinstance=\"0\" class=\"sec...\nName: review, dtype: object"
     },
     "execution_count": 45,
     "metadata": {},
     "output_type": "execute_result"
    }
   ],
   "source": [
    "# on the reviews it had images of lit stars triggered by js\n",
    "# to work around this i took the html source because i knew it would\n",
    "# show which stars are supossed to be triggered, but as a drawback\n",
    "# no i have to clean HTML instead of pretty output\n",
    "df['review'].head()"
   ]
  },
  {
   "cell_type": "code",
   "execution_count": 46,
   "metadata": {},
   "outputs": [
    {
     "data": {
      "text/plain": "0    3\n1    5\n2    1\n3    5\n4    4\nName: review, dtype: int64"
     },
     "execution_count": 46,
     "metadata": {},
     "output_type": "execute_result"
    }
   ],
   "source": [
    "# make a funtion to apply to col\n",
    "def clean_rating(x):\n",
    "  # make a list of strings to work with\n",
    "  out=x.split()\n",
    "  # sort list so that duplicates group togeather\n",
    "  out.sort()\n",
    "  # the first element is just '<span>' and the following 20 elements are redundant,\n",
    "  # the last 5 elements are placment flags\n",
    "  # remove all of them and leave me with just the number of active stars\n",
    "  # then get a count so i can have a pretty int\n",
    "  return len(out[21:len(out)-5])\n",
    "\n",
    "# test to make sure that it works\n",
    "test=df['review'].apply(clean_rating)\n",
    "test.head()"
   ]
  },
  {
   "cell_type": "code",
   "execution_count": 47,
   "metadata": {},
   "outputs": [],
   "source": [
    "# make changes to df\n",
    "df['review']=df['review'].apply(clean_rating)"
   ]
  },
  {
   "cell_type": "markdown",
   "metadata": {
    "colab_type": "text",
    "id": "5F5Tp0eR2AZS"
   },
   "source": [
    "### **datetime engeenering for graphing**"
   ]
  },
  {
   "cell_type": "code",
   "execution_count": 48,
   "metadata": {},
   "outputs": [
    {
     "data": {
      "text/plain": "a year ago       328\n2 years ago      173\n3 years ago       99\n11 months ago     45\n7 months ago      43\na month ago       36\n10 months ago     36\n8 months ago      36\n6 months ago      35\n3 months ago      29\n5 months ago      28\n4 months ago      26\n9 months ago      25\n4 years ago       21\n5 years ago       15\n2 months ago      13\n2 weeks ago       10\n6 years ago        7\na week ago         7\n3 weeks ago        7\n7 years ago        6\n4 weeks ago        6\n2 days ago         3\n9 years ago        2\na day ago          1\n6 days ago         1\n8 years ago        1\n4 days ago         1\n3 days ago         1\nName: time_published, dtype: int64"
     },
     "execution_count": 48,
     "metadata": {},
     "output_type": "execute_result"
    }
   ],
   "source": [
    "# humanfied dates are great to read, not so great to graph, i need to make theese\n",
    "# back into dt format,(why i have a glob at the top with the date of scrape)\n",
    "df['time_published'].value_counts()"
   ]
  },
  {
   "cell_type": "code",
   "execution_count": 49,
   "metadata": {},
   "outputs": [],
   "source": [
    "# create a map for all units to hours\n",
    "time_map={'second':0.000278,'minute':0.0167,'hour':1,'day':24,'week':168,'month':530.5,'year':8766}\n",
    "# make a function that takes a relitive time 'a day ago' and transfers that to a datetime\n",
    "def human_to_dt(x):\n",
    "  # the number that i will end up subtracting from scrape date\n",
    "  diff=0\n",
    "  # make a datetime object to hold the date that the dataset was scrapped\n",
    "  dt=datetime.datetime.strptime(DATE_SCRAPED, '%m-%d-%Y')\n",
    "  # strip the string down to two values a quantifier and a unit\n",
    "  q,u=x[:-3].strip().split(' ')\n",
    "  # remove trailing s on unit it is not needed\n",
    "  if u[len(u)-1]==\"s\":\n",
    "    u=u[:len(u)-1]\n",
    "  # check if there is just one unit if so then set diff=1\n",
    "  if q == \"a\":\n",
    "    diff=time_map[u]\n",
    "  # if the number is not one then multiply the q by the map_key entry for u\n",
    "  else:\n",
    "    #safe cast\n",
    "    try:\n",
    "      diff=time_map[u]*int(q)\n",
    "    except:\n",
    "      print(\"ERROR\")\n",
    "      return 0\n",
    "  # convert dt to utc timestamp\n",
    "  dt=dt-datetime.timedelta(hours=diff)\n",
    "  timestamp = dt.replace(tzinfo=datetime.timezone.utc).timestamp()\n",
    "  return timestamp"
   ]
  },
  {
   "cell_type": "code",
   "execution_count": 50,
   "metadata": {},
   "outputs": [
    {
     "name": "stdout",
     "output_type": "stream",
     "text": "1551463200.0\n"
    }
   ],
   "source": [
    "# making sure that it works how i want it to\n",
    "testvalue=df['time_published'].iloc[0]\n",
    "print(human_to_dt(testvalue))\n",
    "del testvalue"
   ]
  },
  {
   "cell_type": "code",
   "execution_count": 51,
   "metadata": {},
   "outputs": [],
   "source": [
    "# apply changes to df\n",
    "df['time_published']=df['time_published'].apply(human_to_dt)"
   ]
  },
  {
   "cell_type": "markdown",
   "metadata": {
    "colab_type": "text",
    "id": "1O5DlblZE6sg"
   },
   "source": [
    "## more data cleaning to drop columns that i dont need anymore"
   ]
  },
  {
   "cell_type": "code",
   "execution_count": 52,
   "metadata": {},
   "outputs": [
    {
     "data": {
      "text/html": "<div>\n<style scoped>\n    .dataframe tbody tr th:only-of-type {\n        vertical-align: middle;\n    }\n\n    .dataframe tbody tr th {\n        vertical-align: top;\n    }\n\n    .dataframe thead th {\n        text-align: right;\n    }\n</style>\n<table border=\"1\" class=\"dataframe\">\n  <thead>\n    <tr style=\"text-align: right;\">\n      <th></th>\n      <th>web-scraper-order</th>\n      <th>web-scraper-start-url</th>\n      <th>name</th>\n      <th>review</th>\n      <th>review_content</th>\n      <th>time_published</th>\n      <th>owner_response</th>\n      <th>owner_response_time</th>\n      <th>geo</th>\n    </tr>\n  </thead>\n  <tbody>\n    <tr>\n      <td>0</td>\n      <td>1583045461-1042</td>\n      <td>https://www.google.com/maps/place/Cal'z+Pizza+...</td>\n      <td>Jeanette Zeeb</td>\n      <td>3</td>\n      <td>It's ok</td>\n      <td>1.551463e+09</td>\n      <td>Response from the owner</td>\n      <td>a year ago</td>\n      <td>[36.9181643, -76.2003157]</td>\n    </tr>\n    <tr>\n      <td>1</td>\n      <td>1583045296-198</td>\n      <td>https://www.google.com/maps/place/Cal'z+Pizza/...</td>\n      <td>Deanna Frantzen</td>\n      <td>5</td>\n      <td>Great food and amazing staff</td>\n      <td>1.551463e+09</td>\n      <td>NaN</td>\n      <td>NaN</td>\n      <td>[36.8565404, -75.9934831]</td>\n    </tr>\n    <tr>\n      <td>2</td>\n      <td>1583045434-829</td>\n      <td>https://www.google.com/maps/place/Cal'z+Pizza/...</td>\n      <td>Monique Shontae</td>\n      <td>1</td>\n      <td>Order a tuna cheese sub Friday night.. It had ...</td>\n      <td>1.551463e+09</td>\n      <td>NaN</td>\n      <td>NaN</td>\n      <td>[36.8892982, -76.2401211]</td>\n    </tr>\n    <tr>\n      <td>3</td>\n      <td>1583045434-869</td>\n      <td>https://www.google.com/maps/place/Cal'z+Pizza/...</td>\n      <td>Annie Cheeks</td>\n      <td>5</td>\n      <td>Great service with a smile, the young man was ...</td>\n      <td>1.519906e+09</td>\n      <td>NaN</td>\n      <td>NaN</td>\n      <td>[36.8892982, -76.2401211]</td>\n    </tr>\n    <tr>\n      <td>4</td>\n      <td>1583045434-899</td>\n      <td>https://www.google.com/maps/place/Cal'z+Pizza/...</td>\n      <td>mattthew kinnard</td>\n      <td>4</td>\n      <td>Good pizza</td>\n      <td>1.519906e+09</td>\n      <td>NaN</td>\n      <td>NaN</td>\n      <td>[36.8892982, -76.2401211]</td>\n    </tr>\n  </tbody>\n</table>\n</div>",
      "text/plain": "  web-scraper-order                              web-scraper-start-url  \\\n0   1583045461-1042  https://www.google.com/maps/place/Cal'z+Pizza+...   \n1    1583045296-198  https://www.google.com/maps/place/Cal'z+Pizza/...   \n2    1583045434-829  https://www.google.com/maps/place/Cal'z+Pizza/...   \n3    1583045434-869  https://www.google.com/maps/place/Cal'z+Pizza/...   \n4    1583045434-899  https://www.google.com/maps/place/Cal'z+Pizza/...   \n\n               name  review  \\\n0     Jeanette Zeeb       3   \n1   Deanna Frantzen       5   \n2   Monique Shontae       1   \n3      Annie Cheeks       5   \n4  mattthew kinnard       4   \n\n                                      review_content  time_published  \\\n0                                            It's ok    1.551463e+09   \n1                       Great food and amazing staff    1.551463e+09   \n2  Order a tuna cheese sub Friday night.. It had ...    1.551463e+09   \n3  Great service with a smile, the young man was ...    1.519906e+09   \n4                                         Good pizza    1.519906e+09   \n\n            owner_response owner_response_time                        geo  \n0  Response from the owner          a year ago  [36.9181643, -76.2003157]  \n1                      NaN                 NaN  [36.8565404, -75.9934831]  \n2                      NaN                 NaN  [36.8892982, -76.2401211]  \n3                      NaN                 NaN  [36.8892982, -76.2401211]  \n4                      NaN                 NaN  [36.8892982, -76.2401211]  "
     },
     "execution_count": 52,
     "metadata": {},
     "output_type": "execute_result"
    }
   ],
   "source": [
    "df.head()"
   ]
  },
  {
   "cell_type": "code",
   "execution_count": 53,
   "metadata": {},
   "outputs": [
    {
     "data": {
      "text/html": "<div>\n<style scoped>\n    .dataframe tbody tr th:only-of-type {\n        vertical-align: middle;\n    }\n\n    .dataframe tbody tr th {\n        vertical-align: top;\n    }\n\n    .dataframe thead th {\n        text-align: right;\n    }\n</style>\n<table border=\"1\" class=\"dataframe\">\n  <thead>\n    <tr style=\"text-align: right;\">\n      <th></th>\n      <th>web-scraper-order</th>\n      <th>web-scraper-start-url</th>\n      <th>name</th>\n      <th>address</th>\n      <th>rating</th>\n      <th>num_to_rate</th>\n      <th>geo</th>\n    </tr>\n  </thead>\n  <tbody>\n    <tr>\n      <td>0</td>\n      <td>1583044594-2</td>\n      <td>https://www.google.com/maps/search/calz+pizza/...</td>\n      <td>Cal'z Pizza</td>\n      <td>3678 Sewells Point Rd</td>\n      <td>4.0</td>\n      <td>322</td>\n      <td>[36.8599294, -76.1147392]</td>\n    </tr>\n    <tr>\n      <td>1</td>\n      <td>1583044594-5</td>\n      <td>https://www.google.com/maps/search/calz+pizza/...</td>\n      <td>Cal'z Pizza</td>\n      <td>3324 Holland Road</td>\n      <td>4.0</td>\n      <td>192</td>\n      <td>[36.8599294, -76.1147392]</td>\n    </tr>\n    <tr>\n      <td>2</td>\n      <td>1583044594-7</td>\n      <td>https://www.google.com/maps/search/calz+pizza/...</td>\n      <td>Cal'z Pizza</td>\n      <td>1009 Laskin Rd</td>\n      <td>4.2</td>\n      <td>251</td>\n      <td>[36.8599294, -76.1147392]</td>\n    </tr>\n    <tr>\n      <td>3</td>\n      <td>1583044594-4</td>\n      <td>https://www.google.com/maps/search/calz+pizza/...</td>\n      <td>Cal'z Pizza</td>\n      <td>5280 Princess Anne Rd</td>\n      <td>4.4</td>\n      <td>165</td>\n      <td>[36.8599294, -76.1147392]</td>\n    </tr>\n    <tr>\n      <td>4</td>\n      <td>1583044594-9</td>\n      <td>https://www.google.com/maps/search/calz+pizza/...</td>\n      <td>Cal'z Pizza</td>\n      <td>624 Independence Blvd</td>\n      <td>3.9</td>\n      <td>133</td>\n      <td>[36.8599294, -76.1147392]</td>\n    </tr>\n  </tbody>\n</table>\n</div>",
      "text/plain": "  web-scraper-order                              web-scraper-start-url  \\\n0      1583044594-2  https://www.google.com/maps/search/calz+pizza/...   \n1      1583044594-5  https://www.google.com/maps/search/calz+pizza/...   \n2      1583044594-7  https://www.google.com/maps/search/calz+pizza/...   \n3      1583044594-4  https://www.google.com/maps/search/calz+pizza/...   \n4      1583044594-9  https://www.google.com/maps/search/calz+pizza/...   \n\n          name                address  rating num_to_rate  \\\n0  Cal'z Pizza  3678 Sewells Point Rd     4.0         322   \n1  Cal'z Pizza      3324 Holland Road     4.0         192   \n2  Cal'z Pizza         1009 Laskin Rd     4.2         251   \n3  Cal'z Pizza  5280 Princess Anne Rd     4.4         165   \n4  Cal'z Pizza  624 Independence Blvd     3.9         133   \n\n                         geo  \n0  [36.8599294, -76.1147392]  \n1  [36.8599294, -76.1147392]  \n2  [36.8599294, -76.1147392]  \n3  [36.8599294, -76.1147392]  \n4  [36.8599294, -76.1147392]  "
     },
     "execution_count": 53,
     "metadata": {},
     "output_type": "execute_result"
    }
   ],
   "source": [
    "df_labels.head()"
   ]
  },
  {
   "cell_type": "code",
   "execution_count": 54,
   "metadata": {},
   "outputs": [],
   "source": [
    "# going to drop internal scraper columns that dont add context for the information\n",
    "# that is provided by them\n",
    "df=df.drop(['web-scraper-order','web-scraper-start-url'],axis=1)\n",
    "df_labels=df_labels.drop(['web-scraper-order','web-scraper-start-url'],axis=1)"
   ]
  },
  {
   "cell_type": "markdown",
   "metadata": {
    "colab_type": "text",
    "id": "jc9uP7N8GKeQ"
   },
   "source": [
    "##merging df's based on geo codes"
   ]
  },
  {
   "cell_type": "code",
   "execution_count": 55,
   "metadata": {},
   "outputs": [],
   "source": [
    "# but first i have to cast and round existing geo codes in both df's because\n",
    "# google does such a great job at consitency\n",
    "\n",
    "# define a function that reurns a tuple of rounded floates from the geo tags\n",
    "# going with 3 signifigant figures since that equates to 110m and none of the \n",
    "# stores are that close\n",
    "def clean_geos(x):\n",
    "  out=[round(float(x[0]),2),round(float(x[1]),2)]\n",
    "  return out\n",
    "  \n",
    "# self explainitory\n",
    "def sep_lat(x):\n",
    "  return x[0]\n",
    "def sep_long(x):\n",
    "  return x[1]\n"
   ]
  },
  {
   "cell_type": "code",
   "execution_count": 56,
   "metadata": {},
   "outputs": [],
   "source": [
    "# make changes to df's\n",
    "df['geo']=df['geo'].apply(clean_geos)\n",
    "df_labels['geo']=df_labels['geo'].apply(clean_geos)"
   ]
  },
  {
   "cell_type": "code",
   "execution_count": 57,
   "metadata": {},
   "outputs": [],
   "source": [
    "# add latitude and longitude columns\n",
    "df['latitude']=df['geo'].apply(sep_lat)\n",
    "df_labels['latitude']=df_labels['geo'].apply(sep_lat)\n",
    "df['longitude']=df['geo'].apply(sep_long)\n",
    "df_labels['longitude']=df_labels['geo'].apply(sep_long)"
   ]
  },
  {
   "cell_type": "code",
   "execution_count": 58,
   "metadata": {},
   "outputs": [
    {
     "data": {
      "text/html": "<div>\n<style scoped>\n    .dataframe tbody tr th:only-of-type {\n        vertical-align: middle;\n    }\n\n    .dataframe tbody tr th {\n        vertical-align: top;\n    }\n\n    .dataframe thead th {\n        text-align: right;\n    }\n</style>\n<table border=\"1\" class=\"dataframe\">\n  <thead>\n    <tr style=\"text-align: right;\">\n      <th></th>\n      <th>name</th>\n      <th>address</th>\n      <th>rating</th>\n      <th>num_to_rate</th>\n      <th>geo</th>\n      <th>latitude</th>\n      <th>longitude</th>\n    </tr>\n  </thead>\n  <tbody>\n    <tr>\n      <td>0</td>\n      <td>Cal'z Pizza</td>\n      <td>3678 Sewells Point Rd</td>\n      <td>4.0</td>\n      <td>322</td>\n      <td>[36.86, -76.11]</td>\n      <td>36.86</td>\n      <td>-76.11</td>\n    </tr>\n    <tr>\n      <td>1</td>\n      <td>Cal'z Pizza</td>\n      <td>3324 Holland Road</td>\n      <td>4.0</td>\n      <td>192</td>\n      <td>[36.86, -76.11]</td>\n      <td>36.86</td>\n      <td>-76.11</td>\n    </tr>\n    <tr>\n      <td>2</td>\n      <td>Cal'z Pizza</td>\n      <td>1009 Laskin Rd</td>\n      <td>4.2</td>\n      <td>251</td>\n      <td>[36.86, -76.11]</td>\n      <td>36.86</td>\n      <td>-76.11</td>\n    </tr>\n    <tr>\n      <td>3</td>\n      <td>Cal'z Pizza</td>\n      <td>5280 Princess Anne Rd</td>\n      <td>4.4</td>\n      <td>165</td>\n      <td>[36.86, -76.11]</td>\n      <td>36.86</td>\n      <td>-76.11</td>\n    </tr>\n    <tr>\n      <td>4</td>\n      <td>Cal'z Pizza</td>\n      <td>624 Independence Blvd</td>\n      <td>3.9</td>\n      <td>133</td>\n      <td>[36.86, -76.11]</td>\n      <td>36.86</td>\n      <td>-76.11</td>\n    </tr>\n  </tbody>\n</table>\n</div>",
      "text/plain": "          name                address  rating num_to_rate              geo  \\\n0  Cal'z Pizza  3678 Sewells Point Rd     4.0         322  [36.86, -76.11]   \n1  Cal'z Pizza      3324 Holland Road     4.0         192  [36.86, -76.11]   \n2  Cal'z Pizza         1009 Laskin Rd     4.2         251  [36.86, -76.11]   \n3  Cal'z Pizza  5280 Princess Anne Rd     4.4         165  [36.86, -76.11]   \n4  Cal'z Pizza  624 Independence Blvd     3.9         133  [36.86, -76.11]   \n\n   latitude  longitude  \n0     36.86     -76.11  \n1     36.86     -76.11  \n2     36.86     -76.11  \n3     36.86     -76.11  \n4     36.86     -76.11  "
     },
     "execution_count": 58,
     "metadata": {},
     "output_type": "execute_result"
    }
   ],
   "source": [
    "df_labels.head()"
   ]
  },
  {
   "cell_type": "code",
   "execution_count": 59,
   "metadata": {},
   "outputs": [
    {
     "data": {
      "text/html": "<div>\n<style scoped>\n    .dataframe tbody tr th:only-of-type {\n        vertical-align: middle;\n    }\n\n    .dataframe tbody tr th {\n        vertical-align: top;\n    }\n\n    .dataframe thead th {\n        text-align: right;\n    }\n</style>\n<table border=\"1\" class=\"dataframe\">\n  <thead>\n    <tr style=\"text-align: right;\">\n      <th></th>\n      <th>name</th>\n      <th>review</th>\n      <th>review_content</th>\n      <th>time_published</th>\n      <th>owner_response</th>\n      <th>owner_response_time</th>\n      <th>geo</th>\n      <th>latitude</th>\n      <th>longitude</th>\n    </tr>\n  </thead>\n  <tbody>\n    <tr>\n      <td>0</td>\n      <td>Jeanette Zeeb</td>\n      <td>3</td>\n      <td>It's ok</td>\n      <td>1.551463e+09</td>\n      <td>Response from the owner</td>\n      <td>a year ago</td>\n      <td>[36.92, -76.2]</td>\n      <td>36.92</td>\n      <td>-76.20</td>\n    </tr>\n    <tr>\n      <td>1</td>\n      <td>Deanna Frantzen</td>\n      <td>5</td>\n      <td>Great food and amazing staff</td>\n      <td>1.551463e+09</td>\n      <td>NaN</td>\n      <td>NaN</td>\n      <td>[36.86, -75.99]</td>\n      <td>36.86</td>\n      <td>-75.99</td>\n    </tr>\n    <tr>\n      <td>2</td>\n      <td>Monique Shontae</td>\n      <td>1</td>\n      <td>Order a tuna cheese sub Friday night.. It had ...</td>\n      <td>1.551463e+09</td>\n      <td>NaN</td>\n      <td>NaN</td>\n      <td>[36.89, -76.24]</td>\n      <td>36.89</td>\n      <td>-76.24</td>\n    </tr>\n    <tr>\n      <td>3</td>\n      <td>Annie Cheeks</td>\n      <td>5</td>\n      <td>Great service with a smile, the young man was ...</td>\n      <td>1.519906e+09</td>\n      <td>NaN</td>\n      <td>NaN</td>\n      <td>[36.89, -76.24]</td>\n      <td>36.89</td>\n      <td>-76.24</td>\n    </tr>\n    <tr>\n      <td>4</td>\n      <td>mattthew kinnard</td>\n      <td>4</td>\n      <td>Good pizza</td>\n      <td>1.519906e+09</td>\n      <td>NaN</td>\n      <td>NaN</td>\n      <td>[36.89, -76.24]</td>\n      <td>36.89</td>\n      <td>-76.24</td>\n    </tr>\n  </tbody>\n</table>\n</div>",
      "text/plain": "               name  review  \\\n0     Jeanette Zeeb       3   \n1   Deanna Frantzen       5   \n2   Monique Shontae       1   \n3      Annie Cheeks       5   \n4  mattthew kinnard       4   \n\n                                      review_content  time_published  \\\n0                                            It's ok    1.551463e+09   \n1                       Great food and amazing staff    1.551463e+09   \n2  Order a tuna cheese sub Friday night.. It had ...    1.551463e+09   \n3  Great service with a smile, the young man was ...    1.519906e+09   \n4                                         Good pizza    1.519906e+09   \n\n            owner_response owner_response_time              geo  latitude  \\\n0  Response from the owner          a year ago   [36.92, -76.2]     36.92   \n1                      NaN                 NaN  [36.86, -75.99]     36.86   \n2                      NaN                 NaN  [36.89, -76.24]     36.89   \n3                      NaN                 NaN  [36.89, -76.24]     36.89   \n4                      NaN                 NaN  [36.89, -76.24]     36.89   \n\n   longitude  \n0     -76.20  \n1     -75.99  \n2     -76.24  \n3     -76.24  \n4     -76.24  "
     },
     "execution_count": 59,
     "metadata": {},
     "output_type": "execute_result"
    }
   ],
   "source": [
    "df.head()"
   ]
  },
  {
   "cell_type": "code",
   "execution_count": 27,
   "metadata": {},
   "outputs": [],
   "source": [
    "# drop some more columns that are a pain in my ass\n",
    "df=df.drop('geo',axis=1)\n",
    "df_labels=df_labels.drop('geo',axis=1)\n",
    "\n",
    "# merge data frames which will map the store the customer\n",
    "test=df.merge(df_labels,on=['latitude','longitude'])"
   ]
  },
  {
   "cell_type": "code",
   "execution_count": 60,
   "metadata": {},
   "outputs": [
    {
     "name": "stdout",
     "output_type": "stream",
     "text": "36.80    241\n36.89    193\n36.93    168\n36.86    151\n36.92    103\n36.83     99\n36.85     86\nName: latitude, dtype: int64\n36.86    9\nName: latitude, dtype: int64\n"
    }
   ],
   "source": [
    "print(df['latitude'].value_counts())\n",
    "print(df_labels['latitude'].value_counts())"
   ]
  },
  {
   "cell_type": "code",
   "execution_count": 61,
   "metadata": {},
   "outputs": [
    {
     "data": {
      "text/plain": "0    3\n1    5\n2    1\n3    5\n4    4\nName: review, dtype: int64"
     },
     "execution_count": 61,
     "metadata": {},
     "output_type": "execute_result"
    }
   ],
   "source": [
    "# grab a random sample to see what the dataframe looks like\n",
    "test.head()"
   ]
  },
  {
   "cell_type": "markdown",
   "metadata": {
    "colab_type": "text",
    "id": "Tvv4d72-SfKt"
   },
   "source": [
    "##**I think thats gonna be good for this dataset, lets do some house keeping and export it to a file to use**"
   ]
  },
  {
   "cell_type": "code",
   "execution_count": 89,
   "metadata": {
    "colab": {
     "base_uri": "https://localhost:8080/",
     "height": 34
    },
    "colab_type": "code",
    "id": "eXsumWyqNdVZ",
    "outputId": "d86ccd31-7b8e-4496-9761-9923f93bf6ac"
   },
   "outputs": [
    {
     "name": "stdout",
     "output_type": "stream",
     "text": [
      "['customer_name', 'time', 'review_content', 'review_rating', 'latitude', 'longitude', 'store_name', 'store_rating', 'store_address', 'tot_num_rate']\n"
     ]
    }
   ],
   "source": [
    "print(test.columns.to_list())"
   ]
  },
  {
   "cell_type": "code",
   "execution_count": 0,
   "metadata": {
    "colab": {},
    "colab_type": "code",
    "id": "SDH0TG6IQRoP"
   },
   "outputs": [],
   "source": [
    "# rename my columns to something easier then x_name y_name ect\n",
    "df=test\n",
    "perfered_names=['customer_name', 'time', 'review_content', 'review_rating', 'latitude',\n",
    " 'longitude', 'store_name', 'store_rating', 'store_address', 'tot_num_rate']\n",
    "df.columns=perfered_names\n"
   ]
  },
  {
   "cell_type": "code",
   "execution_count": 88,
   "metadata": {
    "colab": {
     "base_uri": "https://localhost:8080/",
     "height": 187
    },
    "colab_type": "code",
    "id": "ofblrQe8TiDJ",
    "outputId": "db552d4d-02c8-4a2f-941b-3a73a55e1c37"
   },
   "outputs": [
    {
     "data": {
      "text/plain": [
       "['customer_name',\n",
       " 'time',\n",
       " 'review_content',\n",
       " 'review_rating',\n",
       " 'latitude',\n",
       " 'longitude',\n",
       " 'store_name',\n",
       " 'store_rating',\n",
       " 'store_address',\n",
       " 'tot_num_rate']"
      ]
     },
     "execution_count": 88,
     "metadata": {
      "tags": []
     },
     "output_type": "execute_result"
    }
   ],
   "source": [
    "df.columns.to_list()"
   ]
  },
  {
   "cell_type": "code",
   "execution_count": 0,
   "metadata": {
    "colab": {},
    "colab_type": "code",
    "id": "E0Bdw0f4UYGE"
   },
   "outputs": [],
   "source": [
    "perf_order=['time',\n",
    "            'customer_name',\n",
    "            'review_content',\n",
    "            'review_rating',\n",
    "            'store_name',\n",
    "            'store_rating',\n",
    "            'store_address',\n",
    "            'tot_num_rate',\n",
    "            'latitude',\n",
    "            'longitude']\n",
    "df=df[perf_order]"
   ]
  },
  {
   "cell_type": "code",
   "execution_count": 91,
   "metadata": {
    "colab": {
     "base_uri": "https://localhost:8080/",
     "height": 204
    },
    "colab_type": "code",
    "id": "co6vTHSRVtGY",
    "outputId": "99b8d6b7-f29c-48c7-f242-9e7c59a73227"
   },
   "outputs": [
    {
     "data": {
      "text/html": [
       "<div>\n",
       "<style scoped>\n",
       "    .dataframe tbody tr th:only-of-type {\n",
       "        vertical-align: middle;\n",
       "    }\n",
       "\n",
       "    .dataframe tbody tr th {\n",
       "        vertical-align: top;\n",
       "    }\n",
       "\n",
       "    .dataframe thead th {\n",
       "        text-align: right;\n",
       "    }\n",
       "</style>\n",
       "<table border=\"1\" class=\"dataframe\">\n",
       "  <thead>\n",
       "    <tr style=\"text-align: right;\">\n",
       "      <th></th>\n",
       "      <th>time</th>\n",
       "      <th>customer_name</th>\n",
       "      <th>review_content</th>\n",
       "      <th>review_rating</th>\n",
       "      <th>store_name</th>\n",
       "      <th>store_rating</th>\n",
       "      <th>store_address</th>\n",
       "      <th>tot_num_rate</th>\n",
       "      <th>latitude</th>\n",
       "      <th>longitude</th>\n",
       "    </tr>\n",
       "  </thead>\n",
       "  <tbody>\n",
       "    <tr>\n",
       "      <th>0</th>\n",
       "      <td>1.581293e+09</td>\n",
       "      <td>lauren sams</td>\n",
       "      <td>Great and fast service with excellent food.</td>\n",
       "      <td>5</td>\n",
       "      <td>Chanello's Pizza #33</td>\n",
       "      <td>3.1</td>\n",
       "      <td>1122 George Washington Hwy N</td>\n",
       "      <td>124</td>\n",
       "      <td>36.782</td>\n",
       "      <td>-76.338</td>\n",
       "    </tr>\n",
       "    <tr>\n",
       "      <th>1</th>\n",
       "      <td>1.550945e+09</td>\n",
       "      <td>Krys Peirce</td>\n",
       "      <td>NaN</td>\n",
       "      <td>1</td>\n",
       "      <td>Chanello's Pizza #33</td>\n",
       "      <td>3.1</td>\n",
       "      <td>1122 George Washington Hwy N</td>\n",
       "      <td>124</td>\n",
       "      <td>36.782</td>\n",
       "      <td>-76.338</td>\n",
       "    </tr>\n",
       "    <tr>\n",
       "      <th>2</th>\n",
       "      <td>1.550945e+09</td>\n",
       "      <td>Janel Brosseit</td>\n",
       "      <td>This rating goes more towards the food. Just r...</td>\n",
       "      <td>2</td>\n",
       "      <td>Chanello's Pizza #33</td>\n",
       "      <td>3.1</td>\n",
       "      <td>1122 George Washington Hwy N</td>\n",
       "      <td>124</td>\n",
       "      <td>36.782</td>\n",
       "      <td>-76.338</td>\n",
       "    </tr>\n",
       "    <tr>\n",
       "      <th>3</th>\n",
       "      <td>1.580593e+09</td>\n",
       "      <td>Ashley Heater</td>\n",
       "      <td>NaN</td>\n",
       "      <td>4</td>\n",
       "      <td>Chanello's Pizza #33</td>\n",
       "      <td>3.1</td>\n",
       "      <td>1122 George Washington Hwy N</td>\n",
       "      <td>124</td>\n",
       "      <td>36.782</td>\n",
       "      <td>-76.338</td>\n",
       "    </tr>\n",
       "    <tr>\n",
       "      <th>4</th>\n",
       "      <td>1.456272e+09</td>\n",
       "      <td>Alexandra Kehl</td>\n",
       "      <td>Waited over an hour for our food, then the man...</td>\n",
       "      <td>1</td>\n",
       "      <td>Chanello's Pizza #33</td>\n",
       "      <td>3.1</td>\n",
       "      <td>1122 George Washington Hwy N</td>\n",
       "      <td>124</td>\n",
       "      <td>36.782</td>\n",
       "      <td>-76.338</td>\n",
       "    </tr>\n",
       "  </tbody>\n",
       "</table>\n",
       "</div>"
      ],
      "text/plain": [
       "           time   customer_name  ... latitude  longitude\n",
       "0  1.581293e+09     lauren sams  ...   36.782    -76.338\n",
       "1  1.550945e+09     Krys Peirce  ...   36.782    -76.338\n",
       "2  1.550945e+09  Janel Brosseit  ...   36.782    -76.338\n",
       "3  1.580593e+09   Ashley Heater  ...   36.782    -76.338\n",
       "4  1.456272e+09  Alexandra Kehl  ...   36.782    -76.338\n",
       "\n",
       "[5 rows x 10 columns]"
      ]
     },
     "execution_count": 91,
     "metadata": {
      "tags": []
     },
     "output_type": "execute_result"
    }
   ],
   "source": [
    "df.head()"
   ]
  },
  {
   "cell_type": "code",
   "execution_count": 0,
   "metadata": {
    "colab": {},
    "colab_type": "code",
    "id": "8QmfL5VyVvmd"
   },
   "outputs": [],
   "source": [
    "df.to_csv('/content/chanellosfinal.csv')"
   ]
  },
  {
   "cell_type": "code",
   "execution_count": 0,
   "metadata": {
    "colab": {},
    "colab_type": "code",
    "id": "fh_fSaCjV_5f"
   },
   "outputs": [],
   "source": []
  }
 ],
 "metadata": {
  "colab": {
   "authorship_tag": "ABX9TyP327QjZWuFNT5M1GkhAdXs",
   "collapsed_sections": [],
   "include_colab_link": true,
   "name": "check_scrape.ipynb",
   "provenance": []
  },
  "kernelspec": {
   "display_name": "Python 3",
   "language": "python3",
   "name": "python3"
  },
  "language_info": {
   "codemirror_mode": {
    "name": "ipython",
    "version": 3
   },
   "file_extension": ".py",
   "mimetype": "text/x-python",
   "name": "python",
   "nbconvert_exporter": "python",
   "pygments_lexer": "ipython3",
   "version": "3.7.4-final"
  }
 },
 "nbformat": 4,
 "nbformat_minor": 1
}