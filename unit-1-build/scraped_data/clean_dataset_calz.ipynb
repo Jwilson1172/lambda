{
 "cells": [
  {
   "cell_type": "code",
   "execution_count": 5,
   "metadata": {},
   "outputs": [],
   "source": [
    "import numpy as np\n",
    "import pandas as pd\n",
    "import matplotlib.pyplot as plt\n",
    "\n",
    "#used to change all the relive dates to datetimes\n",
    "import datetime\n",
    "\n",
    "# this in important because the time stamps in the dataset are relitive to when they were scraped\n",
    "DATE_SCRAPED=\"03-1-2020\""
   ]
  },
  {
   "cell_type": "code",
   "execution_count": 6,
   "metadata": {},
   "outputs": [],
   "source": [
    "# read in the data frame that has my scrapped content\n",
    "df=pd.read_csv('calz_reviews_content.csv')\n",
    "df_labels=pd.read_csv('calz_labels.csv')\n"
   ]
  },
  {
   "cell_type": "markdown",
   "metadata": {
    "colab_type": "text",
    "id": "yjnm1DkV3CMS"
   },
   "source": [
    "# **EDA**"
   ]
  },
  {
   "cell_type": "code",
   "execution_count": 7,
   "metadata": {},
   "outputs": [
    {
     "name": "stdout",
     "output_type": "stream",
     "text": "(1041, 8)\n"
    },
    {
     "data": {
      "text/html": "<div>\n<style scoped>\n    .dataframe tbody tr th:only-of-type {\n        vertical-align: middle;\n    }\n\n    .dataframe tbody tr th {\n        vertical-align: top;\n    }\n\n    .dataframe thead th {\n        text-align: right;\n    }\n</style>\n<table border=\"1\" class=\"dataframe\">\n  <thead>\n    <tr style=\"text-align: right;\">\n      <th></th>\n      <th>web-scraper-order</th>\n      <th>web-scraper-start-url</th>\n      <th>name</th>\n      <th>review</th>\n      <th>review_content</th>\n      <th>time_published</th>\n      <th>owner_response</th>\n      <th>owner_response_time</th>\n    </tr>\n  </thead>\n  <tbody>\n    <tr>\n      <td>0</td>\n      <td>1583045461-1042</td>\n      <td>https://www.google.com/maps/place/Cal'z+Pizza+...</td>\n      <td>Jeanette Zeeb</td>\n      <td>&lt;span jstcache=\"293\" jsinstance=\"0\" class=\"sec...</td>\n      <td>It's ok</td>\n      <td>a year ago</td>\n      <td>Response from the owner</td>\n      <td>a year ago</td>\n    </tr>\n    <tr>\n      <td>1</td>\n      <td>1583045296-198</td>\n      <td>https://www.google.com/maps/place/Cal'z+Pizza/...</td>\n      <td>Deanna Frantzen</td>\n      <td>&lt;span jstcache=\"293\" jsinstance=\"0\" class=\"sec...</td>\n      <td>Great food and amazing staff</td>\n      <td>a year ago</td>\n      <td>NaN</td>\n      <td>NaN</td>\n    </tr>\n    <tr>\n      <td>2</td>\n      <td>1583045434-829</td>\n      <td>https://www.google.com/maps/place/Cal'z+Pizza/...</td>\n      <td>Monique Shontae</td>\n      <td>&lt;span jstcache=\"293\" jsinstance=\"0\" class=\"sec...</td>\n      <td>Order a tuna cheese sub Friday night.. It had ...</td>\n      <td>a year ago</td>\n      <td>NaN</td>\n      <td>NaN</td>\n    </tr>\n    <tr>\n      <td>3</td>\n      <td>1583045434-869</td>\n      <td>https://www.google.com/maps/place/Cal'z+Pizza/...</td>\n      <td>Annie Cheeks</td>\n      <td>&lt;span jstcache=\"293\" jsinstance=\"0\" class=\"sec...</td>\n      <td>Great service with a smile, the young man was ...</td>\n      <td>2 years ago</td>\n      <td>NaN</td>\n      <td>NaN</td>\n    </tr>\n    <tr>\n      <td>4</td>\n      <td>1583045434-899</td>\n      <td>https://www.google.com/maps/place/Cal'z+Pizza/...</td>\n      <td>mattthew kinnard</td>\n      <td>&lt;span jstcache=\"293\" jsinstance=\"0\" class=\"sec...</td>\n      <td>Good pizza</td>\n      <td>2 years ago</td>\n      <td>NaN</td>\n      <td>NaN</td>\n    </tr>\n  </tbody>\n</table>\n</div>",
      "text/plain": "  web-scraper-order                              web-scraper-start-url  \\\n0   1583045461-1042  https://www.google.com/maps/place/Cal'z+Pizza+...   \n1    1583045296-198  https://www.google.com/maps/place/Cal'z+Pizza/...   \n2    1583045434-829  https://www.google.com/maps/place/Cal'z+Pizza/...   \n3    1583045434-869  https://www.google.com/maps/place/Cal'z+Pizza/...   \n4    1583045434-899  https://www.google.com/maps/place/Cal'z+Pizza/...   \n\n               name                                             review  \\\n0     Jeanette Zeeb  <span jstcache=\"293\" jsinstance=\"0\" class=\"sec...   \n1   Deanna Frantzen  <span jstcache=\"293\" jsinstance=\"0\" class=\"sec...   \n2   Monique Shontae  <span jstcache=\"293\" jsinstance=\"0\" class=\"sec...   \n3      Annie Cheeks  <span jstcache=\"293\" jsinstance=\"0\" class=\"sec...   \n4  mattthew kinnard  <span jstcache=\"293\" jsinstance=\"0\" class=\"sec...   \n\n                                      review_content time_published  \\\n0                                            It's ok     a year ago   \n1                       Great food and amazing staff     a year ago   \n2  Order a tuna cheese sub Friday night.. It had ...     a year ago   \n3  Great service with a smile, the young man was ...    2 years ago   \n4                                         Good pizza    2 years ago   \n\n            owner_response owner_response_time  \n0  Response from the owner          a year ago  \n1                      NaN                 NaN  \n2                      NaN                 NaN  \n3                      NaN                 NaN  \n4                      NaN                 NaN  "
     },
     "execution_count": 7,
     "metadata": {},
     "output_type": "execute_result"
    }
   ],
   "source": [
    "# inspect head @TODO DROP NAME COL\n",
    "print(df.shape)\n",
    "df.head()\n"
   ]
  },
  {
   "cell_type": "code",
   "execution_count": 8,
   "metadata": {},
   "outputs": [
    {
     "name": "stdout",
     "output_type": "stream",
     "text": "(9, 6)\n"
    },
    {
     "data": {
      "text/html": "<div>\n<style scoped>\n    .dataframe tbody tr th:only-of-type {\n        vertical-align: middle;\n    }\n\n    .dataframe tbody tr th {\n        vertical-align: top;\n    }\n\n    .dataframe thead th {\n        text-align: right;\n    }\n</style>\n<table border=\"1\" class=\"dataframe\">\n  <thead>\n    <tr style=\"text-align: right;\">\n      <th></th>\n      <th>web-scraper-order</th>\n      <th>web-scraper-start-url</th>\n      <th>name</th>\n      <th>address</th>\n      <th>rating</th>\n      <th>num_to_rate</th>\n    </tr>\n  </thead>\n  <tbody>\n    <tr>\n      <td>0</td>\n      <td>1583044594-2</td>\n      <td>https://www.google.com/maps/place/Cal'z+Pizza+...</td>\n      <td>Cal'z Pizza</td>\n      <td>3678 Sewells Point Rd</td>\n      <td>4.0</td>\n      <td>-322</td>\n    </tr>\n    <tr>\n      <td>1</td>\n      <td>1583044594-5</td>\n      <td>https://www.google.com/maps/place/Cal'z+Pizza/...</td>\n      <td>Cal'z Pizza</td>\n      <td>3324 Holland Road</td>\n      <td>4.0</td>\n      <td>-192</td>\n    </tr>\n    <tr>\n      <td>2</td>\n      <td>1583044594-7</td>\n      <td>https://www.google.com/maps/place/Cal'z+Pizza/...</td>\n      <td>Cal'z Pizza</td>\n      <td>1009 Laskin Rd</td>\n      <td>4.2</td>\n      <td>-251</td>\n    </tr>\n    <tr>\n      <td>3</td>\n      <td>1583044594-4</td>\n      <td>https://www.google.com/maps/place/Cal'z+Pizza/...</td>\n      <td>Cal'z Pizza</td>\n      <td>5280 Princess Anne Rd</td>\n      <td>4.4</td>\n      <td>-165</td>\n    </tr>\n    <tr>\n      <td>4</td>\n      <td>1583044594-9</td>\n      <td>https://www.google.com/maps/place/Cal'z+Pizza/...</td>\n      <td>Cal'z Pizza</td>\n      <td>624 Independence Blvd</td>\n      <td>3.9</td>\n      <td>-133</td>\n    </tr>\n    <tr>\n      <td>5</td>\n      <td>1583044594-3</td>\n      <td>https://www.google.com/maps/place/Cal'z+Pizza,...</td>\n      <td>Cal'z Pizza</td>\n      <td>738 E Bayview Blvd</td>\n      <td>4.1</td>\n      <td>-160</td>\n    </tr>\n    <tr>\n      <td>6</td>\n      <td>1583044594-1</td>\n      <td>https://www.google.com/maps/place/Cal'z+Pizza/...</td>\n      <td>Cal'z Pizza - East Little Creek</td>\n      <td>3824 E Little Creek Rd</td>\n      <td>4.2</td>\n      <td>-172</td>\n    </tr>\n    <tr>\n      <td>7</td>\n      <td>1583044594-8</td>\n      <td>https://www.google.com/maps/place/Cal'z+Pizza/...</td>\n      <td>Cal'z Pizza</td>\n      <td>1405 Harpers Rd</td>\n      <td>4.4</td>\n      <td>-82</td>\n    </tr>\n    <tr>\n      <td>8</td>\n      <td>1583044594-6</td>\n      <td>https://www.google.com/maps/place/Cal'z+Pizza/...</td>\n      <td>Cal'z Pizza, Subs, &amp; Wings</td>\n      <td>8245 Hampton Blvd</td>\n      <td>3.8</td>\n      <td>-86</td>\n    </tr>\n  </tbody>\n</table>\n</div>",
      "text/plain": "  web-scraper-order                              web-scraper-start-url  \\\n0      1583044594-2  https://www.google.com/maps/place/Cal'z+Pizza+...   \n1      1583044594-5  https://www.google.com/maps/place/Cal'z+Pizza/...   \n2      1583044594-7  https://www.google.com/maps/place/Cal'z+Pizza/...   \n3      1583044594-4  https://www.google.com/maps/place/Cal'z+Pizza/...   \n4      1583044594-9  https://www.google.com/maps/place/Cal'z+Pizza/...   \n5      1583044594-3  https://www.google.com/maps/place/Cal'z+Pizza,...   \n6      1583044594-1  https://www.google.com/maps/place/Cal'z+Pizza/...   \n7      1583044594-8  https://www.google.com/maps/place/Cal'z+Pizza/...   \n8      1583044594-6  https://www.google.com/maps/place/Cal'z+Pizza/...   \n\n                              name                 address  rating  \\\n0                      Cal'z Pizza   3678 Sewells Point Rd     4.0   \n1                      Cal'z Pizza       3324 Holland Road     4.0   \n2                      Cal'z Pizza          1009 Laskin Rd     4.2   \n3                      Cal'z Pizza   5280 Princess Anne Rd     4.4   \n4                      Cal'z Pizza   624 Independence Blvd     3.9   \n5                      Cal'z Pizza      738 E Bayview Blvd     4.1   \n6  Cal'z Pizza - East Little Creek  3824 E Little Creek Rd     4.2   \n7                      Cal'z Pizza         1405 Harpers Rd     4.4   \n8       Cal'z Pizza, Subs, & Wings       8245 Hampton Blvd     3.8   \n\n   num_to_rate  \n0         -322  \n1         -192  \n2         -251  \n3         -165  \n4         -133  \n5         -160  \n6         -172  \n7          -82  \n8          -86  "
     },
     "execution_count": 8,
     "metadata": {},
     "output_type": "execute_result"
    }
   ],
   "source": [
    "print(df_labels.shape)\n",
    "df_labels.head(20)"
   ]
  },
  {
   "cell_type": "code",
   "execution_count": 10,
   "metadata": {},
   "outputs": [
    {
     "data": {
      "text/plain": "0    322\n1    192\n2    251\n3    165\n4    133\nName: num_to_rate, dtype: int64"
     },
     "execution_count": 10,
     "metadata": {},
     "output_type": "execute_result"
    }
   ],
   "source": [
    "# define a function that will take the cell contents of num_to_rate and remove the\n",
    "# paretheses\n",
    "def strip_n2r(x):\n",
    "    return (-1)*x\n",
    "test=df_labels['num_to_rate'].apply(strip_n2r)\n",
    "test.head()"
   ]
  },
  {
   "cell_type": "code",
   "execution_count": 11,
   "metadata": {},
   "outputs": [],
   "source": [
    "# make changes to df\n",
    "df_labels['num_to_rate']=df_labels['num_to_rate'].apply(strip_n2r)"
   ]
  },
  {
   "cell_type": "markdown",
   "metadata": {
    "colab_type": "text",
    "id": "gr7bjAEMM42e"
   },
   "source": [
    "#Data Cleaning/feature engineering"
   ]
  },
  {
   "cell_type": "markdown",
   "metadata": {
    "colab_type": "text",
    "id": "2JUQPfHQS5hF"
   },
   "source": [
    "###**geo-codes engineering**"
   ]
  },
  {
   "cell_type": "code",
   "execution_count": 12,
   "metadata": {},
   "outputs": [
    {
     "name": "stdout",
     "output_type": "stream",
     "text": "labels df:\nhttps://www.google.com/maps/place/Cal'z+Pizza+-+East+Little+Creek/@36.9181643,-76.2003157,17z/data=!3m1!4b1!4m10!1m2!2m1!1scalz+pizza!3m6!1s0x89ba914bb73fa53b:0x1301c924d4200997!8m2!3d36.91816!4d-76.198127!9m1!1b1\n\nreviews df:\n"
    },
    {
     "data": {
      "text/plain": "\"https://www.google.com/maps/place/Cal'z+Pizza+-+East+Little+Creek/@36.9181643,-76.2003157,17z/data=!3m1!4b1!4m10!1m2!2m1!1scalz+pizza!3m6!1s0x89ba914bb73fa53b:0x1301c924d4200997!8m2!3d36.91816!4d-76.198127!9m1!1b1\""
     },
     "execution_count": 12,
     "metadata": {},
     "output_type": "execute_result"
    }
   ],
   "source": [
    "# im going to have to extract the geo code from the following links and compare them to my geo codes from\n",
    "# my labels df to map the reviews to a particular store\n",
    "print(\"labels df:\")\n",
    "print(df_labels['web-scraper-start-url'].iloc[0])\n",
    "print(\"\\nreviews df:\")\n",
    "df['web-scraper-start-url'].iloc[0]"
   ]
  },
  {
   "cell_type": "code",
   "execution_count": 13,
   "metadata": {},
   "outputs": [
    {
     "data": {
      "text/plain": "0    [36.9181643, -76.2003157]\n1    [36.8565404, -75.9934831]\n2    [36.8892982, -76.2401211]\n3    [36.8892982, -76.2401211]\n4    [36.8892982, -76.2401211]\nName: web-scraper-start-url, dtype: object"
     },
     "execution_count": 13,
     "metadata": {},
     "output_type": "execute_result"
    }
   ],
   "source": [
    "# define a function to strip the url strings to reveal geo tags\n",
    "def parse_geo(x):\n",
    "  return x.split('@')[1].split(',')[:-1]\n",
    "# test it out before i make any changes\n",
    "# note i probably need to only test on one of the df's because the\n",
    "# start url is in the same format in both df's\n",
    "test=df['web-scraper-start-url'].apply(parse_geo)\n",
    "test.head()"
   ]
  },
  {
   "cell_type": "code",
   "execution_count": 14,
   "metadata": {},
   "outputs": [],
   "source": [
    "# make changes\n",
    "df['geo']=df['web-scraper-start-url'].apply(parse_geo)\n",
    "df_labels['geo']=df_labels['web-scraper-start-url'].apply(parse_geo)"
   ]
  },
  {
   "cell_type": "markdown",
   "metadata": {
    "colab_type": "text",
    "id": "wVX08Jd5SdWg"
   },
   "source": [
    "###**rating valuation engineering**"
   ]
  },
  {
   "cell_type": "code",
   "execution_count": 15,
   "metadata": {},
   "outputs": [
    {
     "data": {
      "text/plain": "0    <span jstcache=\"293\" jsinstance=\"0\" class=\"sec...\n1    <span jstcache=\"293\" jsinstance=\"0\" class=\"sec...\n2    <span jstcache=\"293\" jsinstance=\"0\" class=\"sec...\n3    <span jstcache=\"293\" jsinstance=\"0\" class=\"sec...\n4    <span jstcache=\"293\" jsinstance=\"0\" class=\"sec...\nName: review, dtype: object"
     },
     "execution_count": 15,
     "metadata": {},
     "output_type": "execute_result"
    }
   ],
   "source": [
    "# on the reviews it had images of lit stars triggered by js\n",
    "# to work around this i took the html source because i knew it would\n",
    "# show which stars are supossed to be triggered, but as a drawback\n",
    "# no i have to clean HTML instead of pretty output\n",
    "df['review'].head()"
   ]
  },
  {
   "cell_type": "code",
   "execution_count": 16,
   "metadata": {},
   "outputs": [
    {
     "data": {
      "text/plain": "0    3\n1    5\n2    1\n3    5\n4    4\nName: review, dtype: int64"
     },
     "execution_count": 16,
     "metadata": {},
     "output_type": "execute_result"
    }
   ],
   "source": [
    "# make a funtion to apply to col\n",
    "def clean_rating(x):\n",
    "  # make a list of strings to work with\n",
    "  out=x.split()\n",
    "  # sort list so that duplicates group togeather\n",
    "  out.sort()\n",
    "  # the first element is just '<span>' and the following 20 elements are redundant,\n",
    "  # the last 5 elements are placment flags\n",
    "  # remove all of them and leave me with just the number of active stars\n",
    "  # then get a count so i can have a pretty int\n",
    "  return len(out[21:len(out)-5])\n",
    "\n",
    "# test to make sure that it works\n",
    "test=df['review'].apply(clean_rating)\n",
    "test.head()"
   ]
  },
  {
   "cell_type": "code",
   "execution_count": 17,
   "metadata": {},
   "outputs": [],
   "source": [
    "# make changes to df\n",
    "df['review']=df['review'].apply(clean_rating)"
   ]
  },
  {
   "cell_type": "markdown",
   "metadata": {
    "colab_type": "text",
    "id": "5F5Tp0eR2AZS"
   },
   "source": [
    "### **datetime engeenering for graphing**"
   ]
  },
  {
   "cell_type": "code",
   "execution_count": 18,
   "metadata": {},
   "outputs": [
    {
     "data": {
      "text/plain": "a year ago       328\n2 years ago      173\n3 years ago       99\n11 months ago     45\n7 months ago      43\n10 months ago     36\na month ago       36\n8 months ago      36\n6 months ago      35\n3 months ago      29\n5 months ago      28\n4 months ago      26\n9 months ago      25\n4 years ago       21\n5 years ago       15\n2 months ago      13\n2 weeks ago       10\na week ago         7\n6 years ago        7\n3 weeks ago        7\n4 weeks ago        6\n7 years ago        6\n2 days ago         3\n9 years ago        2\n8 years ago        1\na day ago          1\n3 days ago         1\n6 days ago         1\n4 days ago         1\nName: time_published, dtype: int64"
     },
     "execution_count": 18,
     "metadata": {},
     "output_type": "execute_result"
    }
   ],
   "source": [
    "# humanfied dates are great to read, not so great to graph, i need to make theese\n",
    "# back into dt format,(why i have a glob at the top with the date of scrape)\n",
    "df['time_published'].value_counts()"
   ]
  },
  {
   "cell_type": "code",
   "execution_count": 19,
   "metadata": {},
   "outputs": [],
   "source": [
    "# create a map for all units to hours\n",
    "time_map={'second':0.000278,'minute':0.0167,'hour':1,'day':24,'week':168,'month':530.5,'year':8766}\n",
    "# make a function that takes a relitive time 'a day ago' and transfers that to a datetime\n",
    "def human_to_dt(x):\n",
    "  # the number that i will end up subtracting from scrape date\n",
    "  diff=0\n",
    "  # make a datetime object to hold the date that the dataset was scrapped\n",
    "  dt=datetime.datetime.strptime(DATE_SCRAPED, '%m-%d-%Y')\n",
    "  # strip the string down to two values a quantifier and a unit\n",
    "  q,u=x[:-3].strip().split(' ')\n",
    "  # remove trailing s on unit it is not needed\n",
    "  if u[len(u)-1]==\"s\":\n",
    "    u=u[:len(u)-1]\n",
    "  # check if there is just one unit if so then set diff=1\n",
    "  if q == \"a\":\n",
    "    diff=time_map[u]\n",
    "  # if the number is not one then multiply the q by the map_key entry for u\n",
    "  else:\n",
    "    #safe cast\n",
    "    try:\n",
    "      diff=time_map[u]*int(q)\n",
    "    except:\n",
    "      print(\"ERROR\")\n",
    "      return 0\n",
    "  # convert dt to utc timestamp\n",
    "  dt=dt-datetime.timedelta(hours=diff)\n",
    "  timestamp = dt.replace(tzinfo=datetime.timezone.utc).timestamp()\n",
    "  return timestamp"
   ]
  },
  {
   "cell_type": "code",
   "execution_count": 20,
   "metadata": {},
   "outputs": [
    {
     "name": "stdout",
     "output_type": "stream",
     "text": "1551463200.0\n"
    }
   ],
   "source": [
    "# making sure that it works how i want it to\n",
    "testvalue=df['time_published'].iloc[0]\n",
    "print(human_to_dt(testvalue))\n",
    "del testvalue"
   ]
  },
  {
   "cell_type": "code",
   "execution_count": 21,
   "metadata": {},
   "outputs": [],
   "source": [
    "# apply changes to df\n",
    "df['time_published']=df['time_published'].apply(human_to_dt)"
   ]
  },
  {
   "cell_type": "markdown",
   "metadata": {
    "colab_type": "text",
    "id": "1O5DlblZE6sg"
   },
   "source": [
    "## more data cleaning to drop columns that i dont need anymore"
   ]
  },
  {
   "cell_type": "code",
   "execution_count": 22,
   "metadata": {},
   "outputs": [
    {
     "data": {
      "text/html": "<div>\n<style scoped>\n    .dataframe tbody tr th:only-of-type {\n        vertical-align: middle;\n    }\n\n    .dataframe tbody tr th {\n        vertical-align: top;\n    }\n\n    .dataframe thead th {\n        text-align: right;\n    }\n</style>\n<table border=\"1\" class=\"dataframe\">\n  <thead>\n    <tr style=\"text-align: right;\">\n      <th></th>\n      <th>web-scraper-order</th>\n      <th>web-scraper-start-url</th>\n      <th>name</th>\n      <th>review</th>\n      <th>review_content</th>\n      <th>time_published</th>\n      <th>owner_response</th>\n      <th>owner_response_time</th>\n      <th>geo</th>\n    </tr>\n  </thead>\n  <tbody>\n    <tr>\n      <td>0</td>\n      <td>1583045461-1042</td>\n      <td>https://www.google.com/maps/place/Cal'z+Pizza+...</td>\n      <td>Jeanette Zeeb</td>\n      <td>3</td>\n      <td>It's ok</td>\n      <td>1.551463e+09</td>\n      <td>Response from the owner</td>\n      <td>a year ago</td>\n      <td>[36.9181643, -76.2003157]</td>\n    </tr>\n    <tr>\n      <td>1</td>\n      <td>1583045296-198</td>\n      <td>https://www.google.com/maps/place/Cal'z+Pizza/...</td>\n      <td>Deanna Frantzen</td>\n      <td>5</td>\n      <td>Great food and amazing staff</td>\n      <td>1.551463e+09</td>\n      <td>NaN</td>\n      <td>NaN</td>\n      <td>[36.8565404, -75.9934831]</td>\n    </tr>\n    <tr>\n      <td>2</td>\n      <td>1583045434-829</td>\n      <td>https://www.google.com/maps/place/Cal'z+Pizza/...</td>\n      <td>Monique Shontae</td>\n      <td>1</td>\n      <td>Order a tuna cheese sub Friday night.. It had ...</td>\n      <td>1.551463e+09</td>\n      <td>NaN</td>\n      <td>NaN</td>\n      <td>[36.8892982, -76.2401211]</td>\n    </tr>\n    <tr>\n      <td>3</td>\n      <td>1583045434-869</td>\n      <td>https://www.google.com/maps/place/Cal'z+Pizza/...</td>\n      <td>Annie Cheeks</td>\n      <td>5</td>\n      <td>Great service with a smile, the young man was ...</td>\n      <td>1.519906e+09</td>\n      <td>NaN</td>\n      <td>NaN</td>\n      <td>[36.8892982, -76.2401211]</td>\n    </tr>\n    <tr>\n      <td>4</td>\n      <td>1583045434-899</td>\n      <td>https://www.google.com/maps/place/Cal'z+Pizza/...</td>\n      <td>mattthew kinnard</td>\n      <td>4</td>\n      <td>Good pizza</td>\n      <td>1.519906e+09</td>\n      <td>NaN</td>\n      <td>NaN</td>\n      <td>[36.8892982, -76.2401211]</td>\n    </tr>\n  </tbody>\n</table>\n</div>",
      "text/plain": "  web-scraper-order                              web-scraper-start-url  \\\n0   1583045461-1042  https://www.google.com/maps/place/Cal'z+Pizza+...   \n1    1583045296-198  https://www.google.com/maps/place/Cal'z+Pizza/...   \n2    1583045434-829  https://www.google.com/maps/place/Cal'z+Pizza/...   \n3    1583045434-869  https://www.google.com/maps/place/Cal'z+Pizza/...   \n4    1583045434-899  https://www.google.com/maps/place/Cal'z+Pizza/...   \n\n               name  review  \\\n0     Jeanette Zeeb       3   \n1   Deanna Frantzen       5   \n2   Monique Shontae       1   \n3      Annie Cheeks       5   \n4  mattthew kinnard       4   \n\n                                      review_content  time_published  \\\n0                                            It's ok    1.551463e+09   \n1                       Great food and amazing staff    1.551463e+09   \n2  Order a tuna cheese sub Friday night.. It had ...    1.551463e+09   \n3  Great service with a smile, the young man was ...    1.519906e+09   \n4                                         Good pizza    1.519906e+09   \n\n            owner_response owner_response_time                        geo  \n0  Response from the owner          a year ago  [36.9181643, -76.2003157]  \n1                      NaN                 NaN  [36.8565404, -75.9934831]  \n2                      NaN                 NaN  [36.8892982, -76.2401211]  \n3                      NaN                 NaN  [36.8892982, -76.2401211]  \n4                      NaN                 NaN  [36.8892982, -76.2401211]  "
     },
     "execution_count": 22,
     "metadata": {},
     "output_type": "execute_result"
    }
   ],
   "source": [
    "df.head()"
   ]
  },
  {
   "cell_type": "code",
   "execution_count": 23,
   "metadata": {},
   "outputs": [
    {
     "data": {
      "text/html": "<div>\n<style scoped>\n    .dataframe tbody tr th:only-of-type {\n        vertical-align: middle;\n    }\n\n    .dataframe tbody tr th {\n        vertical-align: top;\n    }\n\n    .dataframe thead th {\n        text-align: right;\n    }\n</style>\n<table border=\"1\" class=\"dataframe\">\n  <thead>\n    <tr style=\"text-align: right;\">\n      <th></th>\n      <th>web-scraper-order</th>\n      <th>web-scraper-start-url</th>\n      <th>name</th>\n      <th>address</th>\n      <th>rating</th>\n      <th>num_to_rate</th>\n      <th>geo</th>\n    </tr>\n  </thead>\n  <tbody>\n    <tr>\n      <td>0</td>\n      <td>1583044594-2</td>\n      <td>https://www.google.com/maps/place/Cal'z+Pizza+...</td>\n      <td>Cal'z Pizza</td>\n      <td>3678 Sewells Point Rd</td>\n      <td>4.0</td>\n      <td>322</td>\n      <td>[36.9181643, -76.2003157]</td>\n    </tr>\n    <tr>\n      <td>1</td>\n      <td>1583044594-5</td>\n      <td>https://www.google.com/maps/place/Cal'z+Pizza/...</td>\n      <td>Cal'z Pizza</td>\n      <td>3324 Holland Road</td>\n      <td>4.0</td>\n      <td>192</td>\n      <td>[36.8892982, -76.2401211]</td>\n    </tr>\n    <tr>\n      <td>2</td>\n      <td>1583044594-7</td>\n      <td>https://www.google.com/maps/place/Cal'z+Pizza/...</td>\n      <td>Cal'z Pizza</td>\n      <td>1009 Laskin Rd</td>\n      <td>4.2</td>\n      <td>251</td>\n      <td>[36.9340261, -76.2473017]</td>\n    </tr>\n    <tr>\n      <td>3</td>\n      <td>1583044594-4</td>\n      <td>https://www.google.com/maps/place/Cal'z+Pizza/...</td>\n      <td>Cal'z Pizza</td>\n      <td>5280 Princess Anne Rd</td>\n      <td>4.4</td>\n      <td>165</td>\n      <td>[36.8288303, -76.1697097]</td>\n    </tr>\n    <tr>\n      <td>4</td>\n      <td>1583044594-9</td>\n      <td>https://www.google.com/maps/place/Cal'z+Pizza/...</td>\n      <td>Cal'z Pizza</td>\n      <td>624 Independence Blvd</td>\n      <td>3.9</td>\n      <td>133</td>\n      <td>[36.8024512, -76.0894311]</td>\n    </tr>\n  </tbody>\n</table>\n</div>",
      "text/plain": "  web-scraper-order                              web-scraper-start-url  \\\n0      1583044594-2  https://www.google.com/maps/place/Cal'z+Pizza+...   \n1      1583044594-5  https://www.google.com/maps/place/Cal'z+Pizza/...   \n2      1583044594-7  https://www.google.com/maps/place/Cal'z+Pizza/...   \n3      1583044594-4  https://www.google.com/maps/place/Cal'z+Pizza/...   \n4      1583044594-9  https://www.google.com/maps/place/Cal'z+Pizza/...   \n\n          name                address  rating  num_to_rate  \\\n0  Cal'z Pizza  3678 Sewells Point Rd     4.0          322   \n1  Cal'z Pizza      3324 Holland Road     4.0          192   \n2  Cal'z Pizza         1009 Laskin Rd     4.2          251   \n3  Cal'z Pizza  5280 Princess Anne Rd     4.4          165   \n4  Cal'z Pizza  624 Independence Blvd     3.9          133   \n\n                         geo  \n0  [36.9181643, -76.2003157]  \n1  [36.8892982, -76.2401211]  \n2  [36.9340261, -76.2473017]  \n3  [36.8288303, -76.1697097]  \n4  [36.8024512, -76.0894311]  "
     },
     "execution_count": 23,
     "metadata": {},
     "output_type": "execute_result"
    }
   ],
   "source": [
    "df_labels.head()"
   ]
  },
  {
   "cell_type": "code",
   "execution_count": 24,
   "metadata": {},
   "outputs": [],
   "source": [
    "# going to drop internal scraper columns that dont add context for the information\n",
    "# that is provided by them\n",
    "df=df.drop(['web-scraper-order','web-scraper-start-url'],axis=1)\n",
    "df_labels=df_labels.drop(['web-scraper-order','web-scraper-start-url'],axis=1)"
   ]
  },
  {
   "cell_type": "markdown",
   "metadata": {
    "colab_type": "text",
    "id": "jc9uP7N8GKeQ"
   },
   "source": [
    "##merging df's based on geo codes"
   ]
  },
  {
   "cell_type": "code",
   "execution_count": 26,
   "metadata": {},
   "outputs": [
    {
     "name": "stdout",
     "output_type": "stream",
     "text": "[36.918, -76.2]\n[36.918, -76.2]\n"
    }
   ],
   "source": [
    "# but first i have to cast and round existing geo codes in both df's because\n",
    "# google does such a great job at consitency\n",
    "\n",
    "# define a function that reurns a tuple of rounded floates from the geo tags\n",
    "# going with 3 signifigant figures since that equates to 110m and none of the \n",
    "# stores are that close\n",
    "def clean_geos(x):\n",
    "  out=[round(float(x[0]),3),round(float(x[1]),3)]\n",
    "  return out\n",
    "  \n",
    "# self explainitory\n",
    "def sep_lat(x):\n",
    "  return x[0]\n",
    "def sep_long(x):\n",
    "  return x[1]\n",
    "test=df['geo'].iloc[0]\n",
    "test_labels=df_labels['geo'].iloc[0]\n",
    "print(clean_geos(test))\n",
    "print(clean_geos(test_labels))"
   ]
  },
  {
   "cell_type": "code",
   "execution_count": 27,
   "metadata": {},
   "outputs": [],
   "source": [
    "# make changes to df's\n",
    "df['geo']=df['geo'].apply(clean_geos)\n",
    "df_labels['geo']=df_labels['geo'].apply(clean_geos)"
   ]
  },
  {
   "cell_type": "code",
   "execution_count": 28,
   "metadata": {},
   "outputs": [],
   "source": [
    "# add latitude and longitude columns\n",
    "df['latitude']=df['geo'].apply(sep_lat)\n",
    "df_labels['latitude']=df_labels['geo'].apply(sep_lat)\n",
    "df['longitude']=df['geo'].apply(sep_long)\n",
    "df_labels['longitude']=df_labels['geo'].apply(sep_long)"
   ]
  },
  {
   "cell_type": "code",
   "execution_count": 29,
   "metadata": {},
   "outputs": [
    {
     "data": {
      "text/html": "<div>\n<style scoped>\n    .dataframe tbody tr th:only-of-type {\n        vertical-align: middle;\n    }\n\n    .dataframe tbody tr th {\n        vertical-align: top;\n    }\n\n    .dataframe thead th {\n        text-align: right;\n    }\n</style>\n<table border=\"1\" class=\"dataframe\">\n  <thead>\n    <tr style=\"text-align: right;\">\n      <th></th>\n      <th>name</th>\n      <th>address</th>\n      <th>rating</th>\n      <th>num_to_rate</th>\n      <th>geo</th>\n      <th>latitude</th>\n      <th>longitude</th>\n    </tr>\n  </thead>\n  <tbody>\n    <tr>\n      <td>0</td>\n      <td>Cal'z Pizza</td>\n      <td>3678 Sewells Point Rd</td>\n      <td>4.0</td>\n      <td>322</td>\n      <td>[36.918, -76.2]</td>\n      <td>36.918</td>\n      <td>-76.200</td>\n    </tr>\n    <tr>\n      <td>1</td>\n      <td>Cal'z Pizza</td>\n      <td>3324 Holland Road</td>\n      <td>4.0</td>\n      <td>192</td>\n      <td>[36.889, -76.24]</td>\n      <td>36.889</td>\n      <td>-76.240</td>\n    </tr>\n    <tr>\n      <td>2</td>\n      <td>Cal'z Pizza</td>\n      <td>1009 Laskin Rd</td>\n      <td>4.2</td>\n      <td>251</td>\n      <td>[36.934, -76.247]</td>\n      <td>36.934</td>\n      <td>-76.247</td>\n    </tr>\n    <tr>\n      <td>3</td>\n      <td>Cal'z Pizza</td>\n      <td>5280 Princess Anne Rd</td>\n      <td>4.4</td>\n      <td>165</td>\n      <td>[36.829, -76.17]</td>\n      <td>36.829</td>\n      <td>-76.170</td>\n    </tr>\n    <tr>\n      <td>4</td>\n      <td>Cal'z Pizza</td>\n      <td>624 Independence Blvd</td>\n      <td>3.9</td>\n      <td>133</td>\n      <td>[36.802, -76.089]</td>\n      <td>36.802</td>\n      <td>-76.089</td>\n    </tr>\n  </tbody>\n</table>\n</div>",
      "text/plain": "          name                address  rating  num_to_rate                geo  \\\n0  Cal'z Pizza  3678 Sewells Point Rd     4.0          322    [36.918, -76.2]   \n1  Cal'z Pizza      3324 Holland Road     4.0          192   [36.889, -76.24]   \n2  Cal'z Pizza         1009 Laskin Rd     4.2          251  [36.934, -76.247]   \n3  Cal'z Pizza  5280 Princess Anne Rd     4.4          165   [36.829, -76.17]   \n4  Cal'z Pizza  624 Independence Blvd     3.9          133  [36.802, -76.089]   \n\n   latitude  longitude  \n0    36.918    -76.200  \n1    36.889    -76.240  \n2    36.934    -76.247  \n3    36.829    -76.170  \n4    36.802    -76.089  "
     },
     "execution_count": 29,
     "metadata": {},
     "output_type": "execute_result"
    }
   ],
   "source": [
    "df_labels.head()"
   ]
  },
  {
   "cell_type": "code",
   "execution_count": 30,
   "metadata": {},
   "outputs": [
    {
     "data": {
      "text/html": "<div>\n<style scoped>\n    .dataframe tbody tr th:only-of-type {\n        vertical-align: middle;\n    }\n\n    .dataframe tbody tr th {\n        vertical-align: top;\n    }\n\n    .dataframe thead th {\n        text-align: right;\n    }\n</style>\n<table border=\"1\" class=\"dataframe\">\n  <thead>\n    <tr style=\"text-align: right;\">\n      <th></th>\n      <th>name</th>\n      <th>review</th>\n      <th>review_content</th>\n      <th>time_published</th>\n      <th>owner_response</th>\n      <th>owner_response_time</th>\n      <th>geo</th>\n      <th>latitude</th>\n      <th>longitude</th>\n    </tr>\n  </thead>\n  <tbody>\n    <tr>\n      <td>0</td>\n      <td>Jeanette Zeeb</td>\n      <td>3</td>\n      <td>It's ok</td>\n      <td>1.551463e+09</td>\n      <td>Response from the owner</td>\n      <td>a year ago</td>\n      <td>[36.918, -76.2]</td>\n      <td>36.918</td>\n      <td>-76.200</td>\n    </tr>\n    <tr>\n      <td>1</td>\n      <td>Deanna Frantzen</td>\n      <td>5</td>\n      <td>Great food and amazing staff</td>\n      <td>1.551463e+09</td>\n      <td>NaN</td>\n      <td>NaN</td>\n      <td>[36.857, -75.993]</td>\n      <td>36.857</td>\n      <td>-75.993</td>\n    </tr>\n    <tr>\n      <td>2</td>\n      <td>Monique Shontae</td>\n      <td>1</td>\n      <td>Order a tuna cheese sub Friday night.. It had ...</td>\n      <td>1.551463e+09</td>\n      <td>NaN</td>\n      <td>NaN</td>\n      <td>[36.889, -76.24]</td>\n      <td>36.889</td>\n      <td>-76.240</td>\n    </tr>\n    <tr>\n      <td>3</td>\n      <td>Annie Cheeks</td>\n      <td>5</td>\n      <td>Great service with a smile, the young man was ...</td>\n      <td>1.519906e+09</td>\n      <td>NaN</td>\n      <td>NaN</td>\n      <td>[36.889, -76.24]</td>\n      <td>36.889</td>\n      <td>-76.240</td>\n    </tr>\n    <tr>\n      <td>4</td>\n      <td>mattthew kinnard</td>\n      <td>4</td>\n      <td>Good pizza</td>\n      <td>1.519906e+09</td>\n      <td>NaN</td>\n      <td>NaN</td>\n      <td>[36.889, -76.24]</td>\n      <td>36.889</td>\n      <td>-76.240</td>\n    </tr>\n  </tbody>\n</table>\n</div>",
      "text/plain": "               name  review  \\\n0     Jeanette Zeeb       3   \n1   Deanna Frantzen       5   \n2   Monique Shontae       1   \n3      Annie Cheeks       5   \n4  mattthew kinnard       4   \n\n                                      review_content  time_published  \\\n0                                            It's ok    1.551463e+09   \n1                       Great food and amazing staff    1.551463e+09   \n2  Order a tuna cheese sub Friday night.. It had ...    1.551463e+09   \n3  Great service with a smile, the young man was ...    1.519906e+09   \n4                                         Good pizza    1.519906e+09   \n\n            owner_response owner_response_time                geo  latitude  \\\n0  Response from the owner          a year ago    [36.918, -76.2]    36.918   \n1                      NaN                 NaN  [36.857, -75.993]    36.857   \n2                      NaN                 NaN   [36.889, -76.24]    36.889   \n3                      NaN                 NaN   [36.889, -76.24]    36.889   \n4                      NaN                 NaN   [36.889, -76.24]    36.889   \n\n   longitude  \n0    -76.200  \n1    -75.993  \n2    -76.240  \n3    -76.240  \n4    -76.240  "
     },
     "execution_count": 30,
     "metadata": {},
     "output_type": "execute_result"
    }
   ],
   "source": [
    "df.head()"
   ]
  },
  {
   "cell_type": "code",
   "execution_count": 31,
   "metadata": {},
   "outputs": [],
   "source": [
    "# drop some more columns that are a pain in my ass\n",
    "df=df.drop('geo',axis=1)\n",
    "df_labels=df_labels.drop('geo',axis=1)\n",
    "\n",
    "# merge data frames which will map the store the customer\n",
    "test=df.merge(df_labels,on=['latitude','longitude'])"
   ]
  },
  {
   "cell_type": "code",
   "execution_count": 34,
   "metadata": {},
   "outputs": [
    {
     "data": {
      "text/html": "<div>\n<style scoped>\n    .dataframe tbody tr th:only-of-type {\n        vertical-align: middle;\n    }\n\n    .dataframe tbody tr th {\n        vertical-align: top;\n    }\n\n    .dataframe thead th {\n        text-align: right;\n    }\n</style>\n<table border=\"1\" class=\"dataframe\">\n  <thead>\n    <tr style=\"text-align: right;\">\n      <th></th>\n      <th>name_x</th>\n      <th>review</th>\n      <th>review_content</th>\n      <th>time_published</th>\n      <th>owner_response</th>\n      <th>owner_response_time</th>\n      <th>latitude</th>\n      <th>longitude</th>\n      <th>name_y</th>\n      <th>address</th>\n      <th>rating</th>\n      <th>num_to_rate</th>\n    </tr>\n  </thead>\n  <tbody>\n    <tr>\n      <td>607</td>\n      <td>Beautiful Because</td>\n      <td>3</td>\n      <td>Cal'z has definitely went down hill. Im not sa...</td>\n      <td>1.551463e+09</td>\n      <td>NaN</td>\n      <td>NaN</td>\n      <td>36.802</td>\n      <td>-76.089</td>\n      <td>Cal'z Pizza</td>\n      <td>624 Independence Blvd</td>\n      <td>3.9</td>\n      <td>133</td>\n    </tr>\n    <tr>\n      <td>281</td>\n      <td>Ali Wolf975</td>\n      <td>5</td>\n      <td>This was the first time I ordered from them! I...</td>\n      <td>1.567742e+09</td>\n      <td>NaN</td>\n      <td>NaN</td>\n      <td>36.889</td>\n      <td>-76.240</td>\n      <td>Cal'z Pizza</td>\n      <td>3324 Holland Road</td>\n      <td>4.0</td>\n      <td>192</td>\n    </tr>\n    <tr>\n      <td>166</td>\n      <td>Stephanie Lambert</td>\n      <td>5</td>\n      <td>The best location ever!</td>\n      <td>1.551463e+09</td>\n      <td>NaN</td>\n      <td>NaN</td>\n      <td>36.857</td>\n      <td>-75.993</td>\n      <td>Cal'z Pizza - East Little Creek</td>\n      <td>3824 E Little Creek Rd</td>\n      <td>4.2</td>\n      <td>172</td>\n    </tr>\n    <tr>\n      <td>810</td>\n      <td>Amber Rogers</td>\n      <td>5</td>\n      <td>I absolutely love their food</td>\n      <td>1.551463e+09</td>\n      <td>NaN</td>\n      <td>NaN</td>\n      <td>36.855</td>\n      <td>-76.137</td>\n      <td>Cal'z Pizza, Subs, &amp; Wings</td>\n      <td>8245 Hampton Blvd</td>\n      <td>3.8</td>\n      <td>86</td>\n    </tr>\n    <tr>\n      <td>685</td>\n      <td>Diego A. Matom</td>\n      <td>3</td>\n      <td>NaN</td>\n      <td>1.551463e+09</td>\n      <td>NaN</td>\n      <td>NaN</td>\n      <td>36.802</td>\n      <td>-76.089</td>\n      <td>Cal'z Pizza</td>\n      <td>624 Independence Blvd</td>\n      <td>3.9</td>\n      <td>133</td>\n    </tr>\n    <tr>\n      <td>0</td>\n      <td>Jeanette Zeeb</td>\n      <td>3</td>\n      <td>It's ok</td>\n      <td>1.551463e+09</td>\n      <td>Response from the owner</td>\n      <td>a year ago</td>\n      <td>36.918</td>\n      <td>-76.200</td>\n      <td>Cal'z Pizza</td>\n      <td>3678 Sewells Point Rd</td>\n      <td>4.0</td>\n      <td>322</td>\n    </tr>\n    <tr>\n      <td>912</td>\n      <td>allen bailey</td>\n      <td>5</td>\n      <td>Great</td>\n      <td>1.551463e+09</td>\n      <td>NaN</td>\n      <td>NaN</td>\n      <td>36.829</td>\n      <td>-76.170</td>\n      <td>Cal'z Pizza</td>\n      <td>5280 Princess Anne Rd</td>\n      <td>4.4</td>\n      <td>165</td>\n    </tr>\n    <tr>\n      <td>430</td>\n      <td>Charles Cook</td>\n      <td>2</td>\n      <td>Wings small.  fries mushy and damp. A small po...</td>\n      <td>1.579201e+09</td>\n      <td>NaN</td>\n      <td>NaN</td>\n      <td>36.889</td>\n      <td>-76.240</td>\n      <td>Cal'z Pizza</td>\n      <td>3324 Holland Road</td>\n      <td>4.0</td>\n      <td>192</td>\n    </tr>\n    <tr>\n      <td>101</td>\n      <td>David Francis</td>\n      <td>4</td>\n      <td>Good food</td>\n      <td>1.488348e+09</td>\n      <td>NaN</td>\n      <td>NaN</td>\n      <td>36.918</td>\n      <td>-76.200</td>\n      <td>Cal'z Pizza</td>\n      <td>3678 Sewells Point Rd</td>\n      <td>4.0</td>\n      <td>322</td>\n    </tr>\n    <tr>\n      <td>599</td>\n      <td>Marc Amidon</td>\n      <td>5</td>\n      <td>Great food 👍👍👍</td>\n      <td>1.562013e+09</td>\n      <td>NaN</td>\n      <td>NaN</td>\n      <td>36.802</td>\n      <td>-76.089</td>\n      <td>Cal'z Pizza</td>\n      <td>624 Independence Blvd</td>\n      <td>3.9</td>\n      <td>133</td>\n    </tr>\n    <tr>\n      <td>563</td>\n      <td>Donald Hall</td>\n      <td>5</td>\n      <td>Be careful.  I have been a loyal customer for ...</td>\n      <td>1.575382e+09</td>\n      <td>NaN</td>\n      <td>NaN</td>\n      <td>36.802</td>\n      <td>-76.089</td>\n      <td>Cal'z Pizza</td>\n      <td>624 Independence Blvd</td>\n      <td>3.9</td>\n      <td>133</td>\n    </tr>\n    <tr>\n      <td>695</td>\n      <td>Jennifer Crews</td>\n      <td>5</td>\n      <td>NaN</td>\n      <td>1.581111e+09</td>\n      <td>NaN</td>\n      <td>NaN</td>\n      <td>36.802</td>\n      <td>-76.089</td>\n      <td>Cal'z Pizza</td>\n      <td>624 Independence Blvd</td>\n      <td>3.9</td>\n      <td>133</td>\n    </tr>\n    <tr>\n      <td>562</td>\n      <td>Randall Heard</td>\n      <td>2</td>\n      <td>Just to be real, This place is hot mess these ...</td>\n      <td>1.569652e+09</td>\n      <td>NaN</td>\n      <td>NaN</td>\n      <td>36.802</td>\n      <td>-76.089</td>\n      <td>Cal'z Pizza</td>\n      <td>624 Independence Blvd</td>\n      <td>3.9</td>\n      <td>133</td>\n    </tr>\n    <tr>\n      <td>678</td>\n      <td>Andreaus Ervin</td>\n      <td>4</td>\n      <td>NaN</td>\n      <td>1.569652e+09</td>\n      <td>NaN</td>\n      <td>NaN</td>\n      <td>36.802</td>\n      <td>-76.089</td>\n      <td>Cal'z Pizza</td>\n      <td>624 Independence Blvd</td>\n      <td>3.9</td>\n      <td>133</td>\n    </tr>\n    <tr>\n      <td>899</td>\n      <td>ashley collins</td>\n      <td>5</td>\n      <td>Amazing</td>\n      <td>1.582416e+09</td>\n      <td>NaN</td>\n      <td>NaN</td>\n      <td>36.829</td>\n      <td>-76.170</td>\n      <td>Cal'z Pizza</td>\n      <td>5280 Princess Anne Rd</td>\n      <td>4.4</td>\n      <td>165</td>\n    </tr>\n    <tr>\n      <td>174</td>\n      <td>Dawn Adamson</td>\n      <td>1</td>\n      <td>This place was awful. Very unprofessional..the...</td>\n      <td>1.519906e+09</td>\n      <td>NaN</td>\n      <td>NaN</td>\n      <td>36.857</td>\n      <td>-75.993</td>\n      <td>Cal'z Pizza - East Little Creek</td>\n      <td>3824 E Little Creek Rd</td>\n      <td>4.2</td>\n      <td>172</td>\n    </tr>\n    <tr>\n      <td>926</td>\n      <td>Ashley Todd</td>\n      <td>5</td>\n      <td>good food. friendly service. great prices.</td>\n      <td>1.551463e+09</td>\n      <td>NaN</td>\n      <td>NaN</td>\n      <td>36.829</td>\n      <td>-76.170</td>\n      <td>Cal'z Pizza</td>\n      <td>5280 Princess Anne Rd</td>\n      <td>4.4</td>\n      <td>165</td>\n    </tr>\n    <tr>\n      <td>191</td>\n      <td>kings510</td>\n      <td>2</td>\n      <td>Looked good enough. Refused service because al...</td>\n      <td>1.488348e+09</td>\n      <td>NaN</td>\n      <td>NaN</td>\n      <td>36.857</td>\n      <td>-75.993</td>\n      <td>Cal'z Pizza - East Little Creek</td>\n      <td>3824 E Little Creek Rd</td>\n      <td>4.2</td>\n      <td>172</td>\n    </tr>\n    <tr>\n      <td>288</td>\n      <td>Steven Peoples</td>\n      <td>1</td>\n      <td>They Burnt 1 sub , Another 1 with the meat of ...</td>\n      <td>1.573472e+09</td>\n      <td>NaN</td>\n      <td>NaN</td>\n      <td>36.889</td>\n      <td>-76.240</td>\n      <td>Cal'z Pizza</td>\n      <td>3324 Holland Road</td>\n      <td>4.0</td>\n      <td>192</td>\n    </tr>\n    <tr>\n      <td>425</td>\n      <td>J Mitchell</td>\n      <td>4</td>\n      <td>Great chicken deluxe...</td>\n      <td>1.488348e+09</td>\n      <td>NaN</td>\n      <td>NaN</td>\n      <td>36.889</td>\n      <td>-76.240</td>\n      <td>Cal'z Pizza</td>\n      <td>3324 Holland Road</td>\n      <td>4.0</td>\n      <td>192</td>\n    </tr>\n    <tr>\n      <td>147</td>\n      <td>Terrence Woolard</td>\n      <td>5</td>\n      <td>👍🏾</td>\n      <td>1.571562e+09</td>\n      <td>NaN</td>\n      <td>NaN</td>\n      <td>36.857</td>\n      <td>-75.993</td>\n      <td>Cal'z Pizza - East Little Creek</td>\n      <td>3824 E Little Creek Rd</td>\n      <td>4.2</td>\n      <td>172</td>\n    </tr>\n    <tr>\n      <td>390</td>\n      <td>Alicia Gonzalez</td>\n      <td>1</td>\n      <td>Store says open we went in and he stated we ar...</td>\n      <td>1.551463e+09</td>\n      <td>NaN</td>\n      <td>NaN</td>\n      <td>36.889</td>\n      <td>-76.240</td>\n      <td>Cal'z Pizza</td>\n      <td>3324 Holland Road</td>\n      <td>4.0</td>\n      <td>192</td>\n    </tr>\n    <tr>\n      <td>201</td>\n      <td>Marcus Johnson</td>\n      <td>4</td>\n      <td>The service was okay but food excellent!!</td>\n      <td>1.563923e+09</td>\n      <td>NaN</td>\n      <td>NaN</td>\n      <td>36.857</td>\n      <td>-75.993</td>\n      <td>Cal'z Pizza - East Little Creek</td>\n      <td>3824 E Little Creek Rd</td>\n      <td>4.2</td>\n      <td>172</td>\n    </tr>\n    <tr>\n      <td>241</td>\n      <td>Chris Parkin</td>\n      <td>5</td>\n      <td>Great customer service from Marissa!!</td>\n      <td>1.519906e+09</td>\n      <td>NaN</td>\n      <td>NaN</td>\n      <td>36.857</td>\n      <td>-75.993</td>\n      <td>Cal'z Pizza - East Little Creek</td>\n      <td>3824 E Little Creek Rd</td>\n      <td>4.2</td>\n      <td>172</td>\n    </tr>\n    <tr>\n      <td>126</td>\n      <td>Melyssa Rolon</td>\n      <td>5</td>\n      <td>I love the pizza here, fresh ingredients, amaz...</td>\n      <td>1.551463e+09</td>\n      <td>NaN</td>\n      <td>NaN</td>\n      <td>36.857</td>\n      <td>-75.993</td>\n      <td>Cal'z Pizza - East Little Creek</td>\n      <td>3824 E Little Creek Rd</td>\n      <td>4.2</td>\n      <td>172</td>\n    </tr>\n    <tr>\n      <td>502</td>\n      <td>Christine Costello</td>\n      <td>5</td>\n      <td>This was amazing pizza, my whole family loved ...</td>\n      <td>1.551463e+09</td>\n      <td>NaN</td>\n      <td>NaN</td>\n      <td>36.934</td>\n      <td>-76.247</td>\n      <td>Cal'z Pizza</td>\n      <td>1009 Laskin Rd</td>\n      <td>4.2</td>\n      <td>251</td>\n    </tr>\n    <tr>\n      <td>247</td>\n      <td>AC Church</td>\n      <td>3</td>\n      <td>Good lunch reminds of back home New York Pizza...</td>\n      <td>1.565833e+09</td>\n      <td>NaN</td>\n      <td>NaN</td>\n      <td>36.857</td>\n      <td>-75.993</td>\n      <td>Cal'z Pizza - East Little Creek</td>\n      <td>3824 E Little Creek Rd</td>\n      <td>4.2</td>\n      <td>172</td>\n    </tr>\n    <tr>\n      <td>290</td>\n      <td>Joe Otto</td>\n      <td>5</td>\n      <td>This place is always quick, has good prices/sp...</td>\n      <td>1.573472e+09</td>\n      <td>NaN</td>\n      <td>NaN</td>\n      <td>36.889</td>\n      <td>-76.240</td>\n      <td>Cal'z Pizza</td>\n      <td>3324 Holland Road</td>\n      <td>4.0</td>\n      <td>192</td>\n    </tr>\n    <tr>\n      <td>818</td>\n      <td>Megan Hollis</td>\n      <td>1</td>\n      <td>Horrible  customer service talk to me like I w...</td>\n      <td>1.551463e+09</td>\n      <td>NaN</td>\n      <td>NaN</td>\n      <td>36.855</td>\n      <td>-76.137</td>\n      <td>Cal'z Pizza, Subs, &amp; Wings</td>\n      <td>8245 Hampton Blvd</td>\n      <td>3.8</td>\n      <td>86</td>\n    </tr>\n    <tr>\n      <td>178</td>\n      <td>donald nevitt</td>\n      <td>3</td>\n      <td>Good food, wide variety of food, on the menu. ...</td>\n      <td>1.519906e+09</td>\n      <td>NaN</td>\n      <td>NaN</td>\n      <td>36.857</td>\n      <td>-75.993</td>\n      <td>Cal'z Pizza - East Little Creek</td>\n      <td>3824 E Little Creek Rd</td>\n      <td>4.2</td>\n      <td>172</td>\n    </tr>\n    <tr>\n      <td>497</td>\n      <td>Ricky Postlethwait</td>\n      <td>5</td>\n      <td>I always go to Cal'z Pizza polite fresh hot al...</td>\n      <td>1.551463e+09</td>\n      <td>NaN</td>\n      <td>NaN</td>\n      <td>36.934</td>\n      <td>-76.247</td>\n      <td>Cal'z Pizza</td>\n      <td>1009 Laskin Rd</td>\n      <td>4.2</td>\n      <td>251</td>\n    </tr>\n    <tr>\n      <td>944</td>\n      <td>Tracy Byrd</td>\n      <td>5</td>\n      <td>Love their small pizza with the old world pepp...</td>\n      <td>1.551463e+09</td>\n      <td>NaN</td>\n      <td>NaN</td>\n      <td>36.829</td>\n      <td>-76.170</td>\n      <td>Cal'z Pizza</td>\n      <td>5280 Princess Anne Rd</td>\n      <td>4.4</td>\n      <td>165</td>\n    </tr>\n    <tr>\n      <td>407</td>\n      <td>Maureen Ervin</td>\n      <td>1</td>\n      <td>Pizza not good to my taste</td>\n      <td>1.551463e+09</td>\n      <td>NaN</td>\n      <td>NaN</td>\n      <td>36.889</td>\n      <td>-76.240</td>\n      <td>Cal'z Pizza</td>\n      <td>3324 Holland Road</td>\n      <td>4.0</td>\n      <td>192</td>\n    </tr>\n    <tr>\n      <td>36</td>\n      <td>Jay Rock</td>\n      <td>5</td>\n      <td>The subs are great!</td>\n      <td>1.488348e+09</td>\n      <td>NaN</td>\n      <td>NaN</td>\n      <td>36.918</td>\n      <td>-76.200</td>\n      <td>Cal'z Pizza</td>\n      <td>3678 Sewells Point Rd</td>\n      <td>4.0</td>\n      <td>322</td>\n    </tr>\n    <tr>\n      <td>859</td>\n      <td>Winton White</td>\n      <td>4</td>\n      <td>My wife and I were going to the sub competitor...</td>\n      <td>1.551463e+09</td>\n      <td>Response from the owner</td>\n      <td>a year ago</td>\n      <td>36.928</td>\n      <td>-76.320</td>\n      <td>Cal'z Pizza</td>\n      <td>738 E Bayview Blvd</td>\n      <td>4.1</td>\n      <td>160</td>\n    </tr>\n    <tr>\n      <td>789</td>\n      <td>Khiem Tran</td>\n      <td>5</td>\n      <td>Fast and friendly. Recommend the Spicy BBQ win...</td>\n      <td>1.551463e+09</td>\n      <td>NaN</td>\n      <td>NaN</td>\n      <td>36.855</td>\n      <td>-76.137</td>\n      <td>Cal'z Pizza, Subs, &amp; Wings</td>\n      <td>8245 Hampton Blvd</td>\n      <td>3.8</td>\n      <td>86</td>\n    </tr>\n    <tr>\n      <td>304</td>\n      <td>Tj Morgan</td>\n      <td>5</td>\n      <td>Good food</td>\n      <td>1.519906e+09</td>\n      <td>NaN</td>\n      <td>NaN</td>\n      <td>36.889</td>\n      <td>-76.240</td>\n      <td>Cal'z Pizza</td>\n      <td>3324 Holland Road</td>\n      <td>4.0</td>\n      <td>192</td>\n    </tr>\n    <tr>\n      <td>296</td>\n      <td>Scot Deane</td>\n      <td>5</td>\n      <td>10 piece medium and 2 slices pepperoni.  OMG. ...</td>\n      <td>1.581111e+09</td>\n      <td>NaN</td>\n      <td>NaN</td>\n      <td>36.889</td>\n      <td>-76.240</td>\n      <td>Cal'z Pizza</td>\n      <td>3324 Holland Road</td>\n      <td>4.0</td>\n      <td>192</td>\n    </tr>\n    <tr>\n      <td>973</td>\n      <td>paige Flores</td>\n      <td>4</td>\n      <td>Great subs</td>\n      <td>1.551463e+09</td>\n      <td>NaN</td>\n      <td>NaN</td>\n      <td>36.829</td>\n      <td>-76.170</td>\n      <td>Cal'z Pizza</td>\n      <td>5280 Princess Anne Rd</td>\n      <td>4.4</td>\n      <td>165</td>\n    </tr>\n    <tr>\n      <td>388</td>\n      <td>Corbin shea</td>\n      <td>5</td>\n      <td>I've been treated great EVERYTIME I've come in...</td>\n      <td>1.551463e+09</td>\n      <td>NaN</td>\n      <td>NaN</td>\n      <td>36.889</td>\n      <td>-76.240</td>\n      <td>Cal'z Pizza</td>\n      <td>3324 Holland Road</td>\n      <td>4.0</td>\n      <td>192</td>\n    </tr>\n  </tbody>\n</table>\n</div>",
      "text/plain": "                 name_x  review  \\\n607   Beautiful Because       3   \n281         Ali Wolf975       5   \n166   Stephanie Lambert       5   \n810        Amber Rogers       5   \n685      Diego A. Matom       3   \n0         Jeanette Zeeb       3   \n912        allen bailey       5   \n430        Charles Cook       2   \n101       David Francis       4   \n599         Marc Amidon       5   \n563         Donald Hall       5   \n695      Jennifer Crews       5   \n562       Randall Heard       2   \n678      Andreaus Ervin       4   \n899      ashley collins       5   \n174        Dawn Adamson       1   \n926         Ashley Todd       5   \n191            kings510       2   \n288      Steven Peoples       1   \n425          J Mitchell       4   \n147    Terrence Woolard       5   \n390     Alicia Gonzalez       1   \n201      Marcus Johnson       4   \n241        Chris Parkin       5   \n126       Melyssa Rolon       5   \n502  Christine Costello       5   \n247           AC Church       3   \n290            Joe Otto       5   \n818        Megan Hollis       1   \n178       donald nevitt       3   \n497  Ricky Postlethwait       5   \n944          Tracy Byrd       5   \n407       Maureen Ervin       1   \n36             Jay Rock       5   \n859        Winton White       4   \n789          Khiem Tran       5   \n304           Tj Morgan       5   \n296          Scot Deane       5   \n973        paige Flores       4   \n388         Corbin shea       5   \n\n                                        review_content  time_published  \\\n607  Cal'z has definitely went down hill. Im not sa...    1.551463e+09   \n281  This was the first time I ordered from them! I...    1.567742e+09   \n166                            The best location ever!    1.551463e+09   \n810                       I absolutely love their food    1.551463e+09   \n685                                                NaN    1.551463e+09   \n0                                              It's ok    1.551463e+09   \n912                                              Great    1.551463e+09   \n430  Wings small.  fries mushy and damp. A small po...    1.579201e+09   \n101                                          Good food    1.488348e+09   \n599                                     Great food 👍👍👍    1.562013e+09   \n563  Be careful.  I have been a loyal customer for ...    1.575382e+09   \n695                                                NaN    1.581111e+09   \n562  Just to be real, This place is hot mess these ...    1.569652e+09   \n678                                                NaN    1.569652e+09   \n899                                            Amazing    1.582416e+09   \n174  This place was awful. Very unprofessional..the...    1.519906e+09   \n926         good food. friendly service. great prices.    1.551463e+09   \n191  Looked good enough. Refused service because al...    1.488348e+09   \n288  They Burnt 1 sub , Another 1 with the meat of ...    1.573472e+09   \n425                            Great chicken deluxe...    1.488348e+09   \n147                                                 👍🏾    1.571562e+09   \n390  Store says open we went in and he stated we ar...    1.551463e+09   \n201          The service was okay but food excellent!!    1.563923e+09   \n241              Great customer service from Marissa!!    1.519906e+09   \n126  I love the pizza here, fresh ingredients, amaz...    1.551463e+09   \n502  This was amazing pizza, my whole family loved ...    1.551463e+09   \n247  Good lunch reminds of back home New York Pizza...    1.565833e+09   \n290  This place is always quick, has good prices/sp...    1.573472e+09   \n818  Horrible  customer service talk to me like I w...    1.551463e+09   \n178  Good food, wide variety of food, on the menu. ...    1.519906e+09   \n497  I always go to Cal'z Pizza polite fresh hot al...    1.551463e+09   \n944  Love their small pizza with the old world pepp...    1.551463e+09   \n407                         Pizza not good to my taste    1.551463e+09   \n36                                 The subs are great!    1.488348e+09   \n859  My wife and I were going to the sub competitor...    1.551463e+09   \n789  Fast and friendly. Recommend the Spicy BBQ win...    1.551463e+09   \n304                                          Good food    1.519906e+09   \n296  10 piece medium and 2 slices pepperoni.  OMG. ...    1.581111e+09   \n973                                         Great subs    1.551463e+09   \n388  I've been treated great EVERYTIME I've come in...    1.551463e+09   \n\n              owner_response owner_response_time  latitude  longitude  \\\n607                      NaN                 NaN    36.802    -76.089   \n281                      NaN                 NaN    36.889    -76.240   \n166                      NaN                 NaN    36.857    -75.993   \n810                      NaN                 NaN    36.855    -76.137   \n685                      NaN                 NaN    36.802    -76.089   \n0    Response from the owner          a year ago    36.918    -76.200   \n912                      NaN                 NaN    36.829    -76.170   \n430                      NaN                 NaN    36.889    -76.240   \n101                      NaN                 NaN    36.918    -76.200   \n599                      NaN                 NaN    36.802    -76.089   \n563                      NaN                 NaN    36.802    -76.089   \n695                      NaN                 NaN    36.802    -76.089   \n562                      NaN                 NaN    36.802    -76.089   \n678                      NaN                 NaN    36.802    -76.089   \n899                      NaN                 NaN    36.829    -76.170   \n174                      NaN                 NaN    36.857    -75.993   \n926                      NaN                 NaN    36.829    -76.170   \n191                      NaN                 NaN    36.857    -75.993   \n288                      NaN                 NaN    36.889    -76.240   \n425                      NaN                 NaN    36.889    -76.240   \n147                      NaN                 NaN    36.857    -75.993   \n390                      NaN                 NaN    36.889    -76.240   \n201                      NaN                 NaN    36.857    -75.993   \n241                      NaN                 NaN    36.857    -75.993   \n126                      NaN                 NaN    36.857    -75.993   \n502                      NaN                 NaN    36.934    -76.247   \n247                      NaN                 NaN    36.857    -75.993   \n290                      NaN                 NaN    36.889    -76.240   \n818                      NaN                 NaN    36.855    -76.137   \n178                      NaN                 NaN    36.857    -75.993   \n497                      NaN                 NaN    36.934    -76.247   \n944                      NaN                 NaN    36.829    -76.170   \n407                      NaN                 NaN    36.889    -76.240   \n36                       NaN                 NaN    36.918    -76.200   \n859  Response from the owner          a year ago    36.928    -76.320   \n789                      NaN                 NaN    36.855    -76.137   \n304                      NaN                 NaN    36.889    -76.240   \n296                      NaN                 NaN    36.889    -76.240   \n973                      NaN                 NaN    36.829    -76.170   \n388                      NaN                 NaN    36.889    -76.240   \n\n                              name_y                 address  rating  \\\n607                      Cal'z Pizza   624 Independence Blvd     3.9   \n281                      Cal'z Pizza       3324 Holland Road     4.0   \n166  Cal'z Pizza - East Little Creek  3824 E Little Creek Rd     4.2   \n810       Cal'z Pizza, Subs, & Wings       8245 Hampton Blvd     3.8   \n685                      Cal'z Pizza   624 Independence Blvd     3.9   \n0                        Cal'z Pizza   3678 Sewells Point Rd     4.0   \n912                      Cal'z Pizza   5280 Princess Anne Rd     4.4   \n430                      Cal'z Pizza       3324 Holland Road     4.0   \n101                      Cal'z Pizza   3678 Sewells Point Rd     4.0   \n599                      Cal'z Pizza   624 Independence Blvd     3.9   \n563                      Cal'z Pizza   624 Independence Blvd     3.9   \n695                      Cal'z Pizza   624 Independence Blvd     3.9   \n562                      Cal'z Pizza   624 Independence Blvd     3.9   \n678                      Cal'z Pizza   624 Independence Blvd     3.9   \n899                      Cal'z Pizza   5280 Princess Anne Rd     4.4   \n174  Cal'z Pizza - East Little Creek  3824 E Little Creek Rd     4.2   \n926                      Cal'z Pizza   5280 Princess Anne Rd     4.4   \n191  Cal'z Pizza - East Little Creek  3824 E Little Creek Rd     4.2   \n288                      Cal'z Pizza       3324 Holland Road     4.0   \n425                      Cal'z Pizza       3324 Holland Road     4.0   \n147  Cal'z Pizza - East Little Creek  3824 E Little Creek Rd     4.2   \n390                      Cal'z Pizza       3324 Holland Road     4.0   \n201  Cal'z Pizza - East Little Creek  3824 E Little Creek Rd     4.2   \n241  Cal'z Pizza - East Little Creek  3824 E Little Creek Rd     4.2   \n126  Cal'z Pizza - East Little Creek  3824 E Little Creek Rd     4.2   \n502                      Cal'z Pizza          1009 Laskin Rd     4.2   \n247  Cal'z Pizza - East Little Creek  3824 E Little Creek Rd     4.2   \n290                      Cal'z Pizza       3324 Holland Road     4.0   \n818       Cal'z Pizza, Subs, & Wings       8245 Hampton Blvd     3.8   \n178  Cal'z Pizza - East Little Creek  3824 E Little Creek Rd     4.2   \n497                      Cal'z Pizza          1009 Laskin Rd     4.2   \n944                      Cal'z Pizza   5280 Princess Anne Rd     4.4   \n407                      Cal'z Pizza       3324 Holland Road     4.0   \n36                       Cal'z Pizza   3678 Sewells Point Rd     4.0   \n859                      Cal'z Pizza      738 E Bayview Blvd     4.1   \n789       Cal'z Pizza, Subs, & Wings       8245 Hampton Blvd     3.8   \n304                      Cal'z Pizza       3324 Holland Road     4.0   \n296                      Cal'z Pizza       3324 Holland Road     4.0   \n973                      Cal'z Pizza   5280 Princess Anne Rd     4.4   \n388                      Cal'z Pizza       3324 Holland Road     4.0   \n\n     num_to_rate  \n607          133  \n281          192  \n166          172  \n810           86  \n685          133  \n0            322  \n912          165  \n430          192  \n101          322  \n599          133  \n563          133  \n695          133  \n562          133  \n678          133  \n899          165  \n174          172  \n926          165  \n191          172  \n288          192  \n425          192  \n147          172  \n390          192  \n201          172  \n241          172  \n126          172  \n502          251  \n247          172  \n290          192  \n818           86  \n178          172  \n497          251  \n944          165  \n407          192  \n36           322  \n859          160  \n789           86  \n304          192  \n296          192  \n973          165  \n388          192  "
     },
     "execution_count": 34,
     "metadata": {},
     "output_type": "execute_result"
    }
   ],
   "source": [
    "# grab a random sample to see what the dataframe looks like\n",
    "test.sample(40)"
   ]
  },
  {
   "cell_type": "markdown",
   "metadata": {
    "colab_type": "text",
    "id": "Tvv4d72-SfKt"
   },
   "source": [
    "##**I think thats gonna be good for this dataset, lets do some house keeping and export it to a file to use**"
   ]
  },
  {
   "cell_type": "code",
   "execution_count": 35,
   "metadata": {},
   "outputs": [
    {
     "name": "stdout",
     "output_type": "stream",
     "text": "['name_x', 'review', 'review_content', 'time_published', 'owner_response', 'owner_response_time', 'latitude', 'longitude', 'name_y', 'address', 'rating', 'num_to_rate']\n"
    }
   ],
   "source": [
    "print(test.columns.to_list())"
   ]
  },
  {
   "cell_type": "code",
   "execution_count": 36,
   "metadata": {},
   "outputs": [],
   "source": [
    "# rename my columns to something easier then x_name y_name ect\n",
    "df=test\n",
    "perfered_names=['customer_name', 'review_rating', 'review_content','time', 'owner_response','owner_response_time','latitude',\n",
    " 'longitude', 'store_name', 'store_address','store_rating','num_to_rate']\n",
    "df.columns=perfered_names\n"
   ]
  },
  {
   "cell_type": "code",
   "execution_count": 37,
   "metadata": {},
   "outputs": [
    {
     "data": {
      "text/plain": "['customer_name',\n 'review_rating',\n 'review_content',\n 'time',\n 'owner_response',\n 'owner_response_time',\n 'latitude',\n 'longitude',\n 'store_name',\n 'store_address',\n 'store_rating',\n 'num_to_rate']"
     },
     "execution_count": 37,
     "metadata": {},
     "output_type": "execute_result"
    }
   ],
   "source": [
    "df.columns.to_list()"
   ]
  },
  {
   "cell_type": "code",
   "execution_count": 39,
   "metadata": {},
   "outputs": [],
   "source": [
    "perf_order=['time',\n",
    "            'customer_name',\n",
    "            'review_content',\n",
    "            'review_rating',\n",
    "            'store_name',\n",
    "            'store_rating',\n",
    "            'store_address',\n",
    "            'num_to_rate',\n",
    "            'owner_response',\n",
    "            'owner_response_time',\n",
    "            'latitude',\n",
    "            'longitude']\n",
    "df=df[perf_order]"
   ]
  },
  {
   "cell_type": "code",
   "execution_count": 40,
   "metadata": {},
   "outputs": [
    {
     "data": {
      "text/html": "<div>\n<style scoped>\n    .dataframe tbody tr th:only-of-type {\n        vertical-align: middle;\n    }\n\n    .dataframe tbody tr th {\n        vertical-align: top;\n    }\n\n    .dataframe thead th {\n        text-align: right;\n    }\n</style>\n<table border=\"1\" class=\"dataframe\">\n  <thead>\n    <tr style=\"text-align: right;\">\n      <th></th>\n      <th>time</th>\n      <th>customer_name</th>\n      <th>review_content</th>\n      <th>review_rating</th>\n      <th>store_name</th>\n      <th>store_rating</th>\n      <th>store_address</th>\n      <th>num_to_rate</th>\n      <th>owner_response</th>\n      <th>owner_response_time</th>\n      <th>latitude</th>\n      <th>longitude</th>\n    </tr>\n  </thead>\n  <tbody>\n    <tr>\n      <td>0</td>\n      <td>1.551463e+09</td>\n      <td>Jeanette Zeeb</td>\n      <td>It's ok</td>\n      <td>3</td>\n      <td>Cal'z Pizza</td>\n      <td>4.0</td>\n      <td>3678 Sewells Point Rd</td>\n      <td>322</td>\n      <td>Response from the owner</td>\n      <td>a year ago</td>\n      <td>36.918</td>\n      <td>-76.2</td>\n    </tr>\n    <tr>\n      <td>1</td>\n      <td>1.519906e+09</td>\n      <td>Daniel Mcquitty</td>\n      <td>Food was great and fast service.</td>\n      <td>5</td>\n      <td>Cal'z Pizza</td>\n      <td>4.0</td>\n      <td>3678 Sewells Point Rd</td>\n      <td>322</td>\n      <td>NaN</td>\n      <td>NaN</td>\n      <td>36.918</td>\n      <td>-76.2</td>\n    </tr>\n    <tr>\n      <td>2</td>\n      <td>1.577291e+09</td>\n      <td>Kuki Hell</td>\n      <td>DELICIOUS. So far had the calzown and it was b...</td>\n      <td>5</td>\n      <td>Cal'z Pizza</td>\n      <td>4.0</td>\n      <td>3678 Sewells Point Rd</td>\n      <td>322</td>\n      <td>NaN</td>\n      <td>NaN</td>\n      <td>36.918</td>\n      <td>-76.2</td>\n    </tr>\n    <tr>\n      <td>3</td>\n      <td>1.581111e+09</td>\n      <td>Thomas Hall</td>\n      <td>Small wings a bit overpriced</td>\n      <td>3</td>\n      <td>Cal'z Pizza</td>\n      <td>4.0</td>\n      <td>3678 Sewells Point Rd</td>\n      <td>322</td>\n      <td>NaN</td>\n      <td>NaN</td>\n      <td>36.918</td>\n      <td>-76.2</td>\n    </tr>\n    <tr>\n      <td>4</td>\n      <td>1.565833e+09</td>\n      <td>Mister Henderson</td>\n      <td>fast service good food</td>\n      <td>4</td>\n      <td>Cal'z Pizza</td>\n      <td>4.0</td>\n      <td>3678 Sewells Point Rd</td>\n      <td>322</td>\n      <td>NaN</td>\n      <td>NaN</td>\n      <td>36.918</td>\n      <td>-76.2</td>\n    </tr>\n  </tbody>\n</table>\n</div>",
      "text/plain": "           time     customer_name  \\\n0  1.551463e+09     Jeanette Zeeb   \n1  1.519906e+09   Daniel Mcquitty   \n2  1.577291e+09         Kuki Hell   \n3  1.581111e+09       Thomas Hall   \n4  1.565833e+09  Mister Henderson   \n\n                                      review_content  review_rating  \\\n0                                            It's ok              3   \n1                   Food was great and fast service.              5   \n2  DELICIOUS. So far had the calzown and it was b...              5   \n3                       Small wings a bit overpriced              3   \n4                             fast service good food              4   \n\n    store_name  store_rating          store_address  num_to_rate  \\\n0  Cal'z Pizza           4.0  3678 Sewells Point Rd          322   \n1  Cal'z Pizza           4.0  3678 Sewells Point Rd          322   \n2  Cal'z Pizza           4.0  3678 Sewells Point Rd          322   \n3  Cal'z Pizza           4.0  3678 Sewells Point Rd          322   \n4  Cal'z Pizza           4.0  3678 Sewells Point Rd          322   \n\n            owner_response owner_response_time  latitude  longitude  \n0  Response from the owner          a year ago    36.918      -76.2  \n1                      NaN                 NaN    36.918      -76.2  \n2                      NaN                 NaN    36.918      -76.2  \n3                      NaN                 NaN    36.918      -76.2  \n4                      NaN                 NaN    36.918      -76.2  "
     },
     "execution_count": 40,
     "metadata": {},
     "output_type": "execute_result"
    }
   ],
   "source": [
    "df.head()"
   ]
  },
  {
   "cell_type": "code",
   "execution_count": 41,
   "metadata": {},
   "outputs": [],
   "source": [
    "df.to_csv('calz_processed.csv')"
   ]
  },
  {
   "cell_type": "code",
   "execution_count": 0,
   "metadata": {
    "colab": {},
    "colab_type": "code",
    "id": "fh_fSaCjV_5f"
   },
   "outputs": [],
   "source": []
  }
 ],
 "metadata": {
  "colab": {
   "authorship_tag": "ABX9TyP327QjZWuFNT5M1GkhAdXs",
   "collapsed_sections": [],
   "include_colab_link": true,
   "name": "check_scrape.ipynb",
   "provenance": []
  },
  "kernelspec": {
   "display_name": "Python 3",
   "language": "python3",
   "name": "python3"
  },
  "language_info": {
   "codemirror_mode": {
    "name": "ipython",
    "version": 3
   },
   "file_extension": ".py",
   "mimetype": "text/x-python",
   "name": "python",
   "nbconvert_exporter": "python",
   "pygments_lexer": "ipython3",
   "version": "3.7.4-final"
  }
 },
 "nbformat": 4,
 "nbformat_minor": 1
}