{
 "cells": [
  {
   "cell_type": "code",
   "execution_count": 1,
   "metadata": {
    "colab": {},
    "colab_type": "code",
    "id": "DrppWWeVD2Qw"
   },
   "outputs": [],
   "source": [
    "import numpy as np\n",
    "import pandas as pd\n",
    "import matplotlib.pyplot as plt\n",
    "\n",
    "#used to change all the relive dates to datetimes\n",
    "import datetime\n",
    "\n",
    "# this in important because the time stamps in the dataset are relitive to when they were scraped\n",
    "DATE_SCRAPED=\"03-1-2020\""
   ]
  },
  {
   "cell_type": "code",
   "execution_count": 2,
   "metadata": {
    "colab": {},
    "colab_type": "code",
    "id": "h9hfYlDaEAPg"
   },
   "outputs": [],
   "source": [
    "# read in the data frame that has my scrapped content\n",
    "df=pd.read_csv('calz_reviews_content.csv')\n",
    "df_labels=pd.read_csv('calz_labels.csv')\n"
   ]
  },
  {
   "cell_type": "markdown",
   "metadata": {
    "colab_type": "text",
    "id": "yjnm1DkV3CMS"
   },
   "source": [
    "# **EDA**"
   ]
  },
  {
   "cell_type": "code",
   "execution_count": 3,
   "metadata": {
    "colab": {
     "base_uri": "https://localhost:8080/",
     "height": 221
    },
    "colab_type": "code",
    "id": "G2JOTst5EH0j",
    "outputId": "497ea565-9d4e-416d-a2b1-8742d9c1a2e1"
   },
   "outputs": [
    {
     "name": "stdout",
     "output_type": "stream",
     "text": [
      "(1041, 8)\n"
     ]
    },
    {
     "data": {
      "text/html": [
       "<div>\n",
       "<style scoped>\n",
       "    .dataframe tbody tr th:only-of-type {\n",
       "        vertical-align: middle;\n",
       "    }\n",
       "\n",
       "    .dataframe tbody tr th {\n",
       "        vertical-align: top;\n",
       "    }\n",
       "\n",
       "    .dataframe thead th {\n",
       "        text-align: right;\n",
       "    }\n",
       "</style>\n",
       "<table border=\"1\" class=\"dataframe\">\n",
       "  <thead>\n",
       "    <tr style=\"text-align: right;\">\n",
       "      <th></th>\n",
       "      <th>web-scraper-order</th>\n",
       "      <th>web-scraper-start-url</th>\n",
       "      <th>name</th>\n",
       "      <th>review</th>\n",
       "      <th>review_content</th>\n",
       "      <th>time_published</th>\n",
       "      <th>owner_response</th>\n",
       "      <th>owner_response_time</th>\n",
       "    </tr>\n",
       "  </thead>\n",
       "  <tbody>\n",
       "    <tr>\n",
       "      <td>0</td>\n",
       "      <td>1583045461-1042</td>\n",
       "      <td>https://www.google.com/maps/place/Cal'z+Pizza+...</td>\n",
       "      <td>Jeanette Zeeb</td>\n",
       "      <td>&lt;span jstcache=\"293\" jsinstance=\"0\" class=\"sec...</td>\n",
       "      <td>It's ok</td>\n",
       "      <td>a year ago</td>\n",
       "      <td>Response from the owner</td>\n",
       "      <td>a year ago</td>\n",
       "    </tr>\n",
       "    <tr>\n",
       "      <td>1</td>\n",
       "      <td>1583045296-198</td>\n",
       "      <td>https://www.google.com/maps/place/Cal'z+Pizza/...</td>\n",
       "      <td>Deanna Frantzen</td>\n",
       "      <td>&lt;span jstcache=\"293\" jsinstance=\"0\" class=\"sec...</td>\n",
       "      <td>Great food and amazing staff</td>\n",
       "      <td>a year ago</td>\n",
       "      <td>NaN</td>\n",
       "      <td>NaN</td>\n",
       "    </tr>\n",
       "    <tr>\n",
       "      <td>2</td>\n",
       "      <td>1583045434-829</td>\n",
       "      <td>https://www.google.com/maps/place/Cal'z+Pizza/...</td>\n",
       "      <td>Monique Shontae</td>\n",
       "      <td>&lt;span jstcache=\"293\" jsinstance=\"0\" class=\"sec...</td>\n",
       "      <td>Order a tuna cheese sub Friday night.. It had ...</td>\n",
       "      <td>a year ago</td>\n",
       "      <td>NaN</td>\n",
       "      <td>NaN</td>\n",
       "    </tr>\n",
       "    <tr>\n",
       "      <td>3</td>\n",
       "      <td>1583045434-869</td>\n",
       "      <td>https://www.google.com/maps/place/Cal'z+Pizza/...</td>\n",
       "      <td>Annie Cheeks</td>\n",
       "      <td>&lt;span jstcache=\"293\" jsinstance=\"0\" class=\"sec...</td>\n",
       "      <td>Great service with a smile, the young man was ...</td>\n",
       "      <td>2 years ago</td>\n",
       "      <td>NaN</td>\n",
       "      <td>NaN</td>\n",
       "    </tr>\n",
       "    <tr>\n",
       "      <td>4</td>\n",
       "      <td>1583045434-899</td>\n",
       "      <td>https://www.google.com/maps/place/Cal'z+Pizza/...</td>\n",
       "      <td>mattthew kinnard</td>\n",
       "      <td>&lt;span jstcache=\"293\" jsinstance=\"0\" class=\"sec...</td>\n",
       "      <td>Good pizza</td>\n",
       "      <td>2 years ago</td>\n",
       "      <td>NaN</td>\n",
       "      <td>NaN</td>\n",
       "    </tr>\n",
       "  </tbody>\n",
       "</table>\n",
       "</div>"
      ],
      "text/plain": [
       "  web-scraper-order  ... owner_response_time\n",
       "0   1583045461-1042  ...          a year ago\n",
       "1    1583045296-198  ...                 NaN\n",
       "2    1583045434-829  ...                 NaN\n",
       "3    1583045434-869  ...                 NaN\n",
       "4    1583045434-899  ...                 NaN\n",
       "\n",
       "[5 rows x 8 columns]"
      ]
     },
     "execution_count": 3,
     "metadata": {},
     "output_type": "execute_result"
    }
   ],
   "source": [
    "# inspect head @TODO DROP NAME COL\n",
    "print(df.shape)\n",
    "df.head()\n"
   ]
  },
  {
   "cell_type": "code",
   "execution_count": 5,
   "metadata": {
    "colab": {
     "base_uri": "https://localhost:8080/",
     "height": 638
    },
    "colab_type": "code",
    "id": "v67iIov_3SP8",
    "outputId": "87a1e4a6-1d4f-4c44-f420-10999917c67d"
   },
   "outputs": [
    {
     "name": "stdout",
     "output_type": "stream",
     "text": [
      "(9, 6)\n"
     ]
    },
    {
     "data": {
      "text/html": [
       "<div>\n",
       "<style scoped>\n",
       "    .dataframe tbody tr th:only-of-type {\n",
       "        vertical-align: middle;\n",
       "    }\n",
       "\n",
       "    .dataframe tbody tr th {\n",
       "        vertical-align: top;\n",
       "    }\n",
       "\n",
       "    .dataframe thead th {\n",
       "        text-align: right;\n",
       "    }\n",
       "</style>\n",
       "<table border=\"1\" class=\"dataframe\">\n",
       "  <thead>\n",
       "    <tr style=\"text-align: right;\">\n",
       "      <th></th>\n",
       "      <th>web-scraper-order</th>\n",
       "      <th>web-scraper-start-url</th>\n",
       "      <th>name</th>\n",
       "      <th>address</th>\n",
       "      <th>rating</th>\n",
       "      <th>num_to_rate</th>\n",
       "    </tr>\n",
       "  </thead>\n",
       "  <tbody>\n",
       "    <tr>\n",
       "      <td>0</td>\n",
       "      <td>1583044594-2</td>\n",
       "      <td>https://www.google.com/maps/search/calz+pizza/...</td>\n",
       "      <td>Cal'z Pizza</td>\n",
       "      <td>3678 Sewells Point Rd</td>\n",
       "      <td>4.0</td>\n",
       "      <td>(322)</td>\n",
       "    </tr>\n",
       "    <tr>\n",
       "      <td>1</td>\n",
       "      <td>1583044594-5</td>\n",
       "      <td>https://www.google.com/maps/search/calz+pizza/...</td>\n",
       "      <td>Cal'z Pizza</td>\n",
       "      <td>3324 Holland Road</td>\n",
       "      <td>4.0</td>\n",
       "      <td>(192)</td>\n",
       "    </tr>\n",
       "    <tr>\n",
       "      <td>2</td>\n",
       "      <td>1583044594-7</td>\n",
       "      <td>https://www.google.com/maps/search/calz+pizza/...</td>\n",
       "      <td>Cal'z Pizza</td>\n",
       "      <td>1009 Laskin Rd</td>\n",
       "      <td>4.2</td>\n",
       "      <td>(251)</td>\n",
       "    </tr>\n",
       "    <tr>\n",
       "      <td>3</td>\n",
       "      <td>1583044594-4</td>\n",
       "      <td>https://www.google.com/maps/search/calz+pizza/...</td>\n",
       "      <td>Cal'z Pizza</td>\n",
       "      <td>5280 Princess Anne Rd</td>\n",
       "      <td>4.4</td>\n",
       "      <td>(165)</td>\n",
       "    </tr>\n",
       "    <tr>\n",
       "      <td>4</td>\n",
       "      <td>1583044594-9</td>\n",
       "      <td>https://www.google.com/maps/search/calz+pizza/...</td>\n",
       "      <td>Cal'z Pizza</td>\n",
       "      <td>624 Independence Blvd</td>\n",
       "      <td>3.9</td>\n",
       "      <td>(133)</td>\n",
       "    </tr>\n",
       "    <tr>\n",
       "      <td>5</td>\n",
       "      <td>1583044594-3</td>\n",
       "      <td>https://www.google.com/maps/search/calz+pizza/...</td>\n",
       "      <td>Cal'z Pizza</td>\n",
       "      <td>738 E Bayview Blvd</td>\n",
       "      <td>4.1</td>\n",
       "      <td>(160)</td>\n",
       "    </tr>\n",
       "    <tr>\n",
       "      <td>6</td>\n",
       "      <td>1583044594-1</td>\n",
       "      <td>https://www.google.com/maps/search/calz+pizza/...</td>\n",
       "      <td>Cal'z Pizza - East Little Creek</td>\n",
       "      <td>3824 E Little Creek Rd</td>\n",
       "      <td>4.2</td>\n",
       "      <td>(172)</td>\n",
       "    </tr>\n",
       "    <tr>\n",
       "      <td>7</td>\n",
       "      <td>1583044594-8</td>\n",
       "      <td>https://www.google.com/maps/search/calz+pizza/...</td>\n",
       "      <td>Cal'z Pizza</td>\n",
       "      <td>1405 Harpers Rd</td>\n",
       "      <td>4.4</td>\n",
       "      <td>(82)</td>\n",
       "    </tr>\n",
       "    <tr>\n",
       "      <td>8</td>\n",
       "      <td>1583044594-6</td>\n",
       "      <td>https://www.google.com/maps/search/calz+pizza/...</td>\n",
       "      <td>Cal'z Pizza, Subs, &amp; Wings</td>\n",
       "      <td>8245 Hampton Blvd</td>\n",
       "      <td>3.8</td>\n",
       "      <td>(86)</td>\n",
       "    </tr>\n",
       "  </tbody>\n",
       "</table>\n",
       "</div>"
      ],
      "text/plain": [
       "  web-scraper-order  ... num_to_rate\n",
       "0      1583044594-2  ...       (322)\n",
       "1      1583044594-5  ...       (192)\n",
       "2      1583044594-7  ...       (251)\n",
       "3      1583044594-4  ...       (165)\n",
       "4      1583044594-9  ...       (133)\n",
       "5      1583044594-3  ...       (160)\n",
       "6      1583044594-1  ...       (172)\n",
       "7      1583044594-8  ...        (82)\n",
       "8      1583044594-6  ...        (86)\n",
       "\n",
       "[9 rows x 6 columns]"
      ]
     },
     "execution_count": 5,
     "metadata": {},
     "output_type": "execute_result"
    }
   ],
   "source": [
    "print(df_labels.shape)\n",
    "df_labels.head(20)"
   ]
  },
  {
   "cell_type": "code",
   "execution_count": 7,
   "metadata": {
    "colab": {
     "base_uri": "https://localhost:8080/",
     "height": 119
    },
    "colab_type": "code",
    "id": "5FRd-VlE3YPh",
    "outputId": "57ffdb76-ec49-4518-81f6-83ceee783fd9"
   },
   "outputs": [
    {
     "data": {
      "text/plain": [
       "0    322\n",
       "1    192\n",
       "2    251\n",
       "3    165\n",
       "4    133\n",
       "Name: num_to_rate, dtype: object"
      ]
     },
     "execution_count": 7,
     "metadata": {},
     "output_type": "execute_result"
    }
   ],
   "source": [
    "# define a function that will take the cell contents of num_to_rate and remove the\n",
    "# paretheses\n",
    "def strip_n2r(x):\n",
    "    return x.strip('(').strip(')')\n",
    "test=df_labels['num_to_rate'].apply(strip_n2r)\n",
    "test.head()"
   ]
  },
  {
   "cell_type": "code",
   "execution_count": 8,
   "metadata": {
    "colab": {},
    "colab_type": "code",
    "id": "vKJrQ3ma6iwM"
   },
   "outputs": [],
   "source": [
    "# make changes to df\n",
    "df_labels['num_to_rate']=df_labels['num_to_rate'].apply(strip_n2r)"
   ]
  },
  {
   "cell_type": "markdown",
   "metadata": {
    "colab_type": "text",
    "id": "gr7bjAEMM42e"
   },
   "source": [
    "#Data Cleaning/feature engineering"
   ]
  },
  {
   "cell_type": "markdown",
   "metadata": {
    "colab_type": "text",
    "id": "2JUQPfHQS5hF"
   },
   "source": [
    "###**geo-codes engineering**"
   ]
  },
  {
   "cell_type": "code",
   "execution_count": 10,
   "metadata": {
    "colab": {
     "base_uri": "https://localhost:8080/",
     "height": 122
    },
    "colab_type": "code",
    "id": "ng4pfqZ8NA7z",
    "outputId": "7b8c45c2-fe8b-4ccb-eb96-9885ef316e78"
   },
   "outputs": [
    {
     "name": "stdout",
     "output_type": "stream",
     "text": [
      "labels df:\n",
      "https://www.google.com/maps/search/calz+pizza/@36.8599294,-76.1147392,11z\n",
      "\n",
      "reviews df:\n"
     ]
    },
    {
     "data": {
      "text/plain": [
       "\"https://www.google.com/maps/place/Cal'z+Pizza+-+East+Little+Creek/@36.9181643,-76.2003157,17z/data=!3m1!4b1!4m10!1m2!2m1!1scalz+pizza!3m6!1s0x89ba914bb73fa53b:0x1301c924d4200997!8m2!3d36.91816!4d-76.198127!9m1!1b1\""
      ]
     },
     "execution_count": 10,
     "metadata": {},
     "output_type": "execute_result"
    }
   ],
   "source": [
    "# im going to have to extract the geo code from the following links and compare them to my geo codes from\n",
    "# my labels df to map the reviews to a particular store\n",
    "print(\"labels df:\")\n",
    "print(df_labels['web-scraper-start-url'].iloc[0])\n",
    "print(\"\\nreviews df:\")\n",
    "df['web-scraper-start-url'].iloc[0]"
   ]
  },
  {
   "cell_type": "code",
   "execution_count": 18,
   "metadata": {
    "colab": {
     "base_uri": "https://localhost:8080/",
     "height": 119
    },
    "colab_type": "code",
    "id": "wm-IpiZjN-N7",
    "outputId": "fb861443-25bd-4767-83bf-10e7dff541ed"
   },
   "outputs": [
    {
     "data": {
      "text/plain": [
       "0    [36.7819861, -76.3383989]\n",
       "1    [36.7819861, -76.3383989]\n",
       "2    [36.8262133, -76.4123802]\n",
       "3    [36.8031384, -76.1770067]\n",
       "4    [36.7819861, -76.3383989]\n",
       "Name: web-scraper-start-url, dtype: object"
      ]
     },
     "execution_count": 18,
     "metadata": {
      "tags": []
     },
     "output_type": "execute_result"
    }
   ],
   "source": [
    "# define a function to strip the url strings to reveal geo tags\n",
    "def parse_geo(x):\n",
    "  return x.split('@')[1].split(',')[:-1]\n",
    "# test it out before i make any changes\n",
    "test=df['web-scraper-start-url'].apply(parse_geo)\n",
    "test.head()"
   ]
  },
  {
   "cell_type": "code",
   "execution_count": 0,
   "metadata": {
    "colab": {},
    "colab_type": "code",
    "id": "K5lsCcV2PDKb"
   },
   "outputs": [],
   "source": [
    "# make changes\n",
    "df['geo']=df['web-scraper-start-url'].apply(parse_geo)\n",
    "df_labels['geo']=df_labels['start_url'].apply(parse_geo)"
   ]
  },
  {
   "cell_type": "code",
   "execution_count": 22,
   "metadata": {
    "colab": {
     "base_uri": "https://localhost:8080/",
     "height": 34
    },
    "colab_type": "code",
    "id": "coDE5AE9DYWE",
    "outputId": "24e11322-ea6a-45a8-a317-103357793360"
   },
   "outputs": [
    {
     "data": {
      "text/plain": [
       "str"
      ]
     },
     "execution_count": 22,
     "metadata": {
      "tags": []
     },
     "output_type": "execute_result"
    }
   ],
   "source": []
  },
  {
   "cell_type": "markdown",
   "metadata": {
    "colab_type": "text",
    "id": "wVX08Jd5SdWg"
   },
   "source": [
    "###**rating valuation engineering**"
   ]
  },
  {
   "cell_type": "code",
   "execution_count": 23,
   "metadata": {
    "colab": {
     "base_uri": "https://localhost:8080/",
     "height": 119
    },
    "colab_type": "code",
    "id": "q8yGI2GfKtsY",
    "outputId": "402d7cb3-73d6-4191-e132-b489dd5bda22"
   },
   "outputs": [
    {
     "data": {
      "text/plain": [
       "0    <span jstcache=\"293\" jsinstance=\"0\" class=\"sec...\n",
       "1    <span jstcache=\"293\" jsinstance=\"0\" class=\"sec...\n",
       "2    <span jstcache=\"293\" jsinstance=\"0\" class=\"sec...\n",
       "3    <span jstcache=\"293\" jsinstance=\"0\" class=\"sec...\n",
       "4    <span jstcache=\"293\" jsinstance=\"0\" class=\"sec...\n",
       "Name: rating_html, dtype: object"
      ]
     },
     "execution_count": 23,
     "metadata": {
      "tags": []
     },
     "output_type": "execute_result"
    }
   ],
   "source": [
    "# on the reviews it had images of lit stars triggered by js\n",
    "# to work around this i took the html source because i knew it would\n",
    "# show which stars are supossed to be triggered, but as a drawback\n",
    "# no i have to clean HTML instead of pretty output\n",
    "df['rating_html'].head()"
   ]
  },
  {
   "cell_type": "code",
   "execution_count": 24,
   "metadata": {
    "colab": {
     "base_uri": "https://localhost:8080/",
     "height": 119
    },
    "colab_type": "code",
    "id": "vF4vYJVqEOen",
    "outputId": "d4d937c6-13bf-4f0a-bffd-6155efe475b6"
   },
   "outputs": [
    {
     "data": {
      "text/plain": [
       "0    5\n",
       "1    1\n",
       "2    4\n",
       "3    4\n",
       "4    2\n",
       "Name: rating_html, dtype: int64"
      ]
     },
     "execution_count": 24,
     "metadata": {
      "tags": []
     },
     "output_type": "execute_result"
    }
   ],
   "source": [
    "# make a funtion to apply to col\n",
    "def clean_rating(x):\n",
    "  # make a list of strings to work with\n",
    "  out=x.split()\n",
    "  # sort list so that duplicates group togeather\n",
    "  out.sort()\n",
    "  # the first element is just '<span>' and the following 20 elements are redundant,\n",
    "  # the last 5 elements are placment flags\n",
    "  # remove all of them and leave me with just the number of active stars\n",
    "  # then get a count so i can have a pretty int\n",
    "  return len(out[21:len(out)-5])\n",
    "\n",
    "# test to make sure that it works\n",
    "test=df['rating_html'].apply(clean_rating)\n",
    "test.head()"
   ]
  },
  {
   "cell_type": "code",
   "execution_count": 0,
   "metadata": {
    "colab": {},
    "colab_type": "code",
    "id": "faS4XpfWEmif"
   },
   "outputs": [],
   "source": [
    "# make changes to df\n",
    "df['rating_html']=df['rating_html'].apply(clean_rating)"
   ]
  },
  {
   "cell_type": "markdown",
   "metadata": {
    "colab_type": "text",
    "id": "5F5Tp0eR2AZS"
   },
   "source": [
    "### **datetime engeenering for graphing**"
   ]
  },
  {
   "cell_type": "code",
   "execution_count": 26,
   "metadata": {
    "colab": {
     "base_uri": "https://localhost:8080/",
     "height": 510
    },
    "colab_type": "code",
    "id": "FYdva30PTyDj",
    "outputId": "d2afd219-b4f6-4355-e3d0-88425a64c078"
   },
   "outputs": [
    {
     "data": {
      "text/plain": [
       "a year ago       628\n",
       "2 years ago      394\n",
       "3 years ago      168\n",
       "7 months ago      91\n",
       "8 months ago      90\n",
       "6 months ago      74\n",
       "4 years ago       72\n",
       "11 months ago     68\n",
       "5 months ago      67\n",
       "9 months ago      65\n",
       "10 months ago     56\n",
       "a month ago       55\n",
       "4 months ago      54\n",
       "3 months ago      47\n",
       "2 months ago      35\n",
       "5 years ago       26\n",
       "a week ago        18\n",
       "2 weeks ago       17\n",
       "6 years ago       16\n",
       "3 weeks ago       12\n",
       "4 weeks ago       11\n",
       "8 years ago       10\n",
       "7 years ago        9\n",
       "5 days ago         4\n",
       "a day ago          4\n",
       "6 days ago         2\n",
       "9 years ago        2\n",
       "3 days ago         1\n",
       "Name: published_time, dtype: int64"
      ]
     },
     "execution_count": 26,
     "metadata": {
      "tags": []
     },
     "output_type": "execute_result"
    }
   ],
   "source": [
    "# humanfied dates are great to read, not so great to graph, i need to make theese\n",
    "# back into dt format,(why i have a glob at the top with the date of scrape)\n",
    "df['published_time'].value_counts()"
   ]
  },
  {
   "cell_type": "code",
   "execution_count": 0,
   "metadata": {
    "colab": {},
    "colab_type": "code",
    "id": "CFTib8j3W2NG"
   },
   "outputs": [],
   "source": [
    "# create a map for all units to hours\n",
    "time_map={'second':0.000278,'minute':0.0167,'hour':1,'day':24,'week':168,'month':530.5,'year':8766}\n",
    "# make a function that takes a relitive time 'a day ago' and transfers that to a datetime\n",
    "def human_to_dt(x):\n",
    "  # the number that i will end up subtracting from scrape date\n",
    "  diff=0\n",
    "  # make a datetime object to hold the date that the dataset was scrapped\n",
    "  dt=datetime.datetime.strptime(DATE_SCRAPED, '%m-%d-%Y')\n",
    "  # strip the string down to two values a quantifier and a unit\n",
    "  q,u=x[:-3].strip().split(' ')\n",
    "  # remove trailing s on unit it is not needed\n",
    "  if u[len(u)-1]==\"s\":\n",
    "    u=u[:len(u)-1]\n",
    "  # check if there is just one unit if so then set diff=1\n",
    "  if q == \"a\":\n",
    "    diff=time_map[u]\n",
    "  # if the number is not one then multiply the q by the map_key entry for u\n",
    "  else:\n",
    "    #safe cast\n",
    "    try:\n",
    "      diff=time_map[u]*int(q)\n",
    "    except:\n",
    "      print(\"ERROR\")\n",
    "      return 0\n",
    "  # convert dt to utc timestamp\n",
    "  dt=dt-datetime.timedelta(hours=diff)\n",
    "  timestamp = dt.replace(tzinfo=datetime.timezone.utc).timestamp()\n",
    "  return timestamp"
   ]
  },
  {
   "cell_type": "code",
   "execution_count": 32,
   "metadata": {
    "colab": {
     "base_uri": "https://localhost:8080/",
     "height": 34
    },
    "colab_type": "code",
    "id": "UaUsK0BUEBuw",
    "outputId": "cd80530b-4fd1-4d78-e267-78493d771ed7"
   },
   "outputs": [
    {
     "name": "stdout",
     "output_type": "stream",
     "text": [
      "1581292800.0\n"
     ]
    }
   ],
   "source": [
    "# making sure that it works how i want it to\n",
    "testvalue=df['published_time'].iloc[0]\n",
    "print(human_to_dt(testvalue))\n",
    "del testvalue"
   ]
  },
  {
   "cell_type": "code",
   "execution_count": 0,
   "metadata": {
    "colab": {},
    "colab_type": "code",
    "id": "4N9yfMNDy4G0"
   },
   "outputs": [],
   "source": [
    "# apply changes to df\n",
    "df['published_time']=df['published_time'].apply(human_to_dt)"
   ]
  },
  {
   "cell_type": "markdown",
   "metadata": {
    "colab_type": "text",
    "id": "1O5DlblZE6sg"
   },
   "source": [
    "## more data cleaning to drop columns that i dont need anymore"
   ]
  },
  {
   "cell_type": "code",
   "execution_count": 34,
   "metadata": {
    "colab": {
     "base_uri": "https://localhost:8080/",
     "height": 204
    },
    "colab_type": "code",
    "id": "SFc9duTqD1t6",
    "outputId": "be14a42e-1513-4b7c-b27e-1cc0f965ea57"
   },
   "outputs": [
    {
     "data": {
      "text/html": [
       "<div>\n",
       "<style scoped>\n",
       "    .dataframe tbody tr th:only-of-type {\n",
       "        vertical-align: middle;\n",
       "    }\n",
       "\n",
       "    .dataframe tbody tr th {\n",
       "        vertical-align: top;\n",
       "    }\n",
       "\n",
       "    .dataframe thead th {\n",
       "        text-align: right;\n",
       "    }\n",
       "</style>\n",
       "<table border=\"1\" class=\"dataframe\">\n",
       "  <thead>\n",
       "    <tr style=\"text-align: right;\">\n",
       "      <th></th>\n",
       "      <th>web-scraper-order</th>\n",
       "      <th>web-scraper-start-url</th>\n",
       "      <th>number_to_rate</th>\n",
       "      <th>name</th>\n",
       "      <th>published_time</th>\n",
       "      <th>review_content</th>\n",
       "      <th>rating_html</th>\n",
       "      <th>geo</th>\n",
       "    </tr>\n",
       "  </thead>\n",
       "  <tbody>\n",
       "    <tr>\n",
       "      <th>0</th>\n",
       "      <td>1582527995-344</td>\n",
       "      <td>https://www.google.com/maps/place/Chanello's+P...</td>\n",
       "      <td>124</td>\n",
       "      <td>lauren sams</td>\n",
       "      <td>1.581293e+09</td>\n",
       "      <td>Great and fast service with excellent food.</td>\n",
       "      <td>5</td>\n",
       "      <td>[36.7819861, -76.3383989]</td>\n",
       "    </tr>\n",
       "    <tr>\n",
       "      <th>1</th>\n",
       "      <td>1582527995-428</td>\n",
       "      <td>https://www.google.com/maps/place/Chanello's+P...</td>\n",
       "      <td>124</td>\n",
       "      <td>Krys Peirce</td>\n",
       "      <td>1.550945e+09</td>\n",
       "      <td>NaN</td>\n",
       "      <td>1</td>\n",
       "      <td>[36.7819861, -76.3383989]</td>\n",
       "    </tr>\n",
       "    <tr>\n",
       "      <th>2</th>\n",
       "      <td>1582527918-244</td>\n",
       "      <td>https://www.google.com/maps/place/Chanello's+P...</td>\n",
       "      <td>101</td>\n",
       "      <td>lori kent</td>\n",
       "      <td>1.487830e+09</td>\n",
       "      <td>NaN</td>\n",
       "      <td>4</td>\n",
       "      <td>[36.8262133, -76.4123802]</td>\n",
       "    </tr>\n",
       "    <tr>\n",
       "      <th>3</th>\n",
       "      <td>1582528346-1348</td>\n",
       "      <td>https://www.google.com/maps/place/Chanello's+P...</td>\n",
       "      <td>62</td>\n",
       "      <td>Christian Betz</td>\n",
       "      <td>1.456272e+09</td>\n",
       "      <td>NaN</td>\n",
       "      <td>4</td>\n",
       "      <td>[36.8031384, -76.1770067]</td>\n",
       "    </tr>\n",
       "    <tr>\n",
       "      <th>4</th>\n",
       "      <td>1582527995-377</td>\n",
       "      <td>https://www.google.com/maps/place/Chanello's+P...</td>\n",
       "      <td>124</td>\n",
       "      <td>Janel Brosseit</td>\n",
       "      <td>1.550945e+09</td>\n",
       "      <td>This rating goes more towards the food. Just r...</td>\n",
       "      <td>2</td>\n",
       "      <td>[36.7819861, -76.3383989]</td>\n",
       "    </tr>\n",
       "  </tbody>\n",
       "</table>\n",
       "</div>"
      ],
      "text/plain": [
       "  web-scraper-order  ...                        geo\n",
       "0    1582527995-344  ...  [36.7819861, -76.3383989]\n",
       "1    1582527995-428  ...  [36.7819861, -76.3383989]\n",
       "2    1582527918-244  ...  [36.8262133, -76.4123802]\n",
       "3   1582528346-1348  ...  [36.8031384, -76.1770067]\n",
       "4    1582527995-377  ...  [36.7819861, -76.3383989]\n",
       "\n",
       "[5 rows x 8 columns]"
      ]
     },
     "execution_count": 34,
     "metadata": {
      "tags": []
     },
     "output_type": "execute_result"
    }
   ],
   "source": [
    "df.head()"
   ]
  },
  {
   "cell_type": "code",
   "execution_count": 35,
   "metadata": {
    "colab": {
     "base_uri": "https://localhost:8080/",
     "height": 204
    },
    "colab_type": "code",
    "id": "UXaTz-61EgRz",
    "outputId": "b35ded30-1138-46c5-cce5-d0bf73d99642"
   },
   "outputs": [
    {
     "data": {
      "text/html": [
       "<div>\n",
       "<style scoped>\n",
       "    .dataframe tbody tr th:only-of-type {\n",
       "        vertical-align: middle;\n",
       "    }\n",
       "\n",
       "    .dataframe tbody tr th {\n",
       "        vertical-align: top;\n",
       "    }\n",
       "\n",
       "    .dataframe thead th {\n",
       "        text-align: right;\n",
       "    }\n",
       "</style>\n",
       "<table border=\"1\" class=\"dataframe\">\n",
       "  <thead>\n",
       "    <tr style=\"text-align: right;\">\n",
       "      <th></th>\n",
       "      <th>web-scraper-order</th>\n",
       "      <th>name</th>\n",
       "      <th>rating</th>\n",
       "      <th>address</th>\n",
       "      <th>num_to_rate</th>\n",
       "      <th>start_url</th>\n",
       "      <th>geo</th>\n",
       "    </tr>\n",
       "  </thead>\n",
       "  <tbody>\n",
       "    <tr>\n",
       "      <th>0</th>\n",
       "      <td>1582755020-11</td>\n",
       "      <td>Chanello's Pizza #1</td>\n",
       "      <td>3.7</td>\n",
       "      <td>8245 Hampton Blvd</td>\n",
       "      <td>87</td>\n",
       "      <td>https://www.google.com/maps/place/Chanello's+P...</td>\n",
       "      <td>[36.928009, -76.3205357]</td>\n",
       "    </tr>\n",
       "    <tr>\n",
       "      <th>1</th>\n",
       "      <td>1582755020-2</td>\n",
       "      <td>Chanello's Pizza #19</td>\n",
       "      <td>4.0</td>\n",
       "      <td>2226 Pleasure House Rd</td>\n",
       "      <td>68</td>\n",
       "      <td>https://www.google.com/maps/place/Chanello's+P...</td>\n",
       "      <td>[36.9056756, -76.1367491]</td>\n",
       "    </tr>\n",
       "    <tr>\n",
       "      <th>2</th>\n",
       "      <td>1582755020-16</td>\n",
       "      <td>Chanello's Pizza #33</td>\n",
       "      <td>3.1</td>\n",
       "      <td>1122 George Washington Hwy N</td>\n",
       "      <td>124</td>\n",
       "      <td>https://www.google.com/maps/place/Chanello's+P...</td>\n",
       "      <td>[36.7819818, -76.3383989]</td>\n",
       "    </tr>\n",
       "    <tr>\n",
       "      <th>3</th>\n",
       "      <td>1582755020-1</td>\n",
       "      <td>Chanello's Pizza #2</td>\n",
       "      <td>3.1</td>\n",
       "      <td>3201 E Ocean View Ave</td>\n",
       "      <td>116</td>\n",
       "      <td>https://www.google.com/maps/place/Chanello's+P...</td>\n",
       "      <td>[36.932126, -76.2046187]</td>\n",
       "    </tr>\n",
       "    <tr>\n",
       "      <th>4</th>\n",
       "      <td>1582755020-6</td>\n",
       "      <td>Chanello's Pizza #11</td>\n",
       "      <td>3.4</td>\n",
       "      <td>6657 Indian River Rd</td>\n",
       "      <td>148</td>\n",
       "      <td>https://www.google.com/maps/place/Chanello's+P...</td>\n",
       "      <td>[36.819091, -76.2241417]</td>\n",
       "    </tr>\n",
       "  </tbody>\n",
       "</table>\n",
       "</div>"
      ],
      "text/plain": [
       "  web-scraper-order  ...                        geo\n",
       "0     1582755020-11  ...   [36.928009, -76.3205357]\n",
       "1      1582755020-2  ...  [36.9056756, -76.1367491]\n",
       "2     1582755020-16  ...  [36.7819818, -76.3383989]\n",
       "3      1582755020-1  ...   [36.932126, -76.2046187]\n",
       "4      1582755020-6  ...   [36.819091, -76.2241417]\n",
       "\n",
       "[5 rows x 7 columns]"
      ]
     },
     "execution_count": 35,
     "metadata": {
      "tags": []
     },
     "output_type": "execute_result"
    }
   ],
   "source": [
    "df_labels.head()"
   ]
  },
  {
   "cell_type": "code",
   "execution_count": 0,
   "metadata": {
    "colab": {},
    "colab_type": "code",
    "id": "Z6cBOCX8Ey1r"
   },
   "outputs": [],
   "source": [
    "# going to drop internal scraper columns that dont add context for the information\n",
    "# that is provided by them\n",
    "df=df.drop(['web-scraper-order','web-scraper-start-url'],axis=1)\n",
    "df_labels=df_labels.drop(['web-scraper-order','start_url'],axis=1)"
   ]
  },
  {
   "cell_type": "markdown",
   "metadata": {
    "colab_type": "text",
    "id": "jc9uP7N8GKeQ"
   },
   "source": [
    "##merging df's based on geo codes"
   ]
  },
  {
   "cell_type": "code",
   "execution_count": 0,
   "metadata": {
    "colab": {},
    "colab_type": "code",
    "id": "V3EDr6VIFtw0"
   },
   "outputs": [],
   "source": [
    "# but first i have to cast and round existing geo codes in both df's because\n",
    "# google does such a great job at consitency\n",
    "testvalue=df['geo'].iloc[0]\n",
    "# define a function that reurns a tuple of rounded floates from the geo tags\n",
    "# going with 3 signifigant figures since that equates to 110m and none of the \n",
    "# stores are that close\n",
    "def clean_geos(x):\n",
    "  out=[round(float(x[0]),3),round(float(x[1]),3)]\n",
    "  return out\n",
    "  \n",
    "# self explainitory\n",
    "def sep_lat(x):\n",
    "  return x[0]\n",
    "def sep_long(x):\n",
    "  return x[1]\n"
   ]
  },
  {
   "cell_type": "code",
   "execution_count": 0,
   "metadata": {
    "colab": {},
    "colab_type": "code",
    "id": "MBhNu6lELom2"
   },
   "outputs": [],
   "source": [
    "# make changes to df's\n",
    "df['geo']=df['geo'].apply(clean_geos)\n",
    "df_labels['geo']=df_labels['geo'].apply(clean_geos)"
   ]
  },
  {
   "cell_type": "code",
   "execution_count": 0,
   "metadata": {
    "colab": {},
    "colab_type": "code",
    "id": "2eIHm-SyLr6c"
   },
   "outputs": [],
   "source": [
    "# add latitude and longitude columns\n",
    "df['latitude']=df['geo'].apply(sep_lat)\n",
    "df_labels['latitude']=df_labels['geo'].apply(sep_lat)\n",
    "df['longitude']=df['geo'].apply(sep_long)\n",
    "df_labels['longitude']=df_labels['geo'].apply(sep_long)"
   ]
  },
  {
   "cell_type": "code",
   "execution_count": 66,
   "metadata": {
    "colab": {
     "base_uri": "https://localhost:8080/",
     "height": 204
    },
    "colab_type": "code",
    "id": "sXgPBABoGsB4",
    "outputId": "b80c5273-ab7d-4fca-f504-458a370288ff"
   },
   "outputs": [
    {
     "data": {
      "text/html": [
       "<div>\n",
       "<style scoped>\n",
       "    .dataframe tbody tr th:only-of-type {\n",
       "        vertical-align: middle;\n",
       "    }\n",
       "\n",
       "    .dataframe tbody tr th {\n",
       "        vertical-align: top;\n",
       "    }\n",
       "\n",
       "    .dataframe thead th {\n",
       "        text-align: right;\n",
       "    }\n",
       "</style>\n",
       "<table border=\"1\" class=\"dataframe\">\n",
       "  <thead>\n",
       "    <tr style=\"text-align: right;\">\n",
       "      <th></th>\n",
       "      <th>name</th>\n",
       "      <th>rating</th>\n",
       "      <th>address</th>\n",
       "      <th>num_to_rate</th>\n",
       "      <th>geo</th>\n",
       "      <th>latitude</th>\n",
       "      <th>longitude</th>\n",
       "    </tr>\n",
       "  </thead>\n",
       "  <tbody>\n",
       "    <tr>\n",
       "      <th>0</th>\n",
       "      <td>Chanello's Pizza #1</td>\n",
       "      <td>3.7</td>\n",
       "      <td>8245 Hampton Blvd</td>\n",
       "      <td>87</td>\n",
       "      <td>[36.928, -76.321]</td>\n",
       "      <td>36.928</td>\n",
       "      <td>-76.321</td>\n",
       "    </tr>\n",
       "    <tr>\n",
       "      <th>1</th>\n",
       "      <td>Chanello's Pizza #19</td>\n",
       "      <td>4.0</td>\n",
       "      <td>2226 Pleasure House Rd</td>\n",
       "      <td>68</td>\n",
       "      <td>[36.906, -76.137]</td>\n",
       "      <td>36.906</td>\n",
       "      <td>-76.137</td>\n",
       "    </tr>\n",
       "    <tr>\n",
       "      <th>2</th>\n",
       "      <td>Chanello's Pizza #33</td>\n",
       "      <td>3.1</td>\n",
       "      <td>1122 George Washington Hwy N</td>\n",
       "      <td>124</td>\n",
       "      <td>[36.782, -76.338]</td>\n",
       "      <td>36.782</td>\n",
       "      <td>-76.338</td>\n",
       "    </tr>\n",
       "    <tr>\n",
       "      <th>3</th>\n",
       "      <td>Chanello's Pizza #2</td>\n",
       "      <td>3.1</td>\n",
       "      <td>3201 E Ocean View Ave</td>\n",
       "      <td>116</td>\n",
       "      <td>[36.932, -76.205]</td>\n",
       "      <td>36.932</td>\n",
       "      <td>-76.205</td>\n",
       "    </tr>\n",
       "    <tr>\n",
       "      <th>4</th>\n",
       "      <td>Chanello's Pizza #11</td>\n",
       "      <td>3.4</td>\n",
       "      <td>6657 Indian River Rd</td>\n",
       "      <td>148</td>\n",
       "      <td>[36.819, -76.224]</td>\n",
       "      <td>36.819</td>\n",
       "      <td>-76.224</td>\n",
       "    </tr>\n",
       "  </tbody>\n",
       "</table>\n",
       "</div>"
      ],
      "text/plain": [
       "                   name  rating  ... latitude  longitude\n",
       "0   Chanello's Pizza #1     3.7  ...   36.928    -76.321\n",
       "1  Chanello's Pizza #19     4.0  ...   36.906    -76.137\n",
       "2  Chanello's Pizza #33     3.1  ...   36.782    -76.338\n",
       "3   Chanello's Pizza #2     3.1  ...   36.932    -76.205\n",
       "4  Chanello's Pizza #11     3.4  ...   36.819    -76.224\n",
       "\n",
       "[5 rows x 7 columns]"
      ]
     },
     "execution_count": 66,
     "metadata": {
      "tags": []
     },
     "output_type": "execute_result"
    }
   ],
   "source": [
    "df_labels.head()"
   ]
  },
  {
   "cell_type": "code",
   "execution_count": 67,
   "metadata": {
    "colab": {
     "base_uri": "https://localhost:8080/",
     "height": 204
    },
    "colab_type": "code",
    "id": "BDEGAnCYJ11-",
    "outputId": "0128cb07-888b-4c65-c96d-2c83069310c0"
   },
   "outputs": [
    {
     "data": {
      "text/html": [
       "<div>\n",
       "<style scoped>\n",
       "    .dataframe tbody tr th:only-of-type {\n",
       "        vertical-align: middle;\n",
       "    }\n",
       "\n",
       "    .dataframe tbody tr th {\n",
       "        vertical-align: top;\n",
       "    }\n",
       "\n",
       "    .dataframe thead th {\n",
       "        text-align: right;\n",
       "    }\n",
       "</style>\n",
       "<table border=\"1\" class=\"dataframe\">\n",
       "  <thead>\n",
       "    <tr style=\"text-align: right;\">\n",
       "      <th></th>\n",
       "      <th>number_to_rate</th>\n",
       "      <th>name</th>\n",
       "      <th>published_time</th>\n",
       "      <th>review_content</th>\n",
       "      <th>rating_html</th>\n",
       "      <th>geo</th>\n",
       "      <th>latitude</th>\n",
       "      <th>longitude</th>\n",
       "    </tr>\n",
       "  </thead>\n",
       "  <tbody>\n",
       "    <tr>\n",
       "      <th>0</th>\n",
       "      <td>124</td>\n",
       "      <td>lauren sams</td>\n",
       "      <td>1.581293e+09</td>\n",
       "      <td>Great and fast service with excellent food.</td>\n",
       "      <td>5</td>\n",
       "      <td>[36.782, -76.338]</td>\n",
       "      <td>36.782</td>\n",
       "      <td>-76.338</td>\n",
       "    </tr>\n",
       "    <tr>\n",
       "      <th>1</th>\n",
       "      <td>124</td>\n",
       "      <td>Krys Peirce</td>\n",
       "      <td>1.550945e+09</td>\n",
       "      <td>NaN</td>\n",
       "      <td>1</td>\n",
       "      <td>[36.782, -76.338]</td>\n",
       "      <td>36.782</td>\n",
       "      <td>-76.338</td>\n",
       "    </tr>\n",
       "    <tr>\n",
       "      <th>2</th>\n",
       "      <td>101</td>\n",
       "      <td>lori kent</td>\n",
       "      <td>1.487830e+09</td>\n",
       "      <td>NaN</td>\n",
       "      <td>4</td>\n",
       "      <td>[36.826, -76.412]</td>\n",
       "      <td>36.826</td>\n",
       "      <td>-76.412</td>\n",
       "    </tr>\n",
       "    <tr>\n",
       "      <th>3</th>\n",
       "      <td>62</td>\n",
       "      <td>Christian Betz</td>\n",
       "      <td>1.456272e+09</td>\n",
       "      <td>NaN</td>\n",
       "      <td>4</td>\n",
       "      <td>[36.803, -76.177]</td>\n",
       "      <td>36.803</td>\n",
       "      <td>-76.177</td>\n",
       "    </tr>\n",
       "    <tr>\n",
       "      <th>4</th>\n",
       "      <td>124</td>\n",
       "      <td>Janel Brosseit</td>\n",
       "      <td>1.550945e+09</td>\n",
       "      <td>This rating goes more towards the food. Just r...</td>\n",
       "      <td>2</td>\n",
       "      <td>[36.782, -76.338]</td>\n",
       "      <td>36.782</td>\n",
       "      <td>-76.338</td>\n",
       "    </tr>\n",
       "  </tbody>\n",
       "</table>\n",
       "</div>"
      ],
      "text/plain": [
       "  number_to_rate            name  ...  latitude longitude\n",
       "0            124     lauren sams  ...    36.782   -76.338\n",
       "1            124     Krys Peirce  ...    36.782   -76.338\n",
       "2            101       lori kent  ...    36.826   -76.412\n",
       "3             62  Christian Betz  ...    36.803   -76.177\n",
       "4            124  Janel Brosseit  ...    36.782   -76.338\n",
       "\n",
       "[5 rows x 8 columns]"
      ]
     },
     "execution_count": 67,
     "metadata": {
      "tags": []
     },
     "output_type": "execute_result"
    }
   ],
   "source": [
    "df.head()"
   ]
  },
  {
   "cell_type": "code",
   "execution_count": 0,
   "metadata": {
    "colab": {},
    "colab_type": "code",
    "id": "ffg_3vBfJ4hF"
   },
   "outputs": [],
   "source": [
    "# drop some more columns that are a pain in my ass\n",
    "df=df.drop('geo',axis=1)\n",
    "df_labels=df_labels.drop('geo',axis=1)\n",
    "df=df.drop('number_to_rate',axis=1)\n",
    "\n",
    "# merge data frames which will map the store the customer\n",
    "test=df.merge(df_labels,on=['latitude','longitude'])"
   ]
  },
  {
   "cell_type": "code",
   "execution_count": 79,
   "metadata": {
    "colab": {
     "base_uri": "https://localhost:8080/",
     "height": 1000
    },
    "colab_type": "code",
    "id": "Ov8Xj6zAQ9_W",
    "outputId": "855de236-ece8-407d-e32d-d4ffd52b3b2d"
   },
   "outputs": [
    {
     "data": {
      "text/html": [
       "<div>\n",
       "<style scoped>\n",
       "    .dataframe tbody tr th:only-of-type {\n",
       "        vertical-align: middle;\n",
       "    }\n",
       "\n",
       "    .dataframe tbody tr th {\n",
       "        vertical-align: top;\n",
       "    }\n",
       "\n",
       "    .dataframe thead th {\n",
       "        text-align: right;\n",
       "    }\n",
       "</style>\n",
       "<table border=\"1\" class=\"dataframe\">\n",
       "  <thead>\n",
       "    <tr style=\"text-align: right;\">\n",
       "      <th></th>\n",
       "      <th>name_x</th>\n",
       "      <th>published_time</th>\n",
       "      <th>review_content</th>\n",
       "      <th>rating_html</th>\n",
       "      <th>latitude</th>\n",
       "      <th>longitude</th>\n",
       "      <th>name_y</th>\n",
       "      <th>rating</th>\n",
       "      <th>address</th>\n",
       "      <th>num_to_rate</th>\n",
       "    </tr>\n",
       "  </thead>\n",
       "  <tbody>\n",
       "    <tr>\n",
       "      <th>1123</th>\n",
       "      <td>nepochopení</td>\n",
       "      <td>1.580593e+09</td>\n",
       "      <td>NaN</td>\n",
       "      <td>5</td>\n",
       "      <td>36.872</td>\n",
       "      <td>-76.300</td>\n",
       "      <td>Chanello's Pizza #5</td>\n",
       "      <td>3.3</td>\n",
       "      <td>901 W 21st St</td>\n",
       "      <td>157</td>\n",
       "    </tr>\n",
       "    <tr>\n",
       "      <th>342</th>\n",
       "      <td>Jcjohn Slaya</td>\n",
       "      <td>1.550945e+09</td>\n",
       "      <td>NaN</td>\n",
       "      <td>4</td>\n",
       "      <td>36.869</td>\n",
       "      <td>-76.149</td>\n",
       "      <td>Chanello's Pizza #6</td>\n",
       "      <td>3.6</td>\n",
       "      <td>1002 Aragona Blvd</td>\n",
       "      <td>111</td>\n",
       "    </tr>\n",
       "    <tr>\n",
       "      <th>428</th>\n",
       "      <td>A Gaskins</td>\n",
       "      <td>1.550945e+09</td>\n",
       "      <td>I haven't been disappointed yet! Quick deliver...</td>\n",
       "      <td>5</td>\n",
       "      <td>36.790</td>\n",
       "      <td>-76.126</td>\n",
       "      <td>Chanello's Pizza #4</td>\n",
       "      <td>3.9</td>\n",
       "      <td>2085 Lynnhaven Pkwy Suite 104</td>\n",
       "      <td>83</td>\n",
       "    </tr>\n",
       "    <tr>\n",
       "      <th>1132</th>\n",
       "      <td>David Mendez</td>\n",
       "      <td>1.519387e+09</td>\n",
       "      <td>NaN</td>\n",
       "      <td>5</td>\n",
       "      <td>36.872</td>\n",
       "      <td>-76.300</td>\n",
       "      <td>Chanello's Pizza #5</td>\n",
       "      <td>3.3</td>\n",
       "      <td>901 W 21st St</td>\n",
       "      <td>157</td>\n",
       "    </tr>\n",
       "    <tr>\n",
       "      <th>1871</th>\n",
       "      <td>Sittinpretty NC</td>\n",
       "      <td>1.424714e+09</td>\n",
       "      <td>All I know is this location messes.up your foo...</td>\n",
       "      <td>1</td>\n",
       "      <td>36.819</td>\n",
       "      <td>-76.224</td>\n",
       "      <td>Chanello's Pizza #11</td>\n",
       "      <td>3.4</td>\n",
       "      <td>6657 Indian River Rd</td>\n",
       "      <td>148</td>\n",
       "    </tr>\n",
       "    <tr>\n",
       "      <th>746</th>\n",
       "      <td>Matthew Nelson</td>\n",
       "      <td>1.456272e+09</td>\n",
       "      <td>I am going to have to work</td>\n",
       "      <td>1</td>\n",
       "      <td>36.835</td>\n",
       "      <td>-76.343</td>\n",
       "      <td>Chanello's Pizza #32</td>\n",
       "      <td>3.4</td>\n",
       "      <td>3200 High St</td>\n",
       "      <td>101</td>\n",
       "    </tr>\n",
       "    <tr>\n",
       "      <th>420</th>\n",
       "      <td>MRB Banks</td>\n",
       "      <td>1.550945e+09</td>\n",
       "      <td>Not happy with the pizza.  It was burned.</td>\n",
       "      <td>2</td>\n",
       "      <td>36.790</td>\n",
       "      <td>-76.126</td>\n",
       "      <td>Chanello's Pizza #4</td>\n",
       "      <td>3.9</td>\n",
       "      <td>2085 Lynnhaven Pkwy Suite 104</td>\n",
       "      <td>83</td>\n",
       "    </tr>\n",
       "    <tr>\n",
       "      <th>265</th>\n",
       "      <td>Kieran Bilginer</td>\n",
       "      <td>1.569134e+09</td>\n",
       "      <td>NaN</td>\n",
       "      <td>1</td>\n",
       "      <td>36.803</td>\n",
       "      <td>-76.177</td>\n",
       "      <td>Chanello's Pizza #7</td>\n",
       "      <td>3.5</td>\n",
       "      <td>5300 Kemps River Dr #118</td>\n",
       "      <td>63</td>\n",
       "    </tr>\n",
       "    <tr>\n",
       "      <th>961</th>\n",
       "      <td>Deidra Washington</td>\n",
       "      <td>1.569134e+09</td>\n",
       "      <td>❤️</td>\n",
       "      <td>5</td>\n",
       "      <td>36.892</td>\n",
       "      <td>-76.241</td>\n",
       "      <td>Chanello's Pizza #9</td>\n",
       "      <td>3.4</td>\n",
       "      <td>6213 Chesapeake Blvd</td>\n",
       "      <td>206</td>\n",
       "    </tr>\n",
       "    <tr>\n",
       "      <th>1329</th>\n",
       "      <td>Amanda Nimmo</td>\n",
       "      <td>1.563404e+09</td>\n",
       "      <td>I went there on Feb 25th at like 11pm and got ...</td>\n",
       "      <td>5</td>\n",
       "      <td>36.841</td>\n",
       "      <td>-75.997</td>\n",
       "      <td>Chanello's Pizza #3</td>\n",
       "      <td>3.6</td>\n",
       "      <td>1077 Virginia Beach Blvd</td>\n",
       "      <td>143</td>\n",
       "    </tr>\n",
       "    <tr>\n",
       "      <th>1908</th>\n",
       "      <td>Monique Brathwaite</td>\n",
       "      <td>1.519387e+09</td>\n",
       "      <td>Great sub buy only 1 person was working so I h...</td>\n",
       "      <td>4</td>\n",
       "      <td>36.819</td>\n",
       "      <td>-76.224</td>\n",
       "      <td>Chanello's Pizza #11</td>\n",
       "      <td>3.4</td>\n",
       "      <td>6657 Indian River Rd</td>\n",
       "      <td>148</td>\n",
       "    </tr>\n",
       "    <tr>\n",
       "      <th>444</th>\n",
       "      <td>Devo</td>\n",
       "      <td>1.550945e+09</td>\n",
       "      <td>Terrible customer service \\nFor starters the g...</td>\n",
       "      <td>1</td>\n",
       "      <td>36.790</td>\n",
       "      <td>-76.126</td>\n",
       "      <td>Chanello's Pizza #4</td>\n",
       "      <td>3.9</td>\n",
       "      <td>2085 Lynnhaven Pkwy Suite 104</td>\n",
       "      <td>83</td>\n",
       "    </tr>\n",
       "    <tr>\n",
       "      <th>272</th>\n",
       "      <td>Jamie Stanston</td>\n",
       "      <td>1.561495e+09</td>\n",
       "      <td>NaN</td>\n",
       "      <td>5</td>\n",
       "      <td>36.803</td>\n",
       "      <td>-76.177</td>\n",
       "      <td>Chanello's Pizza #7</td>\n",
       "      <td>3.5</td>\n",
       "      <td>5300 Kemps River Dr #118</td>\n",
       "      <td>63</td>\n",
       "    </tr>\n",
       "    <tr>\n",
       "      <th>1430</th>\n",
       "      <td>Jack Wareing</td>\n",
       "      <td>1.578683e+09</td>\n",
       "      <td>Great late night Pizza delivery. Juliet's Choi...</td>\n",
       "      <td>5</td>\n",
       "      <td>36.841</td>\n",
       "      <td>-75.997</td>\n",
       "      <td>Chanello's Pizza #3</td>\n",
       "      <td>3.6</td>\n",
       "      <td>1077 Virginia Beach Blvd</td>\n",
       "      <td>143</td>\n",
       "    </tr>\n",
       "    <tr>\n",
       "      <th>934</th>\n",
       "      <td>Hermenia Baker</td>\n",
       "      <td>1.574863e+09</td>\n",
       "      <td>NaN</td>\n",
       "      <td>5</td>\n",
       "      <td>36.892</td>\n",
       "      <td>-76.241</td>\n",
       "      <td>Chanello's Pizza #9</td>\n",
       "      <td>3.4</td>\n",
       "      <td>6213 Chesapeake Blvd</td>\n",
       "      <td>206</td>\n",
       "    </tr>\n",
       "    <tr>\n",
       "      <th>1975</th>\n",
       "      <td>Dawn Antoon</td>\n",
       "      <td>1.572953e+09</td>\n",
       "      <td>I'm from out of town. In the Virginia Beach ar...</td>\n",
       "      <td>4</td>\n",
       "      <td>36.819</td>\n",
       "      <td>-76.224</td>\n",
       "      <td>Chanello's Pizza #11</td>\n",
       "      <td>3.4</td>\n",
       "      <td>6657 Indian River Rd</td>\n",
       "      <td>148</td>\n",
       "    </tr>\n",
       "    <tr>\n",
       "      <th>553</th>\n",
       "      <td>Shelli Loud</td>\n",
       "      <td>1.561495e+09</td>\n",
       "      <td>NaN</td>\n",
       "      <td>5</td>\n",
       "      <td>37.040</td>\n",
       "      <td>-76.408</td>\n",
       "      <td>Chanello's Pizza #26</td>\n",
       "      <td>2.9</td>\n",
       "      <td>1818 Todds Ln</td>\n",
       "      <td>141</td>\n",
       "    </tr>\n",
       "    <tr>\n",
       "      <th>1186</th>\n",
       "      <td>Lisa Janko</td>\n",
       "      <td>1.519387e+09</td>\n",
       "      <td>The most awful place to get pizza.</td>\n",
       "      <td>5</td>\n",
       "      <td>36.932</td>\n",
       "      <td>-76.205</td>\n",
       "      <td>Chanello's Pizza #2</td>\n",
       "      <td>3.1</td>\n",
       "      <td>3201 E Ocean View Ave</td>\n",
       "      <td>116</td>\n",
       "    </tr>\n",
       "    <tr>\n",
       "      <th>2002</th>\n",
       "      <td>Centwane Gatling</td>\n",
       "      <td>1.563404e+09</td>\n",
       "      <td>NaN</td>\n",
       "      <td>3</td>\n",
       "      <td>36.819</td>\n",
       "      <td>-76.224</td>\n",
       "      <td>Chanello's Pizza #11</td>\n",
       "      <td>3.4</td>\n",
       "      <td>6657 Indian River Rd</td>\n",
       "      <td>148</td>\n",
       "    </tr>\n",
       "    <tr>\n",
       "      <th>799</th>\n",
       "      <td>Elvin Gay</td>\n",
       "      <td>1.487830e+09</td>\n",
       "      <td>NaN</td>\n",
       "      <td>3</td>\n",
       "      <td>36.835</td>\n",
       "      <td>-76.343</td>\n",
       "      <td>Chanello's Pizza #32</td>\n",
       "      <td>3.4</td>\n",
       "      <td>3200 High St</td>\n",
       "      <td>101</td>\n",
       "    </tr>\n",
       "    <tr>\n",
       "      <th>566</th>\n",
       "      <td>Sam W</td>\n",
       "      <td>1.580593e+09</td>\n",
       "      <td>NaN</td>\n",
       "      <td>5</td>\n",
       "      <td>37.040</td>\n",
       "      <td>-76.408</td>\n",
       "      <td>Chanello's Pizza #26</td>\n",
       "      <td>2.9</td>\n",
       "      <td>1818 Todds Ln</td>\n",
       "      <td>141</td>\n",
       "    </tr>\n",
       "    <tr>\n",
       "      <th>1887</th>\n",
       "      <td>Shrell Watson</td>\n",
       "      <td>1.456272e+09</td>\n",
       "      <td>Like a pro good 100%</td>\n",
       "      <td>4</td>\n",
       "      <td>36.819</td>\n",
       "      <td>-76.224</td>\n",
       "      <td>Chanello's Pizza #11</td>\n",
       "      <td>3.4</td>\n",
       "      <td>6657 Indian River Rd</td>\n",
       "      <td>148</td>\n",
       "    </tr>\n",
       "    <tr>\n",
       "      <th>1521</th>\n",
       "      <td>Shenika Henson</td>\n",
       "      <td>1.550945e+09</td>\n",
       "      <td>Only thing is I like FRIED FRENCH FRIES &amp; they...</td>\n",
       "      <td>3</td>\n",
       "      <td>37.042</td>\n",
       "      <td>-76.351</td>\n",
       "      <td>Chanello's Pizza #10</td>\n",
       "      <td>3.7</td>\n",
       "      <td>1017 N King St</td>\n",
       "      <td>120</td>\n",
       "    </tr>\n",
       "    <tr>\n",
       "      <th>2083</th>\n",
       "      <td>Christopher Pokines</td>\n",
       "      <td>1.581898e+09</td>\n",
       "      <td>NaN</td>\n",
       "      <td>5</td>\n",
       "      <td>36.712</td>\n",
       "      <td>-76.241</td>\n",
       "      <td>Chanello's Pizza #13</td>\n",
       "      <td>4.1</td>\n",
       "      <td>307 Johnstown Rd</td>\n",
       "      <td>80</td>\n",
       "    </tr>\n",
       "    <tr>\n",
       "      <th>1059</th>\n",
       "      <td>Theodoric thurmond</td>\n",
       "      <td>1.550945e+09</td>\n",
       "      <td>NaN</td>\n",
       "      <td>5</td>\n",
       "      <td>36.872</td>\n",
       "      <td>-76.300</td>\n",
       "      <td>Chanello's Pizza #5</td>\n",
       "      <td>3.3</td>\n",
       "      <td>901 W 21st St</td>\n",
       "      <td>157</td>\n",
       "    </tr>\n",
       "    <tr>\n",
       "      <th>1676</th>\n",
       "      <td>Will Bailey</td>\n",
       "      <td>1.550945e+09</td>\n",
       "      <td>NaN</td>\n",
       "      <td>3</td>\n",
       "      <td>36.840</td>\n",
       "      <td>-76.089</td>\n",
       "      <td>Chanello's Pizza</td>\n",
       "      <td>3.5</td>\n",
       "      <td>3333 Virginia Beach Blvd</td>\n",
       "      <td>85</td>\n",
       "    </tr>\n",
       "    <tr>\n",
       "      <th>1695</th>\n",
       "      <td>Lois Garner</td>\n",
       "      <td>1.580688e+09</td>\n",
       "      <td>Order was delivered on time and hot\\n Toppings...</td>\n",
       "      <td>5</td>\n",
       "      <td>36.840</td>\n",
       "      <td>-76.089</td>\n",
       "      <td>Chanello's Pizza</td>\n",
       "      <td>3.5</td>\n",
       "      <td>3333 Virginia Beach Blvd</td>\n",
       "      <td>85</td>\n",
       "    </tr>\n",
       "    <tr>\n",
       "      <th>327</th>\n",
       "      <td>Shanita Roberts</td>\n",
       "      <td>1.578683e+09</td>\n",
       "      <td>This Chanello's use to be great but in the pas...</td>\n",
       "      <td>1</td>\n",
       "      <td>36.869</td>\n",
       "      <td>-76.149</td>\n",
       "      <td>Chanello's Pizza #6</td>\n",
       "      <td>3.6</td>\n",
       "      <td>1002 Aragona Blvd</td>\n",
       "      <td>111</td>\n",
       "    </tr>\n",
       "    <tr>\n",
       "      <th>784</th>\n",
       "      <td>Wanda Semidey</td>\n",
       "      <td>1.487830e+09</td>\n",
       "      <td>NaN</td>\n",
       "      <td>5</td>\n",
       "      <td>36.835</td>\n",
       "      <td>-76.343</td>\n",
       "      <td>Chanello's Pizza #32</td>\n",
       "      <td>3.4</td>\n",
       "      <td>3200 High St</td>\n",
       "      <td>101</td>\n",
       "    </tr>\n",
       "    <tr>\n",
       "      <th>4</th>\n",
       "      <td>Alexandra Kehl</td>\n",
       "      <td>1.456272e+09</td>\n",
       "      <td>Waited over an hour for our food, then the man...</td>\n",
       "      <td>1</td>\n",
       "      <td>36.782</td>\n",
       "      <td>-76.338</td>\n",
       "      <td>Chanello's Pizza #33</td>\n",
       "      <td>3.1</td>\n",
       "      <td>1122 George Washington Hwy N</td>\n",
       "      <td>124</td>\n",
       "    </tr>\n",
       "    <tr>\n",
       "      <th>1115</th>\n",
       "      <td>Christien de Beaufort</td>\n",
       "      <td>1.550945e+09</td>\n",
       "      <td>Good 🍕 and sides</td>\n",
       "      <td>4</td>\n",
       "      <td>36.872</td>\n",
       "      <td>-76.300</td>\n",
       "      <td>Chanello's Pizza #5</td>\n",
       "      <td>3.3</td>\n",
       "      <td>901 W 21st St</td>\n",
       "      <td>157</td>\n",
       "    </tr>\n",
       "    <tr>\n",
       "      <th>213</th>\n",
       "      <td>Mt G</td>\n",
       "      <td>1.519387e+09</td>\n",
       "      <td>I’m very disappointed because this is my first...</td>\n",
       "      <td>1</td>\n",
       "      <td>36.826</td>\n",
       "      <td>-76.412</td>\n",
       "      <td>Chanello's Pizza #14</td>\n",
       "      <td>2.9</td>\n",
       "      <td>4105 Chesapeake Square Blvd #101</td>\n",
       "      <td>101</td>\n",
       "    </tr>\n",
       "    <tr>\n",
       "      <th>1567</th>\n",
       "      <td>Ken M.</td>\n",
       "      <td>1.550945e+09</td>\n",
       "      <td>Manager would not honor an online deal that I ...</td>\n",
       "      <td>3</td>\n",
       "      <td>36.769</td>\n",
       "      <td>-76.018</td>\n",
       "      <td>Chanello's Pizza #8</td>\n",
       "      <td>3.5</td>\n",
       "      <td>2129 General Booth Blvd #107</td>\n",
       "      <td>64</td>\n",
       "    </tr>\n",
       "    <tr>\n",
       "      <th>456</th>\n",
       "      <td>Mike Arce</td>\n",
       "      <td>1.578683e+09</td>\n",
       "      <td>NaN</td>\n",
       "      <td>4</td>\n",
       "      <td>36.790</td>\n",
       "      <td>-76.126</td>\n",
       "      <td>Chanello's Pizza #4</td>\n",
       "      <td>3.9</td>\n",
       "      <td>2085 Lynnhaven Pkwy Suite 104</td>\n",
       "      <td>83</td>\n",
       "    </tr>\n",
       "    <tr>\n",
       "      <th>1002</th>\n",
       "      <td>Lorraine Watson</td>\n",
       "      <td>1.571044e+09</td>\n",
       "      <td>I order at least once a week, some weeks 2 or ...</td>\n",
       "      <td>5</td>\n",
       "      <td>36.892</td>\n",
       "      <td>-76.241</td>\n",
       "      <td>Chanello's Pizza #9</td>\n",
       "      <td>3.4</td>\n",
       "      <td>6213 Chesapeake Blvd</td>\n",
       "      <td>206</td>\n",
       "    </tr>\n",
       "    <tr>\n",
       "      <th>1546</th>\n",
       "      <td>Matt Williams</td>\n",
       "      <td>1.519387e+09</td>\n",
       "      <td>NaN</td>\n",
       "      <td>1</td>\n",
       "      <td>37.042</td>\n",
       "      <td>-76.351</td>\n",
       "      <td>Chanello's Pizza #10</td>\n",
       "      <td>3.7</td>\n",
       "      <td>1017 N King St</td>\n",
       "      <td>120</td>\n",
       "    </tr>\n",
       "    <tr>\n",
       "      <th>745</th>\n",
       "      <td>Rhonda Kuhnhenn</td>\n",
       "      <td>1.456272e+09</td>\n",
       "      <td>Never again will I waste my money here!!!</td>\n",
       "      <td>1</td>\n",
       "      <td>36.835</td>\n",
       "      <td>-76.343</td>\n",
       "      <td>Chanello's Pizza #32</td>\n",
       "      <td>3.4</td>\n",
       "      <td>3200 High St</td>\n",
       "      <td>101</td>\n",
       "    </tr>\n",
       "    <tr>\n",
       "      <th>1651</th>\n",
       "      <td>joe smith</td>\n",
       "      <td>1.519387e+09</td>\n",
       "      <td>Good food  people are nice and friendly.  Grea...</td>\n",
       "      <td>5</td>\n",
       "      <td>36.840</td>\n",
       "      <td>-76.089</td>\n",
       "      <td>Chanello's Pizza</td>\n",
       "      <td>3.5</td>\n",
       "      <td>3333 Virginia Beach Blvd</td>\n",
       "      <td>85</td>\n",
       "    </tr>\n",
       "    <tr>\n",
       "      <th>425</th>\n",
       "      <td>Desiree Arriola</td>\n",
       "      <td>1.424714e+09</td>\n",
       "      <td>This Chanello's location does the Chicken Flor...</td>\n",
       "      <td>5</td>\n",
       "      <td>36.790</td>\n",
       "      <td>-76.126</td>\n",
       "      <td>Chanello's Pizza #4</td>\n",
       "      <td>3.9</td>\n",
       "      <td>2085 Lynnhaven Pkwy Suite 104</td>\n",
       "      <td>83</td>\n",
       "    </tr>\n",
       "    <tr>\n",
       "      <th>247</th>\n",
       "      <td>Eric Jones</td>\n",
       "      <td>1.519387e+09</td>\n",
       "      <td>One of the best pizza places</td>\n",
       "      <td>5</td>\n",
       "      <td>36.803</td>\n",
       "      <td>-76.177</td>\n",
       "      <td>Chanello's Pizza #7</td>\n",
       "      <td>3.5</td>\n",
       "      <td>5300 Kemps River Dr #118</td>\n",
       "      <td>63</td>\n",
       "    </tr>\n",
       "  </tbody>\n",
       "</table>\n",
       "</div>"
      ],
      "text/plain": [
       "                     name_x  ...  num_to_rate\n",
       "1123            nepochopení  ...          157\n",
       "342            Jcjohn Slaya  ...          111\n",
       "428               A Gaskins  ...           83\n",
       "1132           David Mendez  ...          157\n",
       "1871        Sittinpretty NC  ...          148\n",
       "746          Matthew Nelson  ...          101\n",
       "420               MRB Banks  ...           83\n",
       "265         Kieran Bilginer  ...           63\n",
       "961       Deidra Washington  ...          206\n",
       "1329           Amanda Nimmo  ...          143\n",
       "1908     Monique Brathwaite  ...          148\n",
       "444                    Devo  ...           83\n",
       "272          Jamie Stanston  ...           63\n",
       "1430           Jack Wareing  ...          143\n",
       "934          Hermenia Baker  ...          206\n",
       "1975            Dawn Antoon  ...          148\n",
       "553             Shelli Loud  ...          141\n",
       "1186             Lisa Janko  ...          116\n",
       "2002       Centwane Gatling  ...          148\n",
       "799               Elvin Gay  ...          101\n",
       "566                   Sam W  ...          141\n",
       "1887          Shrell Watson  ...          148\n",
       "1521         Shenika Henson  ...          120\n",
       "2083    Christopher Pokines  ...           80\n",
       "1059     Theodoric thurmond  ...          157\n",
       "1676            Will Bailey  ...           85\n",
       "1695            Lois Garner  ...           85\n",
       "327         Shanita Roberts  ...          111\n",
       "784           Wanda Semidey  ...          101\n",
       "4            Alexandra Kehl  ...          124\n",
       "1115  Christien de Beaufort  ...          157\n",
       "213                    Mt G  ...          101\n",
       "1567                 Ken M.  ...           64\n",
       "456               Mike Arce  ...           83\n",
       "1002        Lorraine Watson  ...          206\n",
       "1546          Matt Williams  ...          120\n",
       "745         Rhonda Kuhnhenn  ...          101\n",
       "1651              joe smith  ...           85\n",
       "425         Desiree Arriola  ...           83\n",
       "247              Eric Jones  ...           63\n",
       "\n",
       "[40 rows x 10 columns]"
      ]
     },
     "execution_count": 79,
     "metadata": {
      "tags": []
     },
     "output_type": "execute_result"
    }
   ],
   "source": [
    "# grab a random sample to see what the dataframe looks like\n",
    "test.sample(40)"
   ]
  },
  {
   "cell_type": "markdown",
   "metadata": {
    "colab_type": "text",
    "id": "Tvv4d72-SfKt"
   },
   "source": [
    "##**I think thats gonna be good for this dataset, lets do some house keeping and export it to a file to use**"
   ]
  },
  {
   "cell_type": "code",
   "execution_count": 89,
   "metadata": {
    "colab": {
     "base_uri": "https://localhost:8080/",
     "height": 34
    },
    "colab_type": "code",
    "id": "eXsumWyqNdVZ",
    "outputId": "d86ccd31-7b8e-4496-9761-9923f93bf6ac"
   },
   "outputs": [
    {
     "name": "stdout",
     "output_type": "stream",
     "text": [
      "['customer_name', 'time', 'review_content', 'review_rating', 'latitude', 'longitude', 'store_name', 'store_rating', 'store_address', 'tot_num_rate']\n"
     ]
    }
   ],
   "source": [
    "print(test.columns.to_list())"
   ]
  },
  {
   "cell_type": "code",
   "execution_count": 0,
   "metadata": {
    "colab": {},
    "colab_type": "code",
    "id": "SDH0TG6IQRoP"
   },
   "outputs": [],
   "source": [
    "# rename my columns to something easier then x_name y_name ect\n",
    "df=test\n",
    "perfered_names=['customer_name', 'time', 'review_content', 'review_rating', 'latitude',\n",
    " 'longitude', 'store_name', 'store_rating', 'store_address', 'tot_num_rate']\n",
    "df.columns=perfered_names\n"
   ]
  },
  {
   "cell_type": "code",
   "execution_count": 88,
   "metadata": {
    "colab": {
     "base_uri": "https://localhost:8080/",
     "height": 187
    },
    "colab_type": "code",
    "id": "ofblrQe8TiDJ",
    "outputId": "db552d4d-02c8-4a2f-941b-3a73a55e1c37"
   },
   "outputs": [
    {
     "data": {
      "text/plain": [
       "['customer_name',\n",
       " 'time',\n",
       " 'review_content',\n",
       " 'review_rating',\n",
       " 'latitude',\n",
       " 'longitude',\n",
       " 'store_name',\n",
       " 'store_rating',\n",
       " 'store_address',\n",
       " 'tot_num_rate']"
      ]
     },
     "execution_count": 88,
     "metadata": {
      "tags": []
     },
     "output_type": "execute_result"
    }
   ],
   "source": [
    "df.columns.to_list()"
   ]
  },
  {
   "cell_type": "code",
   "execution_count": 0,
   "metadata": {
    "colab": {},
    "colab_type": "code",
    "id": "E0Bdw0f4UYGE"
   },
   "outputs": [],
   "source": [
    "perf_order=['time',\n",
    "            'customer_name',\n",
    "            'review_content',\n",
    "            'review_rating',\n",
    "            'store_name',\n",
    "            'store_rating',\n",
    "            'store_address',\n",
    "            'tot_num_rate',\n",
    "            'latitude',\n",
    "            'longitude']\n",
    "df=df[perf_order]"
   ]
  },
  {
   "cell_type": "code",
   "execution_count": 91,
   "metadata": {
    "colab": {
     "base_uri": "https://localhost:8080/",
     "height": 204
    },
    "colab_type": "code",
    "id": "co6vTHSRVtGY",
    "outputId": "99b8d6b7-f29c-48c7-f242-9e7c59a73227"
   },
   "outputs": [
    {
     "data": {
      "text/html": [
       "<div>\n",
       "<style scoped>\n",
       "    .dataframe tbody tr th:only-of-type {\n",
       "        vertical-align: middle;\n",
       "    }\n",
       "\n",
       "    .dataframe tbody tr th {\n",
       "        vertical-align: top;\n",
       "    }\n",
       "\n",
       "    .dataframe thead th {\n",
       "        text-align: right;\n",
       "    }\n",
       "</style>\n",
       "<table border=\"1\" class=\"dataframe\">\n",
       "  <thead>\n",
       "    <tr style=\"text-align: right;\">\n",
       "      <th></th>\n",
       "      <th>time</th>\n",
       "      <th>customer_name</th>\n",
       "      <th>review_content</th>\n",
       "      <th>review_rating</th>\n",
       "      <th>store_name</th>\n",
       "      <th>store_rating</th>\n",
       "      <th>store_address</th>\n",
       "      <th>tot_num_rate</th>\n",
       "      <th>latitude</th>\n",
       "      <th>longitude</th>\n",
       "    </tr>\n",
       "  </thead>\n",
       "  <tbody>\n",
       "    <tr>\n",
       "      <th>0</th>\n",
       "      <td>1.581293e+09</td>\n",
       "      <td>lauren sams</td>\n",
       "      <td>Great and fast service with excellent food.</td>\n",
       "      <td>5</td>\n",
       "      <td>Chanello's Pizza #33</td>\n",
       "      <td>3.1</td>\n",
       "      <td>1122 George Washington Hwy N</td>\n",
       "      <td>124</td>\n",
       "      <td>36.782</td>\n",
       "      <td>-76.338</td>\n",
       "    </tr>\n",
       "    <tr>\n",
       "      <th>1</th>\n",
       "      <td>1.550945e+09</td>\n",
       "      <td>Krys Peirce</td>\n",
       "      <td>NaN</td>\n",
       "      <td>1</td>\n",
       "      <td>Chanello's Pizza #33</td>\n",
       "      <td>3.1</td>\n",
       "      <td>1122 George Washington Hwy N</td>\n",
       "      <td>124</td>\n",
       "      <td>36.782</td>\n",
       "      <td>-76.338</td>\n",
       "    </tr>\n",
       "    <tr>\n",
       "      <th>2</th>\n",
       "      <td>1.550945e+09</td>\n",
       "      <td>Janel Brosseit</td>\n",
       "      <td>This rating goes more towards the food. Just r...</td>\n",
       "      <td>2</td>\n",
       "      <td>Chanello's Pizza #33</td>\n",
       "      <td>3.1</td>\n",
       "      <td>1122 George Washington Hwy N</td>\n",
       "      <td>124</td>\n",
       "      <td>36.782</td>\n",
       "      <td>-76.338</td>\n",
       "    </tr>\n",
       "    <tr>\n",
       "      <th>3</th>\n",
       "      <td>1.580593e+09</td>\n",
       "      <td>Ashley Heater</td>\n",
       "      <td>NaN</td>\n",
       "      <td>4</td>\n",
       "      <td>Chanello's Pizza #33</td>\n",
       "      <td>3.1</td>\n",
       "      <td>1122 George Washington Hwy N</td>\n",
       "      <td>124</td>\n",
       "      <td>36.782</td>\n",
       "      <td>-76.338</td>\n",
       "    </tr>\n",
       "    <tr>\n",
       "      <th>4</th>\n",
       "      <td>1.456272e+09</td>\n",
       "      <td>Alexandra Kehl</td>\n",
       "      <td>Waited over an hour for our food, then the man...</td>\n",
       "      <td>1</td>\n",
       "      <td>Chanello's Pizza #33</td>\n",
       "      <td>3.1</td>\n",
       "      <td>1122 George Washington Hwy N</td>\n",
       "      <td>124</td>\n",
       "      <td>36.782</td>\n",
       "      <td>-76.338</td>\n",
       "    </tr>\n",
       "  </tbody>\n",
       "</table>\n",
       "</div>"
      ],
      "text/plain": [
       "           time   customer_name  ... latitude  longitude\n",
       "0  1.581293e+09     lauren sams  ...   36.782    -76.338\n",
       "1  1.550945e+09     Krys Peirce  ...   36.782    -76.338\n",
       "2  1.550945e+09  Janel Brosseit  ...   36.782    -76.338\n",
       "3  1.580593e+09   Ashley Heater  ...   36.782    -76.338\n",
       "4  1.456272e+09  Alexandra Kehl  ...   36.782    -76.338\n",
       "\n",
       "[5 rows x 10 columns]"
      ]
     },
     "execution_count": 91,
     "metadata": {
      "tags": []
     },
     "output_type": "execute_result"
    }
   ],
   "source": [
    "df.head()"
   ]
  },
  {
   "cell_type": "code",
   "execution_count": 0,
   "metadata": {
    "colab": {},
    "colab_type": "code",
    "id": "8QmfL5VyVvmd"
   },
   "outputs": [],
   "source": [
    "df.to_csv('/content/chanellosfinal.csv')"
   ]
  },
  {
   "cell_type": "code",
   "execution_count": 0,
   "metadata": {
    "colab": {},
    "colab_type": "code",
    "id": "fh_fSaCjV_5f"
   },
   "outputs": [],
   "source": []
  }
 ],
 "metadata": {
  "colab": {
   "authorship_tag": "ABX9TyP327QjZWuFNT5M1GkhAdXs",
   "collapsed_sections": [],
   "include_colab_link": true,
   "name": "check_scrape.ipynb",
   "provenance": []
  },
  "kernelspec": {
   "display_name": "Python 3 (Spyder)",
   "language": "python3",
   "name": "python3"
  },
  "language_info": {
   "codemirror_mode": {
    "name": "ipython",
    "version": 3
   },
   "file_extension": ".py",
   "mimetype": "text/x-python",
   "name": "python",
   "nbconvert_exporter": "python",
   "pygments_lexer": "ipython3",
   "version": "3.7.4"
  }
 },
 "nbformat": 4,
 "nbformat_minor": 1
}
