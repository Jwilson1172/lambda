{
 "cells": [
  {
   "cell_type": "code",
   "execution_count": 1,
   "metadata": {},
   "outputs": [],
   "source": [
    "import pandas as pd\n",
    "import numpy as np\n",
    "# fancy graph\n",
    "import matplotlib.pyplot as plt\n",
    "from matplotlib.gridspec import GridSpec\n",
    "# i wanna see the diffrence\n",
    "import seaborn as sns\n",
    "# nlp\n",
    "from sklearn.feature_extraction.text import TfidfVectorizer\n",
    "from spacy.tokenizer import Tokenizer\n",
    "import en_core_web_sm\n",
    "# reproduce\n",
    "np.random.seed(42)\n",
    "SEED = 42\n"
   ]
  },
  {
   "cell_type": "code",
   "execution_count": 11,
   "metadata": {},
   "outputs": [
    {
     "output_type": "stream",
     "name": "stdout",
     "text": "cleaned_data  graphs\t\t\tproject.ipynb  scraped_data\neda.ipynb     presentation_script.docx\tREADME.md      testing.ipynb\n"
    }
   ],
   "source": [
    "!ls"
   ]
  },
  {
   "cell_type": "markdown",
   "metadata": {},
   "source": [
    "<h2>Preapare Tokenizer and Corpus</h2>"
   ]
  },
  {
   "cell_type": "code",
   "execution_count": 2,
   "metadata": {},
   "outputs": [],
   "source": [
    "import en_core_web_lg"
   ]
  },
  {
   "cell_type": "code",
   "execution_count": 3,
   "metadata": {},
   "outputs": [],
   "source": [
    "nlp = en_core_web_lg.load()\n"
   ]
  },
  {
   "cell_type": "code",
   "execution_count": 4,
   "metadata": {},
   "outputs": [],
   "source": [
    "tokenizer = Tokenizer(nlp.vocab)\n"
   ]
  },
  {
   "cell_type": "code",
   "execution_count": 5,
   "metadata": {},
   "outputs": [],
   "source": [
    "tfidf = TfidfVectorizer(min_df=1,\n",
    "                        max_df=0.95,\n",
    "                        tokenizer=tokenizer)\n"
   ]
  },
  {
   "cell_type": "markdown",
   "metadata": {},
   "source": [
    "## Loading The Data"
   ]
  },
  {
   "cell_type": "code",
   "execution_count": 22,
   "metadata": {},
   "outputs": [
    {
     "output_type": "execute_result",
     "data": {
      "text/plain": "(2088, 11)"
     },
     "metadata": {},
     "execution_count": 22
    }
   ],
   "source": [
    "df = pd.read_csv(\"../data/cleaned_data/chanellos.csv\")\n",
    "df.shape"
   ]
  },
  {
   "cell_type": "code",
   "execution_count": 23,
   "metadata": {},
   "outputs": [
    {
     "output_type": "execute_result",
     "data": {
      "text/plain": "(1041, 13)"
     },
     "metadata": {},
     "execution_count": 23
    }
   ],
   "source": [
    "df1 = pd.read_csv(\"../data/cleaned_data/calz.csv\")\n",
    "df1.shape"
   ]
  },
  {
   "cell_type": "code",
   "execution_count": 8,
   "metadata": {},
   "outputs": [
    {
     "output_type": "execute_result",
     "data": {
      "text/plain": "Unnamed: 0          0\ntime                0\ncustomer_name       0\nreview_content    779\nreview_rating       0\nstore_name          0\nstore_rating        0\nstore_address       0\ntot_num_rate        0\nlatitude            0\nlongitude           0\ndtype: int64"
     },
     "metadata": {},
     "execution_count": 8
    }
   ],
   "source": [
    "df.isnull().sum()"
   ]
  },
  {
   "cell_type": "code",
   "execution_count": 13,
   "metadata": {},
   "outputs": [
    {
     "output_type": "execute_result",
     "data": {
      "text/plain": "Unnamed: 0               0\ntime                     0\ncustomer_name            0\nreview_content          84\nreview_rating            0\nstore_name               0\nstore_rating             0\nstore_address            0\nnum_to_rate              0\nowner_response         937\nowner_response_time    937\nlatitude                 0\nlongitude                0\ndtype: int64"
     },
     "metadata": {},
     "execution_count": 13
    }
   ],
   "source": [
    "df1.isnull().sum()"
   ]
  },
  {
   "cell_type": "code",
   "execution_count": 24,
   "metadata": {},
   "outputs": [
    {
     "output_type": "execute_result",
     "data": {
      "text/plain": "(1309, 11)"
     },
     "metadata": {},
     "execution_count": 24
    }
   ],
   "source": [
    "df = df.dropna()\n",
    "df.shape"
   ]
  },
  {
   "cell_type": "code",
   "execution_count": 25,
   "metadata": {},
   "outputs": [
    {
     "output_type": "execute_result",
     "data": {
      "text/plain": "(957, 11)"
     },
     "metadata": {},
     "execution_count": 25
    }
   ],
   "source": [
    "df1.drop(\"owner_response\", axis=1, inplace=True)\n",
    "df1.drop(\"owner_response_time\", axis=1, inplace=True)\n",
    "df1.dropna(inplace=True)\n",
    "df1.shape"
   ]
  },
  {
   "cell_type": "code",
   "execution_count": 27,
   "metadata": {},
   "outputs": [],
   "source": [
    "df[\"label\"] = [1] * df.shape[0]\n",
    "df1[\"label\"] = [0] * df1.shape[0]"
   ]
  },
  {
   "cell_type": "code",
   "execution_count": 28,
   "metadata": {},
   "outputs": [],
   "source": [
    "df = pd.concat([df, df1])\n",
    "del df1"
   ]
  },
  {
   "cell_type": "code",
   "execution_count": 33,
   "metadata": {},
   "outputs": [
    {
     "output_type": "execute_result",
     "data": {
      "text/plain": "   Unnamed: 0          time   customer_name  \\\n0           0  1.581293e+09     lauren sams   \n2           2  1.550945e+09  Janel Brosseit   \n4           4  1.456272e+09  Alexandra Kehl   \n5           5  1.550945e+09           Big A   \n6           6  1.582243e+09   Brandon Davis   \n\n                                      review_content  review_rating  \\\n0        Great and fast service with excellent food.              5   \n2  This rating goes more towards the food. Just r...              2   \n4  Waited over an hour for our food, then the man...              1   \n5  No thanks owner, u only get so many chances, d...              1   \n6  Friendly staff, always willing to help a custo...              5   \n\n             store_name  store_rating                 store_address  \\\n0  Chanello's Pizza #33           3.1  1122 George Washington Hwy N   \n2  Chanello's Pizza #33           3.1  1122 George Washington Hwy N   \n4  Chanello's Pizza #33           3.1  1122 George Washington Hwy N   \n5  Chanello's Pizza #33           3.1  1122 George Washington Hwy N   \n6  Chanello's Pizza #33           3.1  1122 George Washington Hwy N   \n\n   tot_num_rate  latitude  longitude  label  num_to_rate  \n0         124.0    36.782    -76.338      1          NaN  \n2         124.0    36.782    -76.338      1          NaN  \n4         124.0    36.782    -76.338      1          NaN  \n5         124.0    36.782    -76.338      1          NaN  \n6         124.0    36.782    -76.338      1          NaN  ",
      "text/html": "<div>\n<style scoped>\n    .dataframe tbody tr th:only-of-type {\n        vertical-align: middle;\n    }\n\n    .dataframe tbody tr th {\n        vertical-align: top;\n    }\n\n    .dataframe thead th {\n        text-align: right;\n    }\n</style>\n<table border=\"1\" class=\"dataframe\">\n  <thead>\n    <tr style=\"text-align: right;\">\n      <th></th>\n      <th>Unnamed: 0</th>\n      <th>time</th>\n      <th>customer_name</th>\n      <th>review_content</th>\n      <th>review_rating</th>\n      <th>store_name</th>\n      <th>store_rating</th>\n      <th>store_address</th>\n      <th>tot_num_rate</th>\n      <th>latitude</th>\n      <th>longitude</th>\n      <th>label</th>\n      <th>num_to_rate</th>\n    </tr>\n  </thead>\n  <tbody>\n    <tr>\n      <th>0</th>\n      <td>0</td>\n      <td>1.581293e+09</td>\n      <td>lauren sams</td>\n      <td>Great and fast service with excellent food.</td>\n      <td>5</td>\n      <td>Chanello's Pizza #33</td>\n      <td>3.1</td>\n      <td>1122 George Washington Hwy N</td>\n      <td>124.0</td>\n      <td>36.782</td>\n      <td>-76.338</td>\n      <td>1</td>\n      <td>NaN</td>\n    </tr>\n    <tr>\n      <th>2</th>\n      <td>2</td>\n      <td>1.550945e+09</td>\n      <td>Janel Brosseit</td>\n      <td>This rating goes more towards the food. Just r...</td>\n      <td>2</td>\n      <td>Chanello's Pizza #33</td>\n      <td>3.1</td>\n      <td>1122 George Washington Hwy N</td>\n      <td>124.0</td>\n      <td>36.782</td>\n      <td>-76.338</td>\n      <td>1</td>\n      <td>NaN</td>\n    </tr>\n    <tr>\n      <th>4</th>\n      <td>4</td>\n      <td>1.456272e+09</td>\n      <td>Alexandra Kehl</td>\n      <td>Waited over an hour for our food, then the man...</td>\n      <td>1</td>\n      <td>Chanello's Pizza #33</td>\n      <td>3.1</td>\n      <td>1122 George Washington Hwy N</td>\n      <td>124.0</td>\n      <td>36.782</td>\n      <td>-76.338</td>\n      <td>1</td>\n      <td>NaN</td>\n    </tr>\n    <tr>\n      <th>5</th>\n      <td>5</td>\n      <td>1.550945e+09</td>\n      <td>Big A</td>\n      <td>No thanks owner, u only get so many chances, d...</td>\n      <td>1</td>\n      <td>Chanello's Pizza #33</td>\n      <td>3.1</td>\n      <td>1122 George Washington Hwy N</td>\n      <td>124.0</td>\n      <td>36.782</td>\n      <td>-76.338</td>\n      <td>1</td>\n      <td>NaN</td>\n    </tr>\n    <tr>\n      <th>6</th>\n      <td>6</td>\n      <td>1.582243e+09</td>\n      <td>Brandon Davis</td>\n      <td>Friendly staff, always willing to help a custo...</td>\n      <td>5</td>\n      <td>Chanello's Pizza #33</td>\n      <td>3.1</td>\n      <td>1122 George Washington Hwy N</td>\n      <td>124.0</td>\n      <td>36.782</td>\n      <td>-76.338</td>\n      <td>1</td>\n      <td>NaN</td>\n    </tr>\n  </tbody>\n</table>\n</div>"
     },
     "metadata": {},
     "execution_count": 33
    }
   ],
   "source": [
    "df.head()"
   ]
  },
  {
   "cell_type": "markdown",
   "metadata": {},
   "source": [
    "## Split training and testing data"
   ]
  },
  {
   "cell_type": "code",
   "execution_count": 34,
   "metadata": {},
   "outputs": [
    {
     "output_type": "execute_result",
     "data": {
      "text/plain": "((1699, 13), (567, 13))"
     },
     "metadata": {},
     "execution_count": 34
    }
   ],
   "source": [
    "from sklearn.model_selection import train_test_split\n",
    "X_train, X_test = train_test_split(df)\n",
    "X_train.shape, X_test.shape"
   ]
  },
  {
   "cell_type": "markdown",
   "metadata": {},
   "source": []
  },
  {
   "cell_type": "code",
   "execution_count": 36,
   "metadata": {},
   "outputs": [],
   "source": [
    "# looking for what makes a good review\n",
    "df['target'] = df['review_rating'] >= 3\n",
    "\n",
    "# looking at the oposite thus the anti\n",
    "df['anti_target'] = df['review_rating'] <= 3\n",
    "\n",
    "# changing bools to ints\n",
    "df['target'] = df['target'].map({True: 1, False: 0})\n"
   ]
  },
  {
   "cell_type": "code",
   "execution_count": 37,
   "metadata": {},
   "outputs": [
    {
     "output_type": "execute_result",
     "data": {
      "text/plain": "TfidfVectorizer(analyzer='word', binary=False, decode_error='strict',\n                dtype=<class 'numpy.float64'>, encoding='utf-8',\n                input='content', lowercase=True, max_df=0.95, max_features=None,\n                min_df=1, ngram_range=(1, 1), norm='l2', preprocessor=None,\n                smooth_idf=True, stop_words=None, strip_accents=None,\n                sublinear_tf=False, token_pattern='(?u)\\\\b\\\\w\\\\w+\\\\b',\n                tokenizer=<spacy.tokenizer.Tokenizer object at 0x7f730dd47bd0>,\n                use_idf=True, vocabulary=None)"
     },
     "metadata": {},
     "execution_count": 37
    }
   ],
   "source": [
    "# baseline off the shelf model\n",
    "tfidf.fit(X_train.review_content)\n"
   ]
  },
  {
   "cell_type": "code",
   "execution_count": 38,
   "metadata": {},
   "outputs": [],
   "source": [
    "# make vector encodings of the data from the chanellos dataset\n",
    "X_train_vect = tfidf.transform(X_train)\n",
    "X_test_vect = tfidf.transform(X_test)\n"
   ]
  },
  {
   "cell_type": "code",
   "execution_count": 39,
   "metadata": {},
   "outputs": [],
   "source": [
    "# make sparse matrixs from the vectorizations\n",
    "dtm_train = X_train_vect.todense()\n",
    "dtm_test = X_test_vect.todense()\n"
   ]
  },
  {
   "cell_type": "code",
   "execution_count": 40,
   "metadata": {},
   "outputs": [],
   "source": [
    "from sklearn.neighbors import NearestNeighbors\n"
   ]
  },
  {
   "cell_type": "code",
   "execution_count": 41,
   "metadata": {},
   "outputs": [
    {
     "output_type": "execute_result",
     "data": {
      "text/plain": "NearestNeighbors(algorithm='auto', leaf_size=30, metric='minkowski',\n                 metric_params=None, n_jobs=-1, n_neighbors=5, p=2, radius=1.0)"
     },
     "metadata": {},
     "execution_count": 41
    }
   ],
   "source": [
    "nn = NearestNeighbors(n_jobs=-1)\n",
    "nn.fit(dtm_train)"
   ]
  },
  {
   "cell_type": "code",
   "execution_count": 44,
   "metadata": {},
   "outputs": [
    {
     "output_type": "execute_result",
     "data": {
      "text/plain": "array([[1, 4, 3, 0, 2]])"
     },
     "metadata": {},
     "execution_count": 44
    }
   ],
   "source": [
    "nn.kneighbors(tfidf.transform([\"pretty good would recommend\"]).todense())[1]"
   ]
  },
  {
   "cell_type": "code",
   "execution_count": 50,
   "metadata": {},
   "outputs": [
    {
     "output_type": "execute_result",
     "data": {
      "text/plain": "1    0.57767\n0    0.42233\nName: label, dtype: float64"
     },
     "metadata": {},
     "execution_count": 50
    }
   ],
   "source": [
    "df.label.value_counts(normalize=True)"
   ]
  },
  {
   "cell_type": "code",
   "execution_count": null,
   "metadata": {},
   "outputs": [],
   "source": []
  }
 ],
 "metadata": {
  "language_info": {
   "codemirror_mode": {
    "name": "ipython",
    "version": 3
   },
   "file_extension": ".py",
   "mimetype": "text/x-python",
   "name": "python",
   "nbconvert_exporter": "python",
   "pygments_lexer": "ipython3",
   "version": "3.7.6-final"
  },
  "orig_nbformat": 2,
  "kernelspec": {
   "name": "python37664bit8f4e8029c50c4abfa3fe45b7b9893def",
   "display_name": "Python 3.7.6 64-bit"
  }
 },
 "nbformat": 4,
 "nbformat_minor": 2
}