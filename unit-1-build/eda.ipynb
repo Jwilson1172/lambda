{
 "cells": [
  {
   "cell_type": "code",
   "execution_count": 18,
   "metadata": {},
   "outputs": [],
   "source": [
    "import pandas as pd\n",
    "import numpy as np\n",
    "# fancy graph\n",
    "import matplotlib.pyplot as plt\n",
    "from matplotlib.gridspec import GridSpec\n",
    "# nlp\n",
    "from sklearn.feature_extraction.text import TfidfVectorizer\n",
    "from spacy.tokenizer import Tokenizer\n",
    "import en_core_web_sm\n",
    "# reproduce\n",
    "np.random.seed(42)\n",
    "SEED = 42\n"
   ]
  },
  {
   "cell_type": "code",
   "execution_count": 11,
   "metadata": {},
   "outputs": [
    {
     "output_type": "stream",
     "name": "stdout",
     "text": "cleaned_data  graphs\t\t\tproject.ipynb  scraped_data\neda.ipynb     presentation_script.docx\tREADME.md      testing.ipynb\n"
    }
   ],
   "source": [
    "!ls"
   ]
  },
  {
   "cell_type": "code",
   "execution_count": 12,
   "metadata": {},
   "outputs": [],
   "source": [
    "import en_core_web_lg"
   ]
  },
  {
   "cell_type": "code",
   "execution_count": 13,
   "metadata": {},
   "outputs": [],
   "source": [
    "nlp = en_core_web_lg.load()\n"
   ]
  },
  {
   "cell_type": "code",
   "execution_count": 19,
   "metadata": {},
   "outputs": [],
   "source": [
    "tokenizer = Tokenizer(nlp.vocab)\n"
   ]
  },
  {
   "cell_type": "code",
   "execution_count": 20,
   "metadata": {},
   "outputs": [],
   "source": [
    "tfidf = TfidfVectorizer(min_df=1,\n",
    "                        max_df=0.95,\n",
    "                        tokenizer=tokenizer)\n"
   ]
  },
  {
   "cell_type": "code",
   "execution_count": 67,
   "metadata": {},
   "outputs": [],
   "source": [
    "df = pd.read_csv(\"cleaned_data/chanellos.csv\")"
   ]
  },
  {
   "cell_type": "code",
   "execution_count": 54,
   "metadata": {},
   "outputs": [],
   "source": [
    "df = df.dropna()"
   ]
  },
  {
   "cell_type": "code",
   "execution_count": 23,
   "metadata": {},
   "outputs": [
    {
     "output_type": "execute_result",
     "data": {
      "text/plain": "((981, 11), (328, 11))"
     },
     "metadata": {},
     "execution_count": 23
    }
   ],
   "source": [
    "from sklearn.model_selection import train_test_split\n",
    "X_train, X_test = train_test_split(df)\n",
    "X_train.shape, X_test.shape"
   ]
  },
  {
   "cell_type": "code",
   "execution_count": 68,
   "metadata": {},
   "outputs": [
    {
     "output_type": "execute_result",
     "data": {
      "text/plain": "(2088, 11)"
     },
     "metadata": {},
     "execution_count": 68
    }
   ],
   "source": [
    "df1 = pd.read_csv(\"cleaned_data/calz.csv\")\n",
    "df.shape"
   ]
  },
  {
   "cell_type": "code",
   "execution_count": 59,
   "metadata": {},
   "outputs": [
    {
     "output_type": "execute_result",
     "data": {
      "text/plain": "(1309, 11)"
     },
     "metadata": {},
     "execution_count": 59
    }
   ],
   "source": [
    "df1 = df1.dropna()\n",
    "df.shape"
   ]
  },
  {
   "cell_type": "code",
   "execution_count": 27,
   "metadata": {},
   "outputs": [
    {
     "output_type": "stream",
     "name": "stdout",
     "text": "Index(['Unnamed: 0', 'time', 'customer_name', 'review_content',\n       'review_rating', 'store_name', 'store_rating', 'store_address',\n       'tot_num_rate', 'latitude', 'longitude'],\n      dtype='object')\n"
    },
    {
     "output_type": "execute_result",
     "data": {
      "text/plain": "Index(['Unnamed: 0', 'time', 'customer_name', 'review_content',\n       'review_rating', 'store_name', 'store_rating', 'store_address',\n       'num_to_rate', 'owner_response', 'owner_response_time', 'latitude',\n       'longitude'],\n      dtype='object')"
     },
     "metadata": {},
     "execution_count": 27
    }
   ],
   "source": [
    "print(df.columns)\n",
    "df1.columns"
   ]
  },
  {
   "cell_type": "code",
   "execution_count": 28,
   "metadata": {},
   "outputs": [
    {
     "output_type": "execute_result",
     "data": {
      "text/plain": "   Unnamed: 0          time   customer_name  \\\n0           0  1.581293e+09     lauren sams   \n2           2  1.550945e+09  Janel Brosseit   \n4           4  1.456272e+09  Alexandra Kehl   \n5           5  1.550945e+09           Big A   \n6           6  1.582243e+09   Brandon Davis   \n\n                                      review_content  review_rating  \\\n0        Great and fast service with excellent food.              5   \n2  This rating goes more towards the food. Just r...              2   \n4  Waited over an hour for our food, then the man...              1   \n5  No thanks owner, u only get so many chances, d...              1   \n6  Friendly staff, always willing to help a custo...              5   \n\n             store_name  store_rating                 store_address  \\\n0  Chanello's Pizza #33           3.1  1122 George Washington Hwy N   \n2  Chanello's Pizza #33           3.1  1122 George Washington Hwy N   \n4  Chanello's Pizza #33           3.1  1122 George Washington Hwy N   \n5  Chanello's Pizza #33           3.1  1122 George Washington Hwy N   \n6  Chanello's Pizza #33           3.1  1122 George Washington Hwy N   \n\n   tot_num_rate  latitude  longitude  \n0           124    36.782    -76.338  \n2           124    36.782    -76.338  \n4           124    36.782    -76.338  \n5           124    36.782    -76.338  \n6           124    36.782    -76.338  ",
      "text/html": "<div>\n<style scoped>\n    .dataframe tbody tr th:only-of-type {\n        vertical-align: middle;\n    }\n\n    .dataframe tbody tr th {\n        vertical-align: top;\n    }\n\n    .dataframe thead th {\n        text-align: right;\n    }\n</style>\n<table border=\"1\" class=\"dataframe\">\n  <thead>\n    <tr style=\"text-align: right;\">\n      <th></th>\n      <th>Unnamed: 0</th>\n      <th>time</th>\n      <th>customer_name</th>\n      <th>review_content</th>\n      <th>review_rating</th>\n      <th>store_name</th>\n      <th>store_rating</th>\n      <th>store_address</th>\n      <th>tot_num_rate</th>\n      <th>latitude</th>\n      <th>longitude</th>\n    </tr>\n  </thead>\n  <tbody>\n    <tr>\n      <th>0</th>\n      <td>0</td>\n      <td>1.581293e+09</td>\n      <td>lauren sams</td>\n      <td>Great and fast service with excellent food.</td>\n      <td>5</td>\n      <td>Chanello's Pizza #33</td>\n      <td>3.1</td>\n      <td>1122 George Washington Hwy N</td>\n      <td>124</td>\n      <td>36.782</td>\n      <td>-76.338</td>\n    </tr>\n    <tr>\n      <th>2</th>\n      <td>2</td>\n      <td>1.550945e+09</td>\n      <td>Janel Brosseit</td>\n      <td>This rating goes more towards the food. Just r...</td>\n      <td>2</td>\n      <td>Chanello's Pizza #33</td>\n      <td>3.1</td>\n      <td>1122 George Washington Hwy N</td>\n      <td>124</td>\n      <td>36.782</td>\n      <td>-76.338</td>\n    </tr>\n    <tr>\n      <th>4</th>\n      <td>4</td>\n      <td>1.456272e+09</td>\n      <td>Alexandra Kehl</td>\n      <td>Waited over an hour for our food, then the man...</td>\n      <td>1</td>\n      <td>Chanello's Pizza #33</td>\n      <td>3.1</td>\n      <td>1122 George Washington Hwy N</td>\n      <td>124</td>\n      <td>36.782</td>\n      <td>-76.338</td>\n    </tr>\n    <tr>\n      <th>5</th>\n      <td>5</td>\n      <td>1.550945e+09</td>\n      <td>Big A</td>\n      <td>No thanks owner, u only get so many chances, d...</td>\n      <td>1</td>\n      <td>Chanello's Pizza #33</td>\n      <td>3.1</td>\n      <td>1122 George Washington Hwy N</td>\n      <td>124</td>\n      <td>36.782</td>\n      <td>-76.338</td>\n    </tr>\n    <tr>\n      <th>6</th>\n      <td>6</td>\n      <td>1.582243e+09</td>\n      <td>Brandon Davis</td>\n      <td>Friendly staff, always willing to help a custo...</td>\n      <td>5</td>\n      <td>Chanello's Pizza #33</td>\n      <td>3.1</td>\n      <td>1122 George Washington Hwy N</td>\n      <td>124</td>\n      <td>36.782</td>\n      <td>-76.338</td>\n    </tr>\n  </tbody>\n</table>\n</div>"
     },
     "metadata": {},
     "execution_count": 28
    }
   ],
   "source": [
    "df.head()"
   ]
  },
  {
   "cell_type": "code",
   "execution_count": 29,
   "metadata": {},
   "outputs": [
    {
     "output_type": "execute_result",
     "data": {
      "text/plain": "   Unnamed: 0          time   customer_name  \\\n0           0  1.551463e+09   Jeanette Zeeb   \n5           5  1.551463e+09       Rob Craft   \n6           6  1.551463e+09      Emani Arps   \n7           7  1.551463e+09  Renee Cavanagh   \n8           8  1.573472e+09           7 PRS   \n\n                                      review_content  review_rating  \\\n0                                            It's ok              3   \n5  In town for a daughter visit and this was wher...              5   \n6                             GREAT COSTMER SERVICES              5   \n7  Took over an hour to arrive (im not even 5-6 m...              2   \n8  Food is good and service is friendly. Not my f...              5   \n\n    store_name  store_rating          store_address  num_to_rate  \\\n0  Cal'z Pizza           4.0  3678 Sewells Point Rd          322   \n5  Cal'z Pizza           4.0  3678 Sewells Point Rd          322   \n6  Cal'z Pizza           4.0  3678 Sewells Point Rd          322   \n7  Cal'z Pizza           4.0  3678 Sewells Point Rd          322   \n8  Cal'z Pizza           4.0  3678 Sewells Point Rd          322   \n\n            owner_response owner_response_time  latitude  longitude  \n0  Response from the owner          a year ago    36.918      -76.2  \n5  Response from the owner          a year ago    36.918      -76.2  \n6  Response from the owner       11 months ago    36.918      -76.2  \n7  Response from the owner          a year ago    36.918      -76.2  \n8  Response from the owner         2 years ago    36.918      -76.2  ",
      "text/html": "<div>\n<style scoped>\n    .dataframe tbody tr th:only-of-type {\n        vertical-align: middle;\n    }\n\n    .dataframe tbody tr th {\n        vertical-align: top;\n    }\n\n    .dataframe thead th {\n        text-align: right;\n    }\n</style>\n<table border=\"1\" class=\"dataframe\">\n  <thead>\n    <tr style=\"text-align: right;\">\n      <th></th>\n      <th>Unnamed: 0</th>\n      <th>time</th>\n      <th>customer_name</th>\n      <th>review_content</th>\n      <th>review_rating</th>\n      <th>store_name</th>\n      <th>store_rating</th>\n      <th>store_address</th>\n      <th>num_to_rate</th>\n      <th>owner_response</th>\n      <th>owner_response_time</th>\n      <th>latitude</th>\n      <th>longitude</th>\n    </tr>\n  </thead>\n  <tbody>\n    <tr>\n      <th>0</th>\n      <td>0</td>\n      <td>1.551463e+09</td>\n      <td>Jeanette Zeeb</td>\n      <td>It's ok</td>\n      <td>3</td>\n      <td>Cal'z Pizza</td>\n      <td>4.0</td>\n      <td>3678 Sewells Point Rd</td>\n      <td>322</td>\n      <td>Response from the owner</td>\n      <td>a year ago</td>\n      <td>36.918</td>\n      <td>-76.2</td>\n    </tr>\n    <tr>\n      <th>5</th>\n      <td>5</td>\n      <td>1.551463e+09</td>\n      <td>Rob Craft</td>\n      <td>In town for a daughter visit and this was wher...</td>\n      <td>5</td>\n      <td>Cal'z Pizza</td>\n      <td>4.0</td>\n      <td>3678 Sewells Point Rd</td>\n      <td>322</td>\n      <td>Response from the owner</td>\n      <td>a year ago</td>\n      <td>36.918</td>\n      <td>-76.2</td>\n    </tr>\n    <tr>\n      <th>6</th>\n      <td>6</td>\n      <td>1.551463e+09</td>\n      <td>Emani Arps</td>\n      <td>GREAT COSTMER SERVICES</td>\n      <td>5</td>\n      <td>Cal'z Pizza</td>\n      <td>4.0</td>\n      <td>3678 Sewells Point Rd</td>\n      <td>322</td>\n      <td>Response from the owner</td>\n      <td>11 months ago</td>\n      <td>36.918</td>\n      <td>-76.2</td>\n    </tr>\n    <tr>\n      <th>7</th>\n      <td>7</td>\n      <td>1.551463e+09</td>\n      <td>Renee Cavanagh</td>\n      <td>Took over an hour to arrive (im not even 5-6 m...</td>\n      <td>2</td>\n      <td>Cal'z Pizza</td>\n      <td>4.0</td>\n      <td>3678 Sewells Point Rd</td>\n      <td>322</td>\n      <td>Response from the owner</td>\n      <td>a year ago</td>\n      <td>36.918</td>\n      <td>-76.2</td>\n    </tr>\n    <tr>\n      <th>8</th>\n      <td>8</td>\n      <td>1.573472e+09</td>\n      <td>7 PRS</td>\n      <td>Food is good and service is friendly. Not my f...</td>\n      <td>5</td>\n      <td>Cal'z Pizza</td>\n      <td>4.0</td>\n      <td>3678 Sewells Point Rd</td>\n      <td>322</td>\n      <td>Response from the owner</td>\n      <td>2 years ago</td>\n      <td>36.918</td>\n      <td>-76.2</td>\n    </tr>\n  </tbody>\n</table>\n</div>"
     },
     "metadata": {},
     "execution_count": 29
    }
   ],
   "source": [
    "df1.head()"
   ]
  },
  {
   "cell_type": "markdown",
   "metadata": {},
   "source": []
  },
  {
   "cell_type": "code",
   "execution_count": 33,
   "metadata": {},
   "outputs": [],
   "source": [
    "df1.drop(['owner_response', 'owner_response_time'], axis=1, inplace=True)"
   ]
  },
  {
   "cell_type": "code",
   "execution_count": 35,
   "metadata": {},
   "outputs": [],
   "source": [
    "assert len(df1.columns) == len(df.columns)"
   ]
  },
  {
   "cell_type": "code",
   "execution_count": 88,
   "metadata": {},
   "outputs": [],
   "source": [
    "# looking for what makes a good review\n",
    "df1['target'] = df1['review_rating'] >= 3\n",
    "df['target'] = df['review_rating'] >= 3\n",
    "\n",
    "# looking at the oposite thus the anti\n",
    "df1['anti_target'] = df1['review_rating'] <= 3\n",
    "df['anti_target'] = df['review_rating'] <= 3\n",
    "\n",
    "# changing bools to ints\n",
    "df['target'] = df['target'].map({True: 1, False: 0})\n",
    "df1['target'] = df1['target'].map({True: 1, False: 0})\n",
    "df['anti_target'] = df['anti_target'].map({True: 1, False: 0})\n",
    "df1['anti_target'] = df1['anti_target'].map({True: 1, False: 0})\n"
   ]
  },
  {
   "cell_type": "code",
   "execution_count": 89,
   "metadata": {},
   "outputs": [
    {
     "output_type": "stream",
     "name": "stdout",
     "text": "Training shapes: df-0(1566, 9)\tdf-1(780, 11),\tTest shape: df-0(1566,)\tdf-1(780,)\n"
    }
   ],
   "source": [
    "from sklearn.model_selection import train_test_split\n",
    "X_train1, y_train1, X_test1, y_test1 = train_test_split(df1.drop(['target', 'anti_target', 'Unnamed: 0', 'customer_name'], axis=1),\n",
    "                                                                 df1['target'])\n",
    "X_train, y_train, X_test, y_test = train_test_split(df.drop(['target', 'anti_target', 'Unnamed: 0', 'customer_name'], axis=1),\n",
    "                                                            df['target'])\n",
    "print(f\"Training shapes: df-0{X_train.shape}\\tdf-1{X_train1.shape},\\tTest shape: df-0{X_test.shape}\\tdf-1{X_test1.shape}\")"
   ]
  },
  {
   "cell_type": "code",
   "execution_count": 85,
   "metadata": {},
   "outputs": [
    {
     "output_type": "stream",
     "name": "stdout",
     "text": "training set full\nX(1566, 9)\nX1(780, 11)\ny(522, 9)\ny1(261, 11)\n"
    }
   ],
   "source": [
    "print(\"training set full\", f\"X{X_train.shape}\", f\"X1{X_train1.shape}\", f\"y{y_train.shape}\", f\"y1{y_train1.shape}\", sep='\\n')"
   ]
  },
  {
   "cell_type": "code",
   "execution_count": 90,
   "metadata": {},
   "outputs": [
    {
     "output_type": "error",
     "ename": "KeyError",
     "evalue": "'target'",
     "traceback": [
      "\u001b[0;31m---------------------------------------------------------------------------\u001b[0m",
      "\u001b[0;31mKeyError\u001b[0m                                  Traceback (most recent call last)",
      "\u001b[0;32m/opt/conda/envs/ds-nlp/lib/python3.7/site-packages/pandas/core/indexes/base.py\u001b[0m in \u001b[0;36mget_loc\u001b[0;34m(self, key, method, tolerance)\u001b[0m\n\u001b[1;32m   2645\u001b[0m             \u001b[0;32mtry\u001b[0m\u001b[0;34m:\u001b[0m\u001b[0;34m\u001b[0m\u001b[0;34m\u001b[0m\u001b[0m\n\u001b[0;32m-> 2646\u001b[0;31m                 \u001b[0;32mreturn\u001b[0m \u001b[0mself\u001b[0m\u001b[0;34m.\u001b[0m\u001b[0m_engine\u001b[0m\u001b[0;34m.\u001b[0m\u001b[0mget_loc\u001b[0m\u001b[0;34m(\u001b[0m\u001b[0mkey\u001b[0m\u001b[0;34m)\u001b[0m\u001b[0;34m\u001b[0m\u001b[0;34m\u001b[0m\u001b[0m\n\u001b[0m\u001b[1;32m   2647\u001b[0m             \u001b[0;32mexcept\u001b[0m \u001b[0mKeyError\u001b[0m\u001b[0;34m:\u001b[0m\u001b[0;34m\u001b[0m\u001b[0;34m\u001b[0m\u001b[0m\n",
      "\u001b[0;32mpandas/_libs/index.pyx\u001b[0m in \u001b[0;36mpandas._libs.index.IndexEngine.get_loc\u001b[0;34m()\u001b[0m\n",
      "\u001b[0;32mpandas/_libs/index.pyx\u001b[0m in \u001b[0;36mpandas._libs.index.IndexEngine.get_loc\u001b[0;34m()\u001b[0m\n",
      "\u001b[0;32mpandas/_libs/hashtable_class_helper.pxi\u001b[0m in \u001b[0;36mpandas._libs.hashtable.PyObjectHashTable.get_item\u001b[0;34m()\u001b[0m\n",
      "\u001b[0;32mpandas/_libs/hashtable_class_helper.pxi\u001b[0m in \u001b[0;36mpandas._libs.hashtable.PyObjectHashTable.get_item\u001b[0;34m()\u001b[0m\n",
      "\u001b[0;31mKeyError\u001b[0m: 'target'",
      "\nDuring handling of the above exception, another exception occurred:\n",
      "\u001b[0;31mKeyError\u001b[0m                                  Traceback (most recent call last)",
      "\u001b[0;32m<ipython-input-90-b90ba929a146>\u001b[0m in \u001b[0;36m<module>\u001b[0;34m\u001b[0m\n\u001b[0;32m----> 1\u001b[0;31m \u001b[0my_train\u001b[0m \u001b[0;34m=\u001b[0m \u001b[0my_train\u001b[0m\u001b[0;34m[\u001b[0m\u001b[0;34m'target'\u001b[0m\u001b[0;34m]\u001b[0m\u001b[0;34m\u001b[0m\u001b[0;34m\u001b[0m\u001b[0m\n\u001b[0m",
      "\u001b[0;32m/opt/conda/envs/ds-nlp/lib/python3.7/site-packages/pandas/core/frame.py\u001b[0m in \u001b[0;36m__getitem__\u001b[0;34m(self, key)\u001b[0m\n\u001b[1;32m   2798\u001b[0m             \u001b[0;32mif\u001b[0m \u001b[0mself\u001b[0m\u001b[0;34m.\u001b[0m\u001b[0mcolumns\u001b[0m\u001b[0;34m.\u001b[0m\u001b[0mnlevels\u001b[0m \u001b[0;34m>\u001b[0m \u001b[0;36m1\u001b[0m\u001b[0;34m:\u001b[0m\u001b[0;34m\u001b[0m\u001b[0;34m\u001b[0m\u001b[0m\n\u001b[1;32m   2799\u001b[0m                 \u001b[0;32mreturn\u001b[0m \u001b[0mself\u001b[0m\u001b[0;34m.\u001b[0m\u001b[0m_getitem_multilevel\u001b[0m\u001b[0;34m(\u001b[0m\u001b[0mkey\u001b[0m\u001b[0;34m)\u001b[0m\u001b[0;34m\u001b[0m\u001b[0;34m\u001b[0m\u001b[0m\n\u001b[0;32m-> 2800\u001b[0;31m             \u001b[0mindexer\u001b[0m \u001b[0;34m=\u001b[0m \u001b[0mself\u001b[0m\u001b[0;34m.\u001b[0m\u001b[0mcolumns\u001b[0m\u001b[0;34m.\u001b[0m\u001b[0mget_loc\u001b[0m\u001b[0;34m(\u001b[0m\u001b[0mkey\u001b[0m\u001b[0;34m)\u001b[0m\u001b[0;34m\u001b[0m\u001b[0;34m\u001b[0m\u001b[0m\n\u001b[0m\u001b[1;32m   2801\u001b[0m             \u001b[0;32mif\u001b[0m \u001b[0mis_integer\u001b[0m\u001b[0;34m(\u001b[0m\u001b[0mindexer\u001b[0m\u001b[0;34m)\u001b[0m\u001b[0;34m:\u001b[0m\u001b[0;34m\u001b[0m\u001b[0;34m\u001b[0m\u001b[0m\n\u001b[1;32m   2802\u001b[0m                 \u001b[0mindexer\u001b[0m \u001b[0;34m=\u001b[0m \u001b[0;34m[\u001b[0m\u001b[0mindexer\u001b[0m\u001b[0;34m]\u001b[0m\u001b[0;34m\u001b[0m\u001b[0;34m\u001b[0m\u001b[0m\n",
      "\u001b[0;32m/opt/conda/envs/ds-nlp/lib/python3.7/site-packages/pandas/core/indexes/base.py\u001b[0m in \u001b[0;36mget_loc\u001b[0;34m(self, key, method, tolerance)\u001b[0m\n\u001b[1;32m   2646\u001b[0m                 \u001b[0;32mreturn\u001b[0m \u001b[0mself\u001b[0m\u001b[0;34m.\u001b[0m\u001b[0m_engine\u001b[0m\u001b[0;34m.\u001b[0m\u001b[0mget_loc\u001b[0m\u001b[0;34m(\u001b[0m\u001b[0mkey\u001b[0m\u001b[0;34m)\u001b[0m\u001b[0;34m\u001b[0m\u001b[0;34m\u001b[0m\u001b[0m\n\u001b[1;32m   2647\u001b[0m             \u001b[0;32mexcept\u001b[0m \u001b[0mKeyError\u001b[0m\u001b[0;34m:\u001b[0m\u001b[0;34m\u001b[0m\u001b[0;34m\u001b[0m\u001b[0m\n\u001b[0;32m-> 2648\u001b[0;31m                 \u001b[0;32mreturn\u001b[0m \u001b[0mself\u001b[0m\u001b[0;34m.\u001b[0m\u001b[0m_engine\u001b[0m\u001b[0;34m.\u001b[0m\u001b[0mget_loc\u001b[0m\u001b[0;34m(\u001b[0m\u001b[0mself\u001b[0m\u001b[0;34m.\u001b[0m\u001b[0m_maybe_cast_indexer\u001b[0m\u001b[0;34m(\u001b[0m\u001b[0mkey\u001b[0m\u001b[0;34m)\u001b[0m\u001b[0;34m)\u001b[0m\u001b[0;34m\u001b[0m\u001b[0;34m\u001b[0m\u001b[0m\n\u001b[0m\u001b[1;32m   2649\u001b[0m         \u001b[0mindexer\u001b[0m \u001b[0;34m=\u001b[0m \u001b[0mself\u001b[0m\u001b[0;34m.\u001b[0m\u001b[0mget_indexer\u001b[0m\u001b[0;34m(\u001b[0m\u001b[0;34m[\u001b[0m\u001b[0mkey\u001b[0m\u001b[0;34m]\u001b[0m\u001b[0;34m,\u001b[0m \u001b[0mmethod\u001b[0m\u001b[0;34m=\u001b[0m\u001b[0mmethod\u001b[0m\u001b[0;34m,\u001b[0m \u001b[0mtolerance\u001b[0m\u001b[0;34m=\u001b[0m\u001b[0mtolerance\u001b[0m\u001b[0;34m)\u001b[0m\u001b[0;34m\u001b[0m\u001b[0;34m\u001b[0m\u001b[0m\n\u001b[1;32m   2650\u001b[0m         \u001b[0;32mif\u001b[0m \u001b[0mindexer\u001b[0m\u001b[0;34m.\u001b[0m\u001b[0mndim\u001b[0m \u001b[0;34m>\u001b[0m \u001b[0;36m1\u001b[0m \u001b[0;32mor\u001b[0m \u001b[0mindexer\u001b[0m\u001b[0;34m.\u001b[0m\u001b[0msize\u001b[0m \u001b[0;34m>\u001b[0m \u001b[0;36m1\u001b[0m\u001b[0;34m:\u001b[0m\u001b[0;34m\u001b[0m\u001b[0;34m\u001b[0m\u001b[0m\n",
      "\u001b[0;32mpandas/_libs/index.pyx\u001b[0m in \u001b[0;36mpandas._libs.index.IndexEngine.get_loc\u001b[0;34m()\u001b[0m\n",
      "\u001b[0;32mpandas/_libs/index.pyx\u001b[0m in \u001b[0;36mpandas._libs.index.IndexEngine.get_loc\u001b[0;34m()\u001b[0m\n",
      "\u001b[0;32mpandas/_libs/hashtable_class_helper.pxi\u001b[0m in \u001b[0;36mpandas._libs.hashtable.PyObjectHashTable.get_item\u001b[0;34m()\u001b[0m\n",
      "\u001b[0;32mpandas/_libs/hashtable_class_helper.pxi\u001b[0m in \u001b[0;36mpandas._libs.hashtable.PyObjectHashTable.get_item\u001b[0;34m()\u001b[0m\n",
      "\u001b[0;31mKeyError\u001b[0m: 'target'"
     ]
    }
   ],
   "source": [
    "y_train = y_train['target']"
   ]
  },
  {
   "cell_type": "code",
   "execution_count": 29,
   "metadata": {},
   "outputs": [
    {
     "output_type": "execute_result",
     "data": {
      "text/plain": "TfidfVectorizer(analyzer='word', binary=False, decode_error='strict',\n                dtype=<class 'numpy.float64'>, encoding='utf-8',\n                input='content', lowercase=True, max_df=0.95, max_features=None,\n                min_df=1, ngram_range=(1, 1), norm='l2', preprocessor=None,\n                smooth_idf=True, stop_words=None, strip_accents=None,\n                sublinear_tf=False, token_pattern='(?u)\\\\b\\\\w\\\\w+\\\\b',\n                tokenizer=<spacy.tokenizer.Tokenizer object at 0x7f17452594d0>,\n                use_idf=True, vocabulary=None)"
     },
     "metadata": {},
     "execution_count": 29
    }
   ],
   "source": [
    "\n",
    "tfidf.fit(X_train.review_content)\n"
   ]
  },
  {
   "cell_type": "code",
   "execution_count": 31,
   "metadata": {},
   "outputs": [],
   "source": [
    "# make vector encodings of the data from the chanellos dataset\n",
    "X_train_vect = tfidf.transform(X_train)\n",
    "X_test_vect = tfidf.transform(X_test)\n"
   ]
  },
  {
   "cell_type": "code",
   "execution_count": 34,
   "metadata": {},
   "outputs": [],
   "source": [
    "# make sparse matrixs from the vectorizations\n",
    "dtm_train = X_train_vect.todense()\n",
    "dtm_test = X_test_vect.todense()\n"
   ]
  },
  {
   "cell_type": "code",
   "execution_count": 46,
   "metadata": {},
   "outputs": [],
   "source": [
    "from sklearn.neighbors import NearestNeighbors\n"
   ]
  },
  {
   "cell_type": "code",
   "execution_count": 47,
   "metadata": {},
   "outputs": [
    {
     "output_type": "execute_result",
     "data": {
      "text/plain": "NearestNeighbors(algorithm='auto', leaf_size=30, metric='minkowski',\n                 metric_params=None, n_jobs=-1, n_neighbors=5, p=2, radius=1.0)"
     },
     "metadata": {},
     "execution_count": 47
    }
   ],
   "source": [
    "nn = NearestNeighbors(n_jobs=-1)\n",
    "nn.fit(dtm_train)"
   ]
  },
  {
   "cell_type": "code",
   "execution_count": 53,
   "metadata": {},
   "outputs": [
    {
     "output_type": "execute_result",
     "data": {
      "text/plain": "(array([[0., 0., 0., 0., 0.]]), array([[8, 9, 6, 5, 7]]))"
     },
     "metadata": {},
     "execution_count": 53
    }
   ],
   "source": []
  },
  {
   "cell_type": "code",
   "execution_count": 52,
   "metadata": {},
   "outputs": [
    {
     "output_type": "execute_result",
     "data": {
      "text/plain": "\"This was my first time ordering from here and I must say it was quite good. The all meat pizza was good for a local chain. I'd prefer them over the larger chains.\""
     },
     "metadata": {},
     "execution_count": 52
    }
   ],
   "source": []
  },
  {
   "cell_type": "code",
   "execution_count": null,
   "metadata": {},
   "outputs": [],
   "source": []
  }
 ],
 "metadata": {
  "language_info": {
   "codemirror_mode": {
    "name": "ipython",
    "version": 3
   },
   "file_extension": ".py",
   "mimetype": "text/x-python",
   "name": "python",
   "nbconvert_exporter": "python",
   "pygments_lexer": "ipython3",
   "version": "3.7.6-final"
  },
  "orig_nbformat": 2,
  "kernelspec": {
   "name": "python37664bit8f4e8029c50c4abfa3fe45b7b9893def",
   "display_name": "Python 3.7.6 64-bit"
  }
 },
 "nbformat": 4,
 "nbformat_minor": 2
}