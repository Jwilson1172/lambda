{
  "nbformat": 4,
  "nbformat_minor": 0,
  "metadata": {
    "colab": {
      "name": "check_scrape.ipynb",
      "provenance": [],
      "collapsed_sections": [],
      "authorship_tag": "ABX9TyM/JNCGofn6jQeF4qzXVli7",
      "include_colab_link": true
    },
    "kernelspec": {
      "name": "python3",
      "display_name": "Python 3"
    }
  },
  "cells": [
    {
      "cell_type": "markdown",
      "metadata": {
        "id": "view-in-github",
        "colab_type": "text"
      },
      "source": [
        "<a href=\"https://colab.research.google.com/github/Jwilson1172/lambda/blob/master/unit-1-build/clean_dataset.ipynb\" target=\"_parent\"><img src=\"https://colab.research.google.com/assets/colab-badge.svg\" alt=\"Open In Colab\"/></a>"
      ]
    },
    {
      "cell_type": "code",
      "metadata": {
        "id": "DrppWWeVD2Qw",
        "colab_type": "code",
        "colab": {}
      },
      "source": [
        "import numpy as np\n",
        "import pandas as pd\n",
        "import matplotlib.pyplot as plt\n",
        "\n",
        "#used to change all the relive dates to datetimes\n",
        "import datetime\n",
        "\n",
        "# this in important because the time stamps in the dataset are relitive to when they were scraped\n",
        "DATE_SCRAPED=\"02-24-2020\""
      ],
      "execution_count": 0,
      "outputs": []
    },
    {
      "cell_type": "code",
      "metadata": {
        "id": "h9hfYlDaEAPg",
        "colab_type": "code",
        "colab": {}
      },
      "source": [
        "# read in the data frame that has my scrapped content\n",
        "df=pd.read_csv('/content/google_reviews_chanellos.csv')\n",
        "df_labels=pd.read_csv('/content/chanellos_locations.csv')\n"
      ],
      "execution_count": 0,
      "outputs": []
    },
    {
      "cell_type": "markdown",
      "metadata": {
        "id": "yjnm1DkV3CMS",
        "colab_type": "text"
      },
      "source": [
        "# **EDA**"
      ]
    },
    {
      "cell_type": "code",
      "metadata": {
        "id": "G2JOTst5EH0j",
        "colab_type": "code",
        "outputId": "7d611063-91a0-41bd-dd91-f5c7cb9010d7",
        "colab": {
          "base_uri": "https://localhost:8080/",
          "height": 221
        }
      },
      "source": [
        "# inspect head @TODO DROP NAME COL\n",
        "print(df.shape)\n",
        "df.head()"
      ],
      "execution_count": 96,
      "outputs": [
        {
          "output_type": "stream",
          "text": [
            "(2096, 7)\n"
          ],
          "name": "stdout"
        },
        {
          "output_type": "execute_result",
          "data": {
            "text/html": [
              "<div>\n",
              "<style scoped>\n",
              "    .dataframe tbody tr th:only-of-type {\n",
              "        vertical-align: middle;\n",
              "    }\n",
              "\n",
              "    .dataframe tbody tr th {\n",
              "        vertical-align: top;\n",
              "    }\n",
              "\n",
              "    .dataframe thead th {\n",
              "        text-align: right;\n",
              "    }\n",
              "</style>\n",
              "<table border=\"1\" class=\"dataframe\">\n",
              "  <thead>\n",
              "    <tr style=\"text-align: right;\">\n",
              "      <th></th>\n",
              "      <th>web-scraper-order</th>\n",
              "      <th>web-scraper-start-url</th>\n",
              "      <th>number_to_rate</th>\n",
              "      <th>name</th>\n",
              "      <th>published_time</th>\n",
              "      <th>review_content</th>\n",
              "      <th>rating_html</th>\n",
              "    </tr>\n",
              "  </thead>\n",
              "  <tbody>\n",
              "    <tr>\n",
              "      <th>0</th>\n",
              "      <td>1582527995-344</td>\n",
              "      <td>https://www.google.com/maps/place/Chanello's+P...</td>\n",
              "      <td>124 reviews</td>\n",
              "      <td>lauren sams</td>\n",
              "      <td>2 weeks ago</td>\n",
              "      <td>Great and fast service with excellent food.</td>\n",
              "      <td>&lt;span jstcache=\"293\" jsinstance=\"0\" class=\"sec...</td>\n",
              "    </tr>\n",
              "    <tr>\n",
              "      <th>1</th>\n",
              "      <td>1582527995-428</td>\n",
              "      <td>https://www.google.com/maps/place/Chanello's+P...</td>\n",
              "      <td>124 reviews</td>\n",
              "      <td>Krys Peirce</td>\n",
              "      <td>a year ago</td>\n",
              "      <td>NaN</td>\n",
              "      <td>&lt;span jstcache=\"293\" jsinstance=\"0\" class=\"sec...</td>\n",
              "    </tr>\n",
              "    <tr>\n",
              "      <th>2</th>\n",
              "      <td>1582527918-244</td>\n",
              "      <td>https://www.google.com/maps/place/Chanello's+P...</td>\n",
              "      <td>101 reviews</td>\n",
              "      <td>lori kent</td>\n",
              "      <td>3 years ago</td>\n",
              "      <td>NaN</td>\n",
              "      <td>&lt;span jstcache=\"293\" jsinstance=\"0\" class=\"sec...</td>\n",
              "    </tr>\n",
              "    <tr>\n",
              "      <th>3</th>\n",
              "      <td>1582528346-1348</td>\n",
              "      <td>https://www.google.com/maps/place/Chanello's+P...</td>\n",
              "      <td>62 reviews</td>\n",
              "      <td>Christian Betz</td>\n",
              "      <td>4 years ago</td>\n",
              "      <td>NaN</td>\n",
              "      <td>&lt;span jstcache=\"293\" jsinstance=\"0\" class=\"sec...</td>\n",
              "    </tr>\n",
              "    <tr>\n",
              "      <th>4</th>\n",
              "      <td>1582527995-377</td>\n",
              "      <td>https://www.google.com/maps/place/Chanello's+P...</td>\n",
              "      <td>124 reviews</td>\n",
              "      <td>Janel Brosseit</td>\n",
              "      <td>a year ago</td>\n",
              "      <td>This rating goes more towards the food. Just r...</td>\n",
              "      <td>&lt;span jstcache=\"293\" jsinstance=\"0\" class=\"sec...</td>\n",
              "    </tr>\n",
              "  </tbody>\n",
              "</table>\n",
              "</div>"
            ],
            "text/plain": [
              "  web-scraper-order  ...                                        rating_html\n",
              "0    1582527995-344  ...  <span jstcache=\"293\" jsinstance=\"0\" class=\"sec...\n",
              "1    1582527995-428  ...  <span jstcache=\"293\" jsinstance=\"0\" class=\"sec...\n",
              "2    1582527918-244  ...  <span jstcache=\"293\" jsinstance=\"0\" class=\"sec...\n",
              "3   1582528346-1348  ...  <span jstcache=\"293\" jsinstance=\"0\" class=\"sec...\n",
              "4    1582527995-377  ...  <span jstcache=\"293\" jsinstance=\"0\" class=\"sec...\n",
              "\n",
              "[5 rows x 7 columns]"
            ]
          },
          "metadata": {
            "tags": []
          },
          "execution_count": 96
        }
      ]
    },
    {
      "cell_type": "code",
      "metadata": {
        "id": "v67iIov_3SP8",
        "colab_type": "code",
        "colab": {
          "base_uri": "https://localhost:8080/",
          "height": 204
        },
        "outputId": "b5f188b5-cc80-4e7e-f32a-d245ee71cbe0"
      },
      "source": [
        "df_labels.head()\n",
        "df_labels=df_labels.drop('franchise') # there are no franchised stores in this list\n"
      ],
      "execution_count": 117,
      "outputs": [
        {
          "output_type": "execute_result",
          "data": {
            "text/html": [
              "<div>\n",
              "<style scoped>\n",
              "    .dataframe tbody tr th:only-of-type {\n",
              "        vertical-align: middle;\n",
              "    }\n",
              "\n",
              "    .dataframe tbody tr th {\n",
              "        vertical-align: top;\n",
              "    }\n",
              "\n",
              "    .dataframe thead th {\n",
              "        text-align: right;\n",
              "    }\n",
              "</style>\n",
              "<table border=\"1\" class=\"dataframe\">\n",
              "  <thead>\n",
              "    <tr style=\"text-align: right;\">\n",
              "      <th></th>\n",
              "      <th>web-scraper-order</th>\n",
              "      <th>name</th>\n",
              "      <th>rating</th>\n",
              "      <th>address</th>\n",
              "      <th>num_to_rate</th>\n",
              "      <th>start_url</th>\n",
              "      <th>franchise</th>\n",
              "    </tr>\n",
              "  </thead>\n",
              "  <tbody>\n",
              "    <tr>\n",
              "      <th>0</th>\n",
              "      <td>1582755020-11</td>\n",
              "      <td>Chanello's Pizza #1</td>\n",
              "      <td>3.7</td>\n",
              "      <td>8245 Hampton Blvd</td>\n",
              "      <td>87</td>\n",
              "      <td>https://www.google.com/maps/place/Chanello's+P...</td>\n",
              "      <td>False</td>\n",
              "    </tr>\n",
              "    <tr>\n",
              "      <th>1</th>\n",
              "      <td>1582755020-2</td>\n",
              "      <td>Chanello's Pizza #19</td>\n",
              "      <td>4.0</td>\n",
              "      <td>2226 Pleasure House Rd</td>\n",
              "      <td>68</td>\n",
              "      <td>https://www.google.com/maps/place/Chanello's+P...</td>\n",
              "      <td>False</td>\n",
              "    </tr>\n",
              "    <tr>\n",
              "      <th>2</th>\n",
              "      <td>1582755020-16</td>\n",
              "      <td>Chanello's Pizza #33</td>\n",
              "      <td>3.1</td>\n",
              "      <td>1122 George Washington Hwy N</td>\n",
              "      <td>124</td>\n",
              "      <td>https://www.google.com/maps/place/Chanello's+P...</td>\n",
              "      <td>False</td>\n",
              "    </tr>\n",
              "    <tr>\n",
              "      <th>3</th>\n",
              "      <td>1582755020-1</td>\n",
              "      <td>Chanello's Pizza #2</td>\n",
              "      <td>3.1</td>\n",
              "      <td>3201 E Ocean View Ave</td>\n",
              "      <td>116</td>\n",
              "      <td>https://www.google.com/maps/place/Chanello's+P...</td>\n",
              "      <td>False</td>\n",
              "    </tr>\n",
              "    <tr>\n",
              "      <th>4</th>\n",
              "      <td>1582755020-6</td>\n",
              "      <td>Chanello's Pizza #11</td>\n",
              "      <td>3.4</td>\n",
              "      <td>6657 Indian River Rd</td>\n",
              "      <td>148</td>\n",
              "      <td>https://www.google.com/maps/place/Chanello's+P...</td>\n",
              "      <td>False</td>\n",
              "    </tr>\n",
              "  </tbody>\n",
              "</table>\n",
              "</div>"
            ],
            "text/plain": [
              "  web-scraper-order  ... franchise\n",
              "0     1582755020-11  ...     False\n",
              "1      1582755020-2  ...     False\n",
              "2     1582755020-16  ...     False\n",
              "3      1582755020-1  ...     False\n",
              "4      1582755020-6  ...     False\n",
              "\n",
              "[5 rows x 7 columns]"
            ]
          },
          "metadata": {
            "tags": []
          },
          "execution_count": 117
        }
      ]
    },
    {
      "cell_type": "code",
      "metadata": {
        "id": "5FRd-VlE3YPh",
        "colab_type": "code",
        "colab": {
          "base_uri": "https://localhost:8080/",
          "height": 748
        },
        "outputId": "a72fe0fb-d50f-4f78-faba-ee159e51bfae"
      },
      "source": [
        "def strip_n2r(x):\n",
        "  if isinstance(x,float):\n",
        "    return x\n",
        "  else:\n",
        "    return x[:-8]\n",
        "test=df['number_to_rate'].apply(strip_n2r)\n",
        "print(test.head(40))\n",
        "print(test.dtypes,test.shape)\n",
        "test.isnull().sum()\n",
        "#df['number_to_rate'].isin(df_labels['num_to_rate']).sum()"
      ],
      "execution_count": 131,
      "outputs": [
        {
          "output_type": "stream",
          "text": [
            "0     124\n",
            "1     124\n",
            "2     101\n",
            "3      62\n",
            "4     124\n",
            "5     111\n",
            "6     124\n",
            "7     101\n",
            "8      83\n",
            "9      83\n",
            "10    141\n",
            "11     87\n",
            "12    101\n",
            "13    207\n",
            "14    156\n",
            "15     87\n",
            "16    NaN\n",
            "17    207\n",
            "18    207\n",
            "19    143\n",
            "20    111\n",
            "21    101\n",
            "22    120\n",
            "23    111\n",
            "24    143\n",
            "25     83\n",
            "26    156\n",
            "27     64\n",
            "28    141\n",
            "29    124\n",
            "30    NaN\n",
            "31    156\n",
            "32     85\n",
            "33     68\n",
            "34    156\n",
            "35    207\n",
            "36     90\n",
            "37     64\n",
            "38     83\n",
            "39    111\n",
            "Name: number_to_rate, dtype: object\n",
            "object (2096,)\n"
          ],
          "name": "stdout"
        },
        {
          "output_type": "execute_result",
          "data": {
            "text/plain": [
              "264"
            ]
          },
          "metadata": {
            "tags": []
          },
          "execution_count": 131
        }
      ]
    },
    {
      "cell_type": "code",
      "metadata": {
        "id": "vKJrQ3ma6iwM",
        "colab_type": "code",
        "colab": {
          "base_uri": "https://localhost:8080/",
          "height": 34
        },
        "outputId": "98f9d29b-f788-4b06-8bbb-b8aca6e05d5e"
      },
      "source": [
        "((-(2096-264)/2096)+1)*100"
      ],
      "execution_count": 134,
      "outputs": [
        {
          "output_type": "execute_result",
          "data": {
            "text/plain": [
              "12.595419847328248"
            ]
          },
          "metadata": {
            "tags": []
          },
          "execution_count": 134
        }
      ]
    },
    {
      "cell_type": "markdown",
      "metadata": {
        "id": "gr7bjAEMM42e",
        "colab_type": "text"
      },
      "source": [
        "#Data Cleaning/feature engineering"
      ]
    },
    {
      "cell_type": "markdown",
      "metadata": {
        "id": "2JUQPfHQS5hF",
        "colab_type": "text"
      },
      "source": [
        "###**geo-codes engineering**"
      ]
    },
    {
      "cell_type": "code",
      "metadata": {
        "id": "ng4pfqZ8NA7z",
        "colab_type": "code",
        "outputId": "be974e7d-909e-4fc1-9abd-e575e490e0b4",
        "colab": {
          "base_uri": "https://localhost:8080/",
          "height": 394
        }
      },
      "source": [
        "# i have two options here i can just assign new values to each store and call it a day\n",
        "# or I noticed that theese links have geotags on them, i can pull the geotag from the links\n",
        "# then trash them\n",
        "df['web-scraper-start-url'].value_counts()"
      ],
      "execution_count": 0,
      "outputs": [
        {
          "output_type": "execute_result",
          "data": {
            "text/plain": [
              "https://www.google.com/maps/place/Chanello's+Pizza+%239/@36.892055,-76.2405181,17z/data=!3m1!4b1!4m10!1m2!2m1!1sChanello's+Pizza!3m6!1s0x89ba9710c59fbbc9:0x4b7bd022c70b0edb!8m2!3d36.8920507!4d-76.2383294!9m1!1b1                                           207\n",
              "https://www.google.com/maps/place/Chanello's+Pizza+%235/@36.8715743,-76.3002947,17z/data=!3m1!4b1!4m10!1m2!2m1!1sChanello's+Pizza!3m6!1s0x89ba984644f0319f:0xe26b261878364c00!8m2!3d36.87157!4d-76.298106!9m1!1b1                                             156\n",
              "https://www.google.com/maps/place/Chanello's+Pizza+%2311/@36.8190953,-76.2241417,17z/data=!3m1!4b1!4m10!1m2!2m1!1sChanello's+Pizza!3m6!1s0x89babd9dace7bc81:0x26dac2e722fbf6b3!8m2!3d36.819091!4d-76.221953!9m1!1b1                                           148\n",
              "https://www.google.com/maps/place/Chanello's+Pizza+%233/@36.8409833,-75.9968367,17z/data=!3m2!4b1!5s0x89baea29ba7bd3c3:0x6a010471d2c98ca0!4m10!1m2!2m1!1sChanello's+Pizza!3m6!1s0x89baea2998386b9d:0x549dc79761d1f91b!8m2!3d36.840979!4d-75.994648!9m1!1b1    143\n",
              "https://www.google.com/maps/place/Chanello's+Pizza+%2326/@37.0400883,-76.4083707,17z/data=!3m1!4b1!4m10!1m2!2m1!1sChanello's+Pizza!3m6!1s0x89ba83213dbbc08b:0x74b643140f5b60b5!8m2!3d37.040084!4d-76.406182!9m1!1b1                                           141\n",
              "https://www.google.com/maps/place/Chanello's+Pizza+%2333/@36.7819861,-76.3383989,17z/data=!3m1!4b1!4m10!1m2!2m1!1sChanello's+Pizza!3m6!1s0x89baa32fc8a20eb5:0x27c72a7bc0bad400!8m2!3d36.7819818!4d-76.3362102!9m1!1b1                                         124\n",
              "https://www.google.com/maps/place/Chanello's+Pizza+%2310/@37.0424853,-76.3511807,17z/data=!3m1!4b1!4m10!1m2!2m1!1sChanello's+Pizza!3m6!1s0x89ba8496d14f2e67:0xb475c703ef1b617f!8m2!3d37.042481!4d-76.348992!9m1!1b1                                           120\n",
              "https://www.google.com/maps/place/Chanello's+Pizza+%232/@36.9321303,-76.2046187,17z/data=!3m1!4b1!4m10!1m2!2m1!1sChanello's+Pizza!3m6!1s0x89ba913f1495a0ff:0x73f9a08a74cc8edc!8m2!3d36.932126!4d-76.20243!9m1!1b1                                             116\n",
              "https://www.google.com/maps/place/Chanello's+Pizza+%236/@36.8694083,-76.1488787,17z/data=!3m1!4b1!4m10!1m2!2m1!1sChanello's+Pizza!3m6!1s0x89ba944c5105a23f:0x6aa1c914da96d44f!8m2!3d36.869404!4d-76.14669!9m1!1b1                                             111\n",
              "https://www.google.com/maps/place/Chanello's+Pizza+%2314/@36.8262133,-76.4123802,17z/data=!3m1!4b1!4m10!1m2!2m1!1sChanello's+Pizza!3m6!1s0x89baa04cd2e136c3:0x7776e419bf0e5631!8m2!3d36.826209!4d-76.4101915!9m1!1b1                                          101\n",
              "https://www.google.com/maps/place/Chanello's+Pizza+%2332/@36.8347409,-76.3429376,17z/data=!3m1!4b1!4m10!1m2!2m1!1sChanello's+Pizza!3m6!1s0x89baa212cba80a53:0xd92219950172dd42!8m2!3d36.8347366!4d-76.3407489!9m1!1b1                                         101\n",
              "https://www.google.com/maps/place/Chanello's+Pizza+%2318/@36.7642003,-76.2508377,17z/data=!3m1!4b1!4m10!1m2!2m1!1sChanello's+Pizza!3m6!1s0x89babcbd7820755d:0x20fdec310b1094e9!8m2!3d36.764196!4d-76.248649!9m1!1b1                                            91\n",
              "https://www.google.com/maps/place/Chanello's+Pizza+%231/@36.9280133,-76.3205357,17z/data=!3m1!4b1!4m10!1m2!2m1!1sChanello's+Pizza!3m6!1s0x89ba997fe547e42f:0x90f52467e57e80a4!8m2!3d36.928009!4d-76.318347!9m1!1b1                                             87\n",
              "https://www.google.com/maps/place/Chanello's+Pizza/@36.8403777,-76.0892202,17z/data=!3m1!4b1!4m10!1m2!2m1!1sChanello's+Pizza!3m6!1s0x89ba953521e0a167:0xe8eb7de14871d02b!8m2!3d36.8403734!4d-76.0870315!9m1!1b1                                                85\n",
              "https://www.google.com/maps/place/Chanello's+Pizza+%234/@36.7899742,-76.125894,17z/data=!3m1!4b1!4m10!1m2!2m1!1sChanello's+Pizza!3m6!1s0x89babfbd207c160d:0xf73c86e82b2298bb!8m2!3d36.7899699!4d-76.1237053!9m1!1b1                                            83\n",
              "https://www.google.com/maps/place/Chanello's+Pizza+%2313/@36.7115933,-76.2407287,17z/data=!3m1!4b1!4m10!1m2!2m1!1sChanello's+Pizza!3m6!1s0x89babb1cf20fdcaf:0xbeff819008b620b4!8m2!3d36.711589!4d-76.23854!9m1!1b1                                             80\n",
              "https://www.google.com/maps/place/Chanello's+Pizza+%2319/@36.9056799,-76.1367491,17z/data=!3m1!4b1!4m10!1m2!2m1!1sChanello's+Pizza!3m6!1s0x89ba947f9f77bbcd:0xd8dd9da9595428aa!8m2!3d36.9056756!4d-76.1345604!9m1!1b1                                          68\n",
              "https://www.google.com/maps/place/Chanello's+Pizza+%238/@36.7686433,-76.0178329,17z/data=!3m1!4b1!4m10!1m2!2m1!1sChanello's+Pizza!3m6!1s0x89bac19fc5c918bf:0x48c98b40059a1d46!8m2!3d36.768639!4d-76.0156442!9m1!1b1                                            64\n",
              "https://www.google.com/maps/place/Chanello's+Pizza+%237/@36.8031384,-76.1770067,17z/data=!3m1!4b1!4m10!1m2!2m1!1sChanello's+Pizza!3m6!1s0x89babe7459902fe3:0x6a14b2c299a1c5df!8m2!3d36.8031341!4d-76.174818!9m1!1b1                                            62\n",
              "https://www.google.com/maps/place/Chanello's+Pizza+-+CNU/@37.0695662,-76.496867,17z/data=!3m1!4b1!4m10!1m2!2m1!1sChanello's+Pizza!3m6!1s0x89b07856d2b54555:0xc4d4527d7559b5f2!8m2!3d37.0695619!4d-76.4946783!9m1!1b1                                            8\n",
              "Name: web-scraper-start-url, dtype: int64"
            ]
          },
          "metadata": {
            "tags": []
          },
          "execution_count": 57
        }
      ]
    },
    {
      "cell_type": "code",
      "metadata": {
        "id": "wm-IpiZjN-N7",
        "colab_type": "code",
        "outputId": "27f6ac68-c6a0-44c6-ec91-fda52b5d8e1e",
        "colab": {
          "base_uri": "https://localhost:8080/",
          "height": 119
        }
      },
      "source": [
        "# define a function to strip the url strings to reveal geo tags\n",
        "def parse_geo(x):\n",
        "  return x.split('@')[1].split(',')[:-1]\n",
        "# test it out before i make any changes\n",
        "test=df['web-scraper-start-url'].apply(parse_geo)\n",
        "test.head()"
      ],
      "execution_count": 0,
      "outputs": [
        {
          "output_type": "execute_result",
          "data": {
            "text/plain": [
              "0    [36.7819861, -76.3383989]\n",
              "1    [36.7819861, -76.3383989]\n",
              "2    [36.8262133, -76.4123802]\n",
              "3    [36.8031384, -76.1770067]\n",
              "4    [36.7819861, -76.3383989]\n",
              "Name: web-scraper-start-url, dtype: object"
            ]
          },
          "metadata": {
            "tags": []
          },
          "execution_count": 71
        }
      ]
    },
    {
      "cell_type": "code",
      "metadata": {
        "id": "K5lsCcV2PDKb",
        "colab_type": "code",
        "colab": {}
      },
      "source": [
        "# make changes\n",
        "df['geo']=df['web-scraper-start-url'].apply(parse_geo)"
      ],
      "execution_count": 0,
      "outputs": []
    },
    {
      "cell_type": "markdown",
      "metadata": {
        "id": "wVX08Jd5SdWg",
        "colab_type": "text"
      },
      "source": [
        "###**rating valuation engineering**"
      ]
    },
    {
      "cell_type": "code",
      "metadata": {
        "id": "q8yGI2GfKtsY",
        "colab_type": "code",
        "outputId": "993be6b3-ba46-451a-fd45-7a623e85b64d",
        "colab": {
          "base_uri": "https://localhost:8080/",
          "height": 119
        }
      },
      "source": [
        "# on the reviews it had images of lit stars triggered by js\n",
        "# to work around this i took the html source because i knew it would\n",
        "# show which stars are supossed to be triggered, but as a drawback\n",
        "# no i have to clean HTML instead of pretty output\n",
        "df['rating_html'].head()"
      ],
      "execution_count": 0,
      "outputs": [
        {
          "output_type": "execute_result",
          "data": {
            "text/plain": [
              "0    <span jstcache=\"293\" jsinstance=\"0\" class=\"sec...\n",
              "1    <span jstcache=\"293\" jsinstance=\"0\" class=\"sec...\n",
              "2    <span jstcache=\"293\" jsinstance=\"0\" class=\"sec...\n",
              "3    <span jstcache=\"293\" jsinstance=\"0\" class=\"sec...\n",
              "4    <span jstcache=\"293\" jsinstance=\"0\" class=\"sec...\n",
              "Name: rating_html, dtype: object"
            ]
          },
          "metadata": {
            "tags": []
          },
          "execution_count": 52
        }
      ]
    },
    {
      "cell_type": "code",
      "metadata": {
        "id": "vF4vYJVqEOen",
        "colab_type": "code",
        "outputId": "17e1ac69-6487-4a87-b130-d32b2d0231f2",
        "colab": {
          "base_uri": "https://localhost:8080/",
          "height": 119
        }
      },
      "source": [
        "# make a funtion to apply to col\n",
        "def clean_rating(x):\n",
        "  # make a list of strings to work with\n",
        "  out=x.split()\n",
        "  # sort list so that duplicates group togeather\n",
        "  out.sort()\n",
        "  # the first element is just '<span>' and the following 20 elements are redundant,\n",
        "  # the last 5 elements are placment flags\n",
        "  # remove all of them and leave me with just the number of active stars\n",
        "  # then get a count so i can have a pretty int\n",
        "  return len(out[21:len(out)-5])\n",
        "\n",
        "# test to make sure that it works\n",
        "test=df['rating_html'].apply(clean_rating)\n",
        "test.head()"
      ],
      "execution_count": 0,
      "outputs": [
        {
          "output_type": "execute_result",
          "data": {
            "text/plain": [
              "0    5\n",
              "1    1\n",
              "2    4\n",
              "3    4\n",
              "4    2\n",
              "Name: rating_html, dtype: int64"
            ]
          },
          "metadata": {
            "tags": []
          },
          "execution_count": 75
        }
      ]
    },
    {
      "cell_type": "code",
      "metadata": {
        "id": "faS4XpfWEmif",
        "colab_type": "code",
        "colab": {}
      },
      "source": [
        "# make changes to df\n",
        "df['rating_html']=df['rating_html'].apply(clean_rating)"
      ],
      "execution_count": 0,
      "outputs": []
    },
    {
      "cell_type": "markdown",
      "metadata": {
        "id": "5F5Tp0eR2AZS",
        "colab_type": "text"
      },
      "source": [
        "### **datetime engeenering for graphing**"
      ]
    },
    {
      "cell_type": "code",
      "metadata": {
        "id": "FYdva30PTyDj",
        "colab_type": "code",
        "outputId": "362466b3-c377-45f3-8b00-201a86e878b9",
        "colab": {
          "base_uri": "https://localhost:8080/",
          "height": 510
        }
      },
      "source": [
        "# humanfied dates are great to read, not so great to graph, i need to make theese\n",
        "# back into dt format,(why i have a glob at the top with the date of scrape)\n",
        "df['published_time'].value_counts()"
      ],
      "execution_count": 0,
      "outputs": [
        {
          "output_type": "execute_result",
          "data": {
            "text/plain": [
              "a year ago       628\n",
              "2 years ago      394\n",
              "3 years ago      168\n",
              "7 months ago      91\n",
              "8 months ago      90\n",
              "6 months ago      74\n",
              "4 years ago       72\n",
              "11 months ago     68\n",
              "5 months ago      67\n",
              "9 months ago      65\n",
              "10 months ago     56\n",
              "a month ago       55\n",
              "4 months ago      54\n",
              "3 months ago      47\n",
              "2 months ago      35\n",
              "5 years ago       26\n",
              "a week ago        18\n",
              "2 weeks ago       17\n",
              "6 years ago       16\n",
              "3 weeks ago       12\n",
              "4 weeks ago       11\n",
              "8 years ago       10\n",
              "7 years ago        9\n",
              "5 days ago         4\n",
              "a day ago          4\n",
              "6 days ago         2\n",
              "9 years ago        2\n",
              "3 days ago         1\n",
              "Name: published_time, dtype: int64"
            ]
          },
          "metadata": {
            "tags": []
          },
          "execution_count": 5
        }
      ]
    },
    {
      "cell_type": "code",
      "metadata": {
        "id": "CFTib8j3W2NG",
        "colab_type": "code",
        "colab": {}
      },
      "source": [
        "# create a map for all units to hours\n",
        "time_map={'second':0.000278,'minute':0.0167,'hour':1,'day':24,'week':168,'month':530.5,'year':8766}\n",
        "# make a function that takes a relitive time 'a day ago' and transfers that to a datetime\n",
        "def human_to_dt(x):\n",
        "  # the number that i will end up subtracting from scrape date\n",
        "  diff=0\n",
        "  # make a datetime object to hold the date that the dataset was scrapped\n",
        "  dt=datetime.datetime.strptime(DATE_SCRAPED, '%m-%d-%Y')\n",
        "  # strip the string down to two values a quantifier and a unit\n",
        "  q,u=test[:-3].strip().split(' ')\n",
        "  # remove trailing s on unit it is not needed\n",
        "  if u[len(u)-1]==\"s\":\n",
        "    u=u[:len(u)-1]\n",
        "  # check if there is just one unit if so then set diff=1\n",
        "  if q == \"a\":\n",
        "    diff=time_map[u]\n",
        "  # if the number is not one then multiply the q by the map_key entry for u\n",
        "  else:\n",
        "    #safe cast\n",
        "    try:\n",
        "      diff=time_map[u]*int(q)\n",
        "    except:\n",
        "      print(\"ERROR\")\n",
        "      return 0\n",
        "  # convert dt to utc timestamp\n",
        "  dt=dt-datetime.timedelta(hours=diff)\n",
        "  timestamp = dt.replace(tzinfo=datetime.timezone.utc).timestamp()\n",
        "  return timestamp"
      ],
      "execution_count": 0,
      "outputs": []
    },
    {
      "cell_type": "code",
      "metadata": {
        "id": "4N9yfMNDy4G0",
        "colab_type": "code",
        "outputId": "b278b123-1ac0-4a3c-ed66-400b452cb7a9",
        "colab": {
          "base_uri": "https://localhost:8080/",
          "height": 119
        }
      },
      "source": [
        "# apply changes to df\n",
        "df['published_time']=df['published_time'].apply(human_to_dt)"
      ],
      "execution_count": 115,
      "outputs": [
        {
          "output_type": "execute_result",
          "data": {
            "text/plain": [
              "0    1.550945e+09\n",
              "1    1.550945e+09\n",
              "2    1.550945e+09\n",
              "3    1.550945e+09\n",
              "4    1.550945e+09\n",
              "Name: published_time, dtype: float64"
            ]
          },
          "metadata": {
            "tags": []
          },
          "execution_count": 115
        }
      ]
    }
  ]
}