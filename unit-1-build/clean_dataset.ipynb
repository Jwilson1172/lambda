{
  "nbformat": 4,
  "nbformat_minor": 0,
  "metadata": {
    "colab": {
      "name": "check_scrape.ipynb",
      "provenance": [],
      "collapsed_sections": [],
      "authorship_tag": "ABX9TyNzkUeOcdZniUZ2zewr7psN",
      "include_colab_link": true
    },
    "kernelspec": {
      "name": "python3",
      "display_name": "Python 3"
    }
  },
  "cells": [
    {
      "cell_type": "markdown",
      "metadata": {
        "id": "view-in-github",
        "colab_type": "text"
      },
      "source": [
        "<a href=\"https://colab.research.google.com/github/Jwilson1172/lambda/blob/master/unit-1-build/clean_dataset.ipynb\" target=\"_parent\"><img src=\"https://colab.research.google.com/assets/colab-badge.svg\" alt=\"Open In Colab\"/></a>"
      ]
    },
    {
      "cell_type": "code",
      "metadata": {
        "id": "DrppWWeVD2Qw",
        "colab_type": "code",
        "colab": {}
      },
      "source": [
        "import numpy as np\n",
        "import pandas as pd\n",
        "import matplotlib.pyplot as plt\n",
        "\n",
        "#used to change all the relive dates to datetimes\n",
        "import datetime\n",
        "\n",
        "# this in important because the time stamps in the dataset are relitive to when they were scraped\n",
        "DATE_SCRAPED=\"02-24-2020\""
      ],
      "execution_count": 0,
      "outputs": []
    },
    {
      "cell_type": "code",
      "metadata": {
        "id": "h9hfYlDaEAPg",
        "colab_type": "code",
        "colab": {}
      },
      "source": [
        "# read in the data frame that has my scrapped content\n",
        "df=pd.read_csv('/content/google_reviews_chanellos.csv')\n",
        "df_labels=pd.read_csv('/content/chanellos_locations.csv')\n"
      ],
      "execution_count": 0,
      "outputs": []
    },
    {
      "cell_type": "markdown",
      "metadata": {
        "id": "yjnm1DkV3CMS",
        "colab_type": "text"
      },
      "source": [
        "# **EDA**"
      ]
    },
    {
      "cell_type": "code",
      "metadata": {
        "id": "G2JOTst5EH0j",
        "colab_type": "code",
        "outputId": "497ea565-9d4e-416d-a2b1-8742d9c1a2e1",
        "colab": {
          "base_uri": "https://localhost:8080/",
          "height": 221
        }
      },
      "source": [
        "# inspect head @TODO DROP NAME COL\n",
        "print(df.shape)\n",
        "df.head()"
      ],
      "execution_count": 3,
      "outputs": [
        {
          "output_type": "stream",
          "text": [
            "(2096, 7)\n"
          ],
          "name": "stdout"
        },
        {
          "output_type": "execute_result",
          "data": {
            "text/html": [
              "<div>\n",
              "<style scoped>\n",
              "    .dataframe tbody tr th:only-of-type {\n",
              "        vertical-align: middle;\n",
              "    }\n",
              "\n",
              "    .dataframe tbody tr th {\n",
              "        vertical-align: top;\n",
              "    }\n",
              "\n",
              "    .dataframe thead th {\n",
              "        text-align: right;\n",
              "    }\n",
              "</style>\n",
              "<table border=\"1\" class=\"dataframe\">\n",
              "  <thead>\n",
              "    <tr style=\"text-align: right;\">\n",
              "      <th></th>\n",
              "      <th>web-scraper-order</th>\n",
              "      <th>web-scraper-start-url</th>\n",
              "      <th>number_to_rate</th>\n",
              "      <th>name</th>\n",
              "      <th>published_time</th>\n",
              "      <th>review_content</th>\n",
              "      <th>rating_html</th>\n",
              "    </tr>\n",
              "  </thead>\n",
              "  <tbody>\n",
              "    <tr>\n",
              "      <th>0</th>\n",
              "      <td>1582527995-344</td>\n",
              "      <td>https://www.google.com/maps/place/Chanello's+P...</td>\n",
              "      <td>124 reviews</td>\n",
              "      <td>lauren sams</td>\n",
              "      <td>2 weeks ago</td>\n",
              "      <td>Great and fast service with excellent food.</td>\n",
              "      <td>&lt;span jstcache=\"293\" jsinstance=\"0\" class=\"sec...</td>\n",
              "    </tr>\n",
              "    <tr>\n",
              "      <th>1</th>\n",
              "      <td>1582527995-428</td>\n",
              "      <td>https://www.google.com/maps/place/Chanello's+P...</td>\n",
              "      <td>124 reviews</td>\n",
              "      <td>Krys Peirce</td>\n",
              "      <td>a year ago</td>\n",
              "      <td>NaN</td>\n",
              "      <td>&lt;span jstcache=\"293\" jsinstance=\"0\" class=\"sec...</td>\n",
              "    </tr>\n",
              "    <tr>\n",
              "      <th>2</th>\n",
              "      <td>1582527918-244</td>\n",
              "      <td>https://www.google.com/maps/place/Chanello's+P...</td>\n",
              "      <td>101 reviews</td>\n",
              "      <td>lori kent</td>\n",
              "      <td>3 years ago</td>\n",
              "      <td>NaN</td>\n",
              "      <td>&lt;span jstcache=\"293\" jsinstance=\"0\" class=\"sec...</td>\n",
              "    </tr>\n",
              "    <tr>\n",
              "      <th>3</th>\n",
              "      <td>1582528346-1348</td>\n",
              "      <td>https://www.google.com/maps/place/Chanello's+P...</td>\n",
              "      <td>62 reviews</td>\n",
              "      <td>Christian Betz</td>\n",
              "      <td>4 years ago</td>\n",
              "      <td>NaN</td>\n",
              "      <td>&lt;span jstcache=\"293\" jsinstance=\"0\" class=\"sec...</td>\n",
              "    </tr>\n",
              "    <tr>\n",
              "      <th>4</th>\n",
              "      <td>1582527995-377</td>\n",
              "      <td>https://www.google.com/maps/place/Chanello's+P...</td>\n",
              "      <td>124 reviews</td>\n",
              "      <td>Janel Brosseit</td>\n",
              "      <td>a year ago</td>\n",
              "      <td>This rating goes more towards the food. Just r...</td>\n",
              "      <td>&lt;span jstcache=\"293\" jsinstance=\"0\" class=\"sec...</td>\n",
              "    </tr>\n",
              "  </tbody>\n",
              "</table>\n",
              "</div>"
            ],
            "text/plain": [
              "  web-scraper-order  ...                                        rating_html\n",
              "0    1582527995-344  ...  <span jstcache=\"293\" jsinstance=\"0\" class=\"sec...\n",
              "1    1582527995-428  ...  <span jstcache=\"293\" jsinstance=\"0\" class=\"sec...\n",
              "2    1582527918-244  ...  <span jstcache=\"293\" jsinstance=\"0\" class=\"sec...\n",
              "3   1582528346-1348  ...  <span jstcache=\"293\" jsinstance=\"0\" class=\"sec...\n",
              "4    1582527995-377  ...  <span jstcache=\"293\" jsinstance=\"0\" class=\"sec...\n",
              "\n",
              "[5 rows x 7 columns]"
            ]
          },
          "metadata": {
            "tags": []
          },
          "execution_count": 3
        }
      ]
    },
    {
      "cell_type": "code",
      "metadata": {
        "id": "v67iIov_3SP8",
        "colab_type": "code",
        "outputId": "87a1e4a6-1d4f-4c44-f420-10999917c67d",
        "colab": {
          "base_uri": "https://localhost:8080/",
          "height": 638
        }
      },
      "source": [
        "# a correction to the number of reviews from the time that the data\n",
        "# was scrapped and the labels dataset was scraped\n",
        "df_labels['num_to_rate'].at[13]=101\n",
        "\n",
        "df_labels.head(20)"
      ],
      "execution_count": 11,
      "outputs": [
        {
          "output_type": "execute_result",
          "data": {
            "text/html": [
              "<div>\n",
              "<style scoped>\n",
              "    .dataframe tbody tr th:only-of-type {\n",
              "        vertical-align: middle;\n",
              "    }\n",
              "\n",
              "    .dataframe tbody tr th {\n",
              "        vertical-align: top;\n",
              "    }\n",
              "\n",
              "    .dataframe thead th {\n",
              "        text-align: right;\n",
              "    }\n",
              "</style>\n",
              "<table border=\"1\" class=\"dataframe\">\n",
              "  <thead>\n",
              "    <tr style=\"text-align: right;\">\n",
              "      <th></th>\n",
              "      <th>web-scraper-order</th>\n",
              "      <th>name</th>\n",
              "      <th>rating</th>\n",
              "      <th>address</th>\n",
              "      <th>num_to_rate</th>\n",
              "      <th>start_url</th>\n",
              "    </tr>\n",
              "  </thead>\n",
              "  <tbody>\n",
              "    <tr>\n",
              "      <th>0</th>\n",
              "      <td>1582755020-11</td>\n",
              "      <td>Chanello's Pizza #1</td>\n",
              "      <td>3.7</td>\n",
              "      <td>8245 Hampton Blvd</td>\n",
              "      <td>87</td>\n",
              "      <td>https://www.google.com/maps/place/Chanello's+P...</td>\n",
              "    </tr>\n",
              "    <tr>\n",
              "      <th>1</th>\n",
              "      <td>1582755020-2</td>\n",
              "      <td>Chanello's Pizza #19</td>\n",
              "      <td>4.0</td>\n",
              "      <td>2226 Pleasure House Rd</td>\n",
              "      <td>68</td>\n",
              "      <td>https://www.google.com/maps/place/Chanello's+P...</td>\n",
              "    </tr>\n",
              "    <tr>\n",
              "      <th>2</th>\n",
              "      <td>1582755020-16</td>\n",
              "      <td>Chanello's Pizza #33</td>\n",
              "      <td>3.1</td>\n",
              "      <td>1122 George Washington Hwy N</td>\n",
              "      <td>124</td>\n",
              "      <td>https://www.google.com/maps/place/Chanello's+P...</td>\n",
              "    </tr>\n",
              "    <tr>\n",
              "      <th>3</th>\n",
              "      <td>1582755020-1</td>\n",
              "      <td>Chanello's Pizza #2</td>\n",
              "      <td>3.1</td>\n",
              "      <td>3201 E Ocean View Ave</td>\n",
              "      <td>116</td>\n",
              "      <td>https://www.google.com/maps/place/Chanello's+P...</td>\n",
              "    </tr>\n",
              "    <tr>\n",
              "      <th>4</th>\n",
              "      <td>1582755020-6</td>\n",
              "      <td>Chanello's Pizza #11</td>\n",
              "      <td>3.4</td>\n",
              "      <td>6657 Indian River Rd</td>\n",
              "      <td>148</td>\n",
              "      <td>https://www.google.com/maps/place/Chanello's+P...</td>\n",
              "    </tr>\n",
              "    <tr>\n",
              "      <th>5</th>\n",
              "      <td>1582755020-7</td>\n",
              "      <td>Chanello's Pizza #7</td>\n",
              "      <td>3.5</td>\n",
              "      <td>5300 Kemps River Dr #118</td>\n",
              "      <td>63</td>\n",
              "      <td>https://www.google.com/maps/place/Chanello's+P...</td>\n",
              "    </tr>\n",
              "    <tr>\n",
              "      <th>6</th>\n",
              "      <td>1582755020-19</td>\n",
              "      <td>Chanello's Pizza #26</td>\n",
              "      <td>2.9</td>\n",
              "      <td>1818 Todds Ln</td>\n",
              "      <td>141</td>\n",
              "      <td>https://www.google.com/maps/place/Chanello's+P...</td>\n",
              "    </tr>\n",
              "    <tr>\n",
              "      <th>7</th>\n",
              "      <td>1582755020-9</td>\n",
              "      <td>Chanello's Pizza #5</td>\n",
              "      <td>3.3</td>\n",
              "      <td>901 W 21st St</td>\n",
              "      <td>157</td>\n",
              "      <td>https://www.google.com/maps/place/Chanello's+P...</td>\n",
              "    </tr>\n",
              "    <tr>\n",
              "      <th>8</th>\n",
              "      <td>1582755020-14</td>\n",
              "      <td>Chanello's Pizza #8</td>\n",
              "      <td>3.5</td>\n",
              "      <td>2129 General Booth Blvd #107</td>\n",
              "      <td>64</td>\n",
              "      <td>https://www.google.com/maps/place/Chanello's+P...</td>\n",
              "    </tr>\n",
              "    <tr>\n",
              "      <th>9</th>\n",
              "      <td>1582755020-13</td>\n",
              "      <td>Chanello's Pizza #32</td>\n",
              "      <td>3.4</td>\n",
              "      <td>3200 High St</td>\n",
              "      <td>101</td>\n",
              "      <td>https://www.google.com/maps/place/Chanello's+P...</td>\n",
              "    </tr>\n",
              "    <tr>\n",
              "      <th>10</th>\n",
              "      <td>1582755020-3</td>\n",
              "      <td>Chanello's Pizza #6</td>\n",
              "      <td>3.6</td>\n",
              "      <td>1002 Aragona Blvd</td>\n",
              "      <td>111</td>\n",
              "      <td>https://www.google.com/maps/place/Chanello's+P...</td>\n",
              "    </tr>\n",
              "    <tr>\n",
              "      <th>11</th>\n",
              "      <td>1582755020-17</td>\n",
              "      <td>Chanello's Pizza #13</td>\n",
              "      <td>4.1</td>\n",
              "      <td>307 Johnstown Rd</td>\n",
              "      <td>80</td>\n",
              "      <td>https://www.google.com/maps/place/Chanello's+P...</td>\n",
              "    </tr>\n",
              "    <tr>\n",
              "      <th>12</th>\n",
              "      <td>1582755020-10</td>\n",
              "      <td>Chanello's Pizza #3</td>\n",
              "      <td>3.6</td>\n",
              "      <td>1077 Virginia Beach Blvd</td>\n",
              "      <td>143</td>\n",
              "      <td>https://www.google.com/maps/place/Chanello's+P...</td>\n",
              "    </tr>\n",
              "    <tr>\n",
              "      <th>13</th>\n",
              "      <td>1582755020-18</td>\n",
              "      <td>Chanello's Pizza #14</td>\n",
              "      <td>2.9</td>\n",
              "      <td>4105 Chesapeake Square Blvd #101</td>\n",
              "      <td>101</td>\n",
              "      <td>https://www.google.com/maps/place/Chanello's+P...</td>\n",
              "    </tr>\n",
              "    <tr>\n",
              "      <th>14</th>\n",
              "      <td>1582755020-5</td>\n",
              "      <td>Chanello's Pizza</td>\n",
              "      <td>3.5</td>\n",
              "      <td>3333 Virginia Beach Blvd</td>\n",
              "      <td>85</td>\n",
              "      <td>https://www.google.com/maps/place/Chanello's+P...</td>\n",
              "    </tr>\n",
              "    <tr>\n",
              "      <th>15</th>\n",
              "      <td>1582755020-15</td>\n",
              "      <td>Chanello's Pizza #10</td>\n",
              "      <td>3.7</td>\n",
              "      <td>1017 N King St</td>\n",
              "      <td>120</td>\n",
              "      <td>https://www.google.com/maps/place/Chanello's+P...</td>\n",
              "    </tr>\n",
              "    <tr>\n",
              "      <th>16</th>\n",
              "      <td>1582755020-8</td>\n",
              "      <td>Chanello's Pizza #4</td>\n",
              "      <td>3.9</td>\n",
              "      <td>2085 Lynnhaven Pkwy Suite 104</td>\n",
              "      <td>83</td>\n",
              "      <td>https://www.google.com/maps/place/Chanello's+P...</td>\n",
              "    </tr>\n",
              "    <tr>\n",
              "      <th>17</th>\n",
              "      <td>1582755020-4</td>\n",
              "      <td>Chanello's Pizza #9</td>\n",
              "      <td>3.4</td>\n",
              "      <td>6213 Chesapeake Blvd</td>\n",
              "      <td>206</td>\n",
              "      <td>https://www.google.com/maps/place/Chanello's+P...</td>\n",
              "    </tr>\n",
              "    <tr>\n",
              "      <th>18</th>\n",
              "      <td>1582755020-12</td>\n",
              "      <td>Chanello's Pizza #18</td>\n",
              "      <td>3.6</td>\n",
              "      <td>109 Volvo Pkwy</td>\n",
              "      <td>91</td>\n",
              "      <td>https://www.google.com/maps/place/Chanello's+P...</td>\n",
              "    </tr>\n",
              "  </tbody>\n",
              "</table>\n",
              "</div>"
            ],
            "text/plain": [
              "   web-scraper-order  ...                                          start_url\n",
              "0      1582755020-11  ...  https://www.google.com/maps/place/Chanello's+P...\n",
              "1       1582755020-2  ...  https://www.google.com/maps/place/Chanello's+P...\n",
              "2      1582755020-16  ...  https://www.google.com/maps/place/Chanello's+P...\n",
              "3       1582755020-1  ...  https://www.google.com/maps/place/Chanello's+P...\n",
              "4       1582755020-6  ...  https://www.google.com/maps/place/Chanello's+P...\n",
              "5       1582755020-7  ...  https://www.google.com/maps/place/Chanello's+P...\n",
              "6      1582755020-19  ...  https://www.google.com/maps/place/Chanello's+P...\n",
              "7       1582755020-9  ...  https://www.google.com/maps/place/Chanello's+P...\n",
              "8      1582755020-14  ...  https://www.google.com/maps/place/Chanello's+P...\n",
              "9      1582755020-13  ...  https://www.google.com/maps/place/Chanello's+P...\n",
              "10      1582755020-3  ...  https://www.google.com/maps/place/Chanello's+P...\n",
              "11     1582755020-17  ...  https://www.google.com/maps/place/Chanello's+P...\n",
              "12     1582755020-10  ...  https://www.google.com/maps/place/Chanello's+P...\n",
              "13     1582755020-18  ...  https://www.google.com/maps/place/Chanello's+P...\n",
              "14      1582755020-5  ...  https://www.google.com/maps/place/Chanello's+P...\n",
              "15     1582755020-15  ...  https://www.google.com/maps/place/Chanello's+P...\n",
              "16      1582755020-8  ...  https://www.google.com/maps/place/Chanello's+P...\n",
              "17      1582755020-4  ...  https://www.google.com/maps/place/Chanello's+P...\n",
              "18     1582755020-12  ...  https://www.google.com/maps/place/Chanello's+P...\n",
              "\n",
              "[19 rows x 6 columns]"
            ]
          },
          "metadata": {
            "tags": []
          },
          "execution_count": 11
        }
      ]
    },
    {
      "cell_type": "code",
      "metadata": {
        "id": "5FRd-VlE3YPh",
        "colab_type": "code",
        "outputId": "57ffdb76-ec49-4518-81f6-83ceee783fd9",
        "colab": {
          "base_uri": "https://localhost:8080/",
          "height": 119
        }
      },
      "source": [
        "# define a function that cleans up the number to rate column of the\n",
        "# reviews dataset by removing ' reviews' from the end of the cell content\n",
        "def strip_n2r(x):\n",
        "  if isinstance(x,float):\n",
        "    return x\n",
        "  else:\n",
        "    return x[:-8]\n",
        "# make sure that i didnt break anything\n",
        "test=df['number_to_rate'].apply(strip_n2r)\n",
        "test.head()"
      ],
      "execution_count": 10,
      "outputs": [
        {
          "output_type": "execute_result",
          "data": {
            "text/plain": [
              "0    124\n",
              "1    124\n",
              "2    101\n",
              "3     62\n",
              "4    124\n",
              "Name: number_to_rate, dtype: object"
            ]
          },
          "metadata": {
            "tags": []
          },
          "execution_count": 10
        }
      ]
    },
    {
      "cell_type": "code",
      "metadata": {
        "id": "vKJrQ3ma6iwM",
        "colab_type": "code",
        "colab": {}
      },
      "source": [
        "# make changes to df\n",
        "df['number_to_rate']=df['number_to_rate'].apply(strip_n2r)"
      ],
      "execution_count": 0,
      "outputs": []
    },
    {
      "cell_type": "markdown",
      "metadata": {
        "id": "gr7bjAEMM42e",
        "colab_type": "text"
      },
      "source": [
        "#Data Cleaning/feature engineering"
      ]
    },
    {
      "cell_type": "markdown",
      "metadata": {
        "id": "2JUQPfHQS5hF",
        "colab_type": "text"
      },
      "source": [
        "###**geo-codes engineering**"
      ]
    },
    {
      "cell_type": "code",
      "metadata": {
        "id": "ng4pfqZ8NA7z",
        "colab_type": "code",
        "outputId": "7b8c45c2-fe8b-4ccb-eb96-9885ef316e78",
        "colab": {
          "base_uri": "https://localhost:8080/",
          "height": 122
        }
      },
      "source": [
        "# im going to have to extract the geo code from the following links and compare them to my geo codes from\n",
        "# my labels df to map the reviews to a particular store\n",
        "print(\"labels df:\")\n",
        "print(df_labels['start_url'].iloc[0])\n",
        "print(\"\\nreviews df:\")\n",
        "df['web-scraper-start-url'].iloc[0]"
      ],
      "execution_count": 17,
      "outputs": [
        {
          "output_type": "stream",
          "text": [
            "labels df:\n",
            "https://www.google.com/maps/place/Chanello's+Pizza+%231/@36.928009,-76.3205357,17z/data=!3m1!4b1!4m10!1m2!2m1!1schnello's+pizza!3m6!1s0x89ba997fe547e42f:0x90f52467e57e80a4!8m2!3d36.928009!4d-76.318347!9m1!1b1\n",
            "\n",
            "reviews df:\n"
          ],
          "name": "stdout"
        },
        {
          "output_type": "execute_result",
          "data": {
            "text/plain": [
              "\"https://www.google.com/maps/place/Chanello's+Pizza+%2333/@36.7819861,-76.3383989,17z/data=!3m1!4b1!4m10!1m2!2m1!1sChanello's+Pizza!3m6!1s0x89baa32fc8a20eb5:0x27c72a7bc0bad400!8m2!3d36.7819818!4d-76.3362102!9m1!1b1\""
            ]
          },
          "metadata": {
            "tags": []
          },
          "execution_count": 17
        }
      ]
    },
    {
      "cell_type": "code",
      "metadata": {
        "id": "wm-IpiZjN-N7",
        "colab_type": "code",
        "outputId": "fb861443-25bd-4767-83bf-10e7dff541ed",
        "colab": {
          "base_uri": "https://localhost:8080/",
          "height": 119
        }
      },
      "source": [
        "# define a function to strip the url strings to reveal geo tags\n",
        "def parse_geo(x):\n",
        "  return x.split('@')[1].split(',')[:-1]\n",
        "# test it out before i make any changes\n",
        "test=df['web-scraper-start-url'].apply(parse_geo)\n",
        "test.head()"
      ],
      "execution_count": 18,
      "outputs": [
        {
          "output_type": "execute_result",
          "data": {
            "text/plain": [
              "0    [36.7819861, -76.3383989]\n",
              "1    [36.7819861, -76.3383989]\n",
              "2    [36.8262133, -76.4123802]\n",
              "3    [36.8031384, -76.1770067]\n",
              "4    [36.7819861, -76.3383989]\n",
              "Name: web-scraper-start-url, dtype: object"
            ]
          },
          "metadata": {
            "tags": []
          },
          "execution_count": 18
        }
      ]
    },
    {
      "cell_type": "code",
      "metadata": {
        "id": "K5lsCcV2PDKb",
        "colab_type": "code",
        "colab": {}
      },
      "source": [
        "# make changes\n",
        "df['geo']=df['web-scraper-start-url'].apply(parse_geo)\n",
        "df_labels['geo']=df_labels['start_url'].apply(parse_geo)"
      ],
      "execution_count": 0,
      "outputs": []
    },
    {
      "cell_type": "code",
      "metadata": {
        "id": "coDE5AE9DYWE",
        "colab_type": "code",
        "colab": {
          "base_uri": "https://localhost:8080/",
          "height": 34
        },
        "outputId": "24e11322-ea6a-45a8-a317-103357793360"
      },
      "source": [
        ""
      ],
      "execution_count": 22,
      "outputs": [
        {
          "output_type": "execute_result",
          "data": {
            "text/plain": [
              "str"
            ]
          },
          "metadata": {
            "tags": []
          },
          "execution_count": 22
        }
      ]
    },
    {
      "cell_type": "markdown",
      "metadata": {
        "id": "wVX08Jd5SdWg",
        "colab_type": "text"
      },
      "source": [
        "###**rating valuation engineering**"
      ]
    },
    {
      "cell_type": "code",
      "metadata": {
        "id": "q8yGI2GfKtsY",
        "colab_type": "code",
        "outputId": "402d7cb3-73d6-4191-e132-b489dd5bda22",
        "colab": {
          "base_uri": "https://localhost:8080/",
          "height": 119
        }
      },
      "source": [
        "# on the reviews it had images of lit stars triggered by js\n",
        "# to work around this i took the html source because i knew it would\n",
        "# show which stars are supossed to be triggered, but as a drawback\n",
        "# no i have to clean HTML instead of pretty output\n",
        "df['rating_html'].head()"
      ],
      "execution_count": 23,
      "outputs": [
        {
          "output_type": "execute_result",
          "data": {
            "text/plain": [
              "0    <span jstcache=\"293\" jsinstance=\"0\" class=\"sec...\n",
              "1    <span jstcache=\"293\" jsinstance=\"0\" class=\"sec...\n",
              "2    <span jstcache=\"293\" jsinstance=\"0\" class=\"sec...\n",
              "3    <span jstcache=\"293\" jsinstance=\"0\" class=\"sec...\n",
              "4    <span jstcache=\"293\" jsinstance=\"0\" class=\"sec...\n",
              "Name: rating_html, dtype: object"
            ]
          },
          "metadata": {
            "tags": []
          },
          "execution_count": 23
        }
      ]
    },
    {
      "cell_type": "code",
      "metadata": {
        "id": "vF4vYJVqEOen",
        "colab_type": "code",
        "outputId": "d4d937c6-13bf-4f0a-bffd-6155efe475b6",
        "colab": {
          "base_uri": "https://localhost:8080/",
          "height": 119
        }
      },
      "source": [
        "# make a funtion to apply to col\n",
        "def clean_rating(x):\n",
        "  # make a list of strings to work with\n",
        "  out=x.split()\n",
        "  # sort list so that duplicates group togeather\n",
        "  out.sort()\n",
        "  # the first element is just '<span>' and the following 20 elements are redundant,\n",
        "  # the last 5 elements are placment flags\n",
        "  # remove all of them and leave me with just the number of active stars\n",
        "  # then get a count so i can have a pretty int\n",
        "  return len(out[21:len(out)-5])\n",
        "\n",
        "# test to make sure that it works\n",
        "test=df['rating_html'].apply(clean_rating)\n",
        "test.head()"
      ],
      "execution_count": 24,
      "outputs": [
        {
          "output_type": "execute_result",
          "data": {
            "text/plain": [
              "0    5\n",
              "1    1\n",
              "2    4\n",
              "3    4\n",
              "4    2\n",
              "Name: rating_html, dtype: int64"
            ]
          },
          "metadata": {
            "tags": []
          },
          "execution_count": 24
        }
      ]
    },
    {
      "cell_type": "code",
      "metadata": {
        "id": "faS4XpfWEmif",
        "colab_type": "code",
        "colab": {}
      },
      "source": [
        "# make changes to df\n",
        "df['rating_html']=df['rating_html'].apply(clean_rating)"
      ],
      "execution_count": 0,
      "outputs": []
    },
    {
      "cell_type": "markdown",
      "metadata": {
        "id": "5F5Tp0eR2AZS",
        "colab_type": "text"
      },
      "source": [
        "### **datetime engeenering for graphing**"
      ]
    },
    {
      "cell_type": "code",
      "metadata": {
        "id": "FYdva30PTyDj",
        "colab_type": "code",
        "outputId": "d2afd219-b4f6-4355-e3d0-88425a64c078",
        "colab": {
          "base_uri": "https://localhost:8080/",
          "height": 510
        }
      },
      "source": [
        "# humanfied dates are great to read, not so great to graph, i need to make theese\n",
        "# back into dt format,(why i have a glob at the top with the date of scrape)\n",
        "df['published_time'].value_counts()"
      ],
      "execution_count": 26,
      "outputs": [
        {
          "output_type": "execute_result",
          "data": {
            "text/plain": [
              "a year ago       628\n",
              "2 years ago      394\n",
              "3 years ago      168\n",
              "7 months ago      91\n",
              "8 months ago      90\n",
              "6 months ago      74\n",
              "4 years ago       72\n",
              "11 months ago     68\n",
              "5 months ago      67\n",
              "9 months ago      65\n",
              "10 months ago     56\n",
              "a month ago       55\n",
              "4 months ago      54\n",
              "3 months ago      47\n",
              "2 months ago      35\n",
              "5 years ago       26\n",
              "a week ago        18\n",
              "2 weeks ago       17\n",
              "6 years ago       16\n",
              "3 weeks ago       12\n",
              "4 weeks ago       11\n",
              "8 years ago       10\n",
              "7 years ago        9\n",
              "5 days ago         4\n",
              "a day ago          4\n",
              "6 days ago         2\n",
              "9 years ago        2\n",
              "3 days ago         1\n",
              "Name: published_time, dtype: int64"
            ]
          },
          "metadata": {
            "tags": []
          },
          "execution_count": 26
        }
      ]
    },
    {
      "cell_type": "code",
      "metadata": {
        "id": "CFTib8j3W2NG",
        "colab_type": "code",
        "colab": {}
      },
      "source": [
        "# create a map for all units to hours\n",
        "time_map={'second':0.000278,'minute':0.0167,'hour':1,'day':24,'week':168,'month':530.5,'year':8766}\n",
        "# make a function that takes a relitive time 'a day ago' and transfers that to a datetime\n",
        "def human_to_dt(x):\n",
        "  # the number that i will end up subtracting from scrape date\n",
        "  diff=0\n",
        "  # make a datetime object to hold the date that the dataset was scrapped\n",
        "  dt=datetime.datetime.strptime(DATE_SCRAPED, '%m-%d-%Y')\n",
        "  # strip the string down to two values a quantifier and a unit\n",
        "  q,u=x[:-3].strip().split(' ')\n",
        "  # remove trailing s on unit it is not needed\n",
        "  if u[len(u)-1]==\"s\":\n",
        "    u=u[:len(u)-1]\n",
        "  # check if there is just one unit if so then set diff=1\n",
        "  if q == \"a\":\n",
        "    diff=time_map[u]\n",
        "  # if the number is not one then multiply the q by the map_key entry for u\n",
        "  else:\n",
        "    #safe cast\n",
        "    try:\n",
        "      diff=time_map[u]*int(q)\n",
        "    except:\n",
        "      print(\"ERROR\")\n",
        "      return 0\n",
        "  # convert dt to utc timestamp\n",
        "  dt=dt-datetime.timedelta(hours=diff)\n",
        "  timestamp = dt.replace(tzinfo=datetime.timezone.utc).timestamp()\n",
        "  return timestamp"
      ],
      "execution_count": 0,
      "outputs": []
    },
    {
      "cell_type": "code",
      "metadata": {
        "id": "UaUsK0BUEBuw",
        "colab_type": "code",
        "colab": {
          "base_uri": "https://localhost:8080/",
          "height": 34
        },
        "outputId": "cd80530b-4fd1-4d78-e267-78493d771ed7"
      },
      "source": [
        "# making sure that it works how i want it to\n",
        "testvalue=df['published_time'].iloc[0]\n",
        "print(human_to_dt(testvalue))\n",
        "del testvalue"
      ],
      "execution_count": 32,
      "outputs": [
        {
          "output_type": "stream",
          "text": [
            "1581292800.0\n"
          ],
          "name": "stdout"
        }
      ]
    },
    {
      "cell_type": "code",
      "metadata": {
        "id": "4N9yfMNDy4G0",
        "colab_type": "code",
        "colab": {}
      },
      "source": [
        "# apply changes to df\n",
        "df['published_time']=df['published_time'].apply(human_to_dt)"
      ],
      "execution_count": 0,
      "outputs": []
    },
    {
      "cell_type": "markdown",
      "metadata": {
        "id": "1O5DlblZE6sg",
        "colab_type": "text"
      },
      "source": [
        "## more data cleaning to drop columns that i dont need anymore"
      ]
    },
    {
      "cell_type": "code",
      "metadata": {
        "id": "SFc9duTqD1t6",
        "colab_type": "code",
        "colab": {
          "base_uri": "https://localhost:8080/",
          "height": 204
        },
        "outputId": "be14a42e-1513-4b7c-b27e-1cc0f965ea57"
      },
      "source": [
        "df.head()"
      ],
      "execution_count": 34,
      "outputs": [
        {
          "output_type": "execute_result",
          "data": {
            "text/html": [
              "<div>\n",
              "<style scoped>\n",
              "    .dataframe tbody tr th:only-of-type {\n",
              "        vertical-align: middle;\n",
              "    }\n",
              "\n",
              "    .dataframe tbody tr th {\n",
              "        vertical-align: top;\n",
              "    }\n",
              "\n",
              "    .dataframe thead th {\n",
              "        text-align: right;\n",
              "    }\n",
              "</style>\n",
              "<table border=\"1\" class=\"dataframe\">\n",
              "  <thead>\n",
              "    <tr style=\"text-align: right;\">\n",
              "      <th></th>\n",
              "      <th>web-scraper-order</th>\n",
              "      <th>web-scraper-start-url</th>\n",
              "      <th>number_to_rate</th>\n",
              "      <th>name</th>\n",
              "      <th>published_time</th>\n",
              "      <th>review_content</th>\n",
              "      <th>rating_html</th>\n",
              "      <th>geo</th>\n",
              "    </tr>\n",
              "  </thead>\n",
              "  <tbody>\n",
              "    <tr>\n",
              "      <th>0</th>\n",
              "      <td>1582527995-344</td>\n",
              "      <td>https://www.google.com/maps/place/Chanello's+P...</td>\n",
              "      <td>124</td>\n",
              "      <td>lauren sams</td>\n",
              "      <td>1.581293e+09</td>\n",
              "      <td>Great and fast service with excellent food.</td>\n",
              "      <td>5</td>\n",
              "      <td>[36.7819861, -76.3383989]</td>\n",
              "    </tr>\n",
              "    <tr>\n",
              "      <th>1</th>\n",
              "      <td>1582527995-428</td>\n",
              "      <td>https://www.google.com/maps/place/Chanello's+P...</td>\n",
              "      <td>124</td>\n",
              "      <td>Krys Peirce</td>\n",
              "      <td>1.550945e+09</td>\n",
              "      <td>NaN</td>\n",
              "      <td>1</td>\n",
              "      <td>[36.7819861, -76.3383989]</td>\n",
              "    </tr>\n",
              "    <tr>\n",
              "      <th>2</th>\n",
              "      <td>1582527918-244</td>\n",
              "      <td>https://www.google.com/maps/place/Chanello's+P...</td>\n",
              "      <td>101</td>\n",
              "      <td>lori kent</td>\n",
              "      <td>1.487830e+09</td>\n",
              "      <td>NaN</td>\n",
              "      <td>4</td>\n",
              "      <td>[36.8262133, -76.4123802]</td>\n",
              "    </tr>\n",
              "    <tr>\n",
              "      <th>3</th>\n",
              "      <td>1582528346-1348</td>\n",
              "      <td>https://www.google.com/maps/place/Chanello's+P...</td>\n",
              "      <td>62</td>\n",
              "      <td>Christian Betz</td>\n",
              "      <td>1.456272e+09</td>\n",
              "      <td>NaN</td>\n",
              "      <td>4</td>\n",
              "      <td>[36.8031384, -76.1770067]</td>\n",
              "    </tr>\n",
              "    <tr>\n",
              "      <th>4</th>\n",
              "      <td>1582527995-377</td>\n",
              "      <td>https://www.google.com/maps/place/Chanello's+P...</td>\n",
              "      <td>124</td>\n",
              "      <td>Janel Brosseit</td>\n",
              "      <td>1.550945e+09</td>\n",
              "      <td>This rating goes more towards the food. Just r...</td>\n",
              "      <td>2</td>\n",
              "      <td>[36.7819861, -76.3383989]</td>\n",
              "    </tr>\n",
              "  </tbody>\n",
              "</table>\n",
              "</div>"
            ],
            "text/plain": [
              "  web-scraper-order  ...                        geo\n",
              "0    1582527995-344  ...  [36.7819861, -76.3383989]\n",
              "1    1582527995-428  ...  [36.7819861, -76.3383989]\n",
              "2    1582527918-244  ...  [36.8262133, -76.4123802]\n",
              "3   1582528346-1348  ...  [36.8031384, -76.1770067]\n",
              "4    1582527995-377  ...  [36.7819861, -76.3383989]\n",
              "\n",
              "[5 rows x 8 columns]"
            ]
          },
          "metadata": {
            "tags": []
          },
          "execution_count": 34
        }
      ]
    },
    {
      "cell_type": "code",
      "metadata": {
        "id": "UXaTz-61EgRz",
        "colab_type": "code",
        "colab": {
          "base_uri": "https://localhost:8080/",
          "height": 204
        },
        "outputId": "b35ded30-1138-46c5-cce5-d0bf73d99642"
      },
      "source": [
        "df_labels.head()"
      ],
      "execution_count": 35,
      "outputs": [
        {
          "output_type": "execute_result",
          "data": {
            "text/html": [
              "<div>\n",
              "<style scoped>\n",
              "    .dataframe tbody tr th:only-of-type {\n",
              "        vertical-align: middle;\n",
              "    }\n",
              "\n",
              "    .dataframe tbody tr th {\n",
              "        vertical-align: top;\n",
              "    }\n",
              "\n",
              "    .dataframe thead th {\n",
              "        text-align: right;\n",
              "    }\n",
              "</style>\n",
              "<table border=\"1\" class=\"dataframe\">\n",
              "  <thead>\n",
              "    <tr style=\"text-align: right;\">\n",
              "      <th></th>\n",
              "      <th>web-scraper-order</th>\n",
              "      <th>name</th>\n",
              "      <th>rating</th>\n",
              "      <th>address</th>\n",
              "      <th>num_to_rate</th>\n",
              "      <th>start_url</th>\n",
              "      <th>geo</th>\n",
              "    </tr>\n",
              "  </thead>\n",
              "  <tbody>\n",
              "    <tr>\n",
              "      <th>0</th>\n",
              "      <td>1582755020-11</td>\n",
              "      <td>Chanello's Pizza #1</td>\n",
              "      <td>3.7</td>\n",
              "      <td>8245 Hampton Blvd</td>\n",
              "      <td>87</td>\n",
              "      <td>https://www.google.com/maps/place/Chanello's+P...</td>\n",
              "      <td>[36.928009, -76.3205357]</td>\n",
              "    </tr>\n",
              "    <tr>\n",
              "      <th>1</th>\n",
              "      <td>1582755020-2</td>\n",
              "      <td>Chanello's Pizza #19</td>\n",
              "      <td>4.0</td>\n",
              "      <td>2226 Pleasure House Rd</td>\n",
              "      <td>68</td>\n",
              "      <td>https://www.google.com/maps/place/Chanello's+P...</td>\n",
              "      <td>[36.9056756, -76.1367491]</td>\n",
              "    </tr>\n",
              "    <tr>\n",
              "      <th>2</th>\n",
              "      <td>1582755020-16</td>\n",
              "      <td>Chanello's Pizza #33</td>\n",
              "      <td>3.1</td>\n",
              "      <td>1122 George Washington Hwy N</td>\n",
              "      <td>124</td>\n",
              "      <td>https://www.google.com/maps/place/Chanello's+P...</td>\n",
              "      <td>[36.7819818, -76.3383989]</td>\n",
              "    </tr>\n",
              "    <tr>\n",
              "      <th>3</th>\n",
              "      <td>1582755020-1</td>\n",
              "      <td>Chanello's Pizza #2</td>\n",
              "      <td>3.1</td>\n",
              "      <td>3201 E Ocean View Ave</td>\n",
              "      <td>116</td>\n",
              "      <td>https://www.google.com/maps/place/Chanello's+P...</td>\n",
              "      <td>[36.932126, -76.2046187]</td>\n",
              "    </tr>\n",
              "    <tr>\n",
              "      <th>4</th>\n",
              "      <td>1582755020-6</td>\n",
              "      <td>Chanello's Pizza #11</td>\n",
              "      <td>3.4</td>\n",
              "      <td>6657 Indian River Rd</td>\n",
              "      <td>148</td>\n",
              "      <td>https://www.google.com/maps/place/Chanello's+P...</td>\n",
              "      <td>[36.819091, -76.2241417]</td>\n",
              "    </tr>\n",
              "  </tbody>\n",
              "</table>\n",
              "</div>"
            ],
            "text/plain": [
              "  web-scraper-order  ...                        geo\n",
              "0     1582755020-11  ...   [36.928009, -76.3205357]\n",
              "1      1582755020-2  ...  [36.9056756, -76.1367491]\n",
              "2     1582755020-16  ...  [36.7819818, -76.3383989]\n",
              "3      1582755020-1  ...   [36.932126, -76.2046187]\n",
              "4      1582755020-6  ...   [36.819091, -76.2241417]\n",
              "\n",
              "[5 rows x 7 columns]"
            ]
          },
          "metadata": {
            "tags": []
          },
          "execution_count": 35
        }
      ]
    },
    {
      "cell_type": "code",
      "metadata": {
        "id": "Z6cBOCX8Ey1r",
        "colab_type": "code",
        "colab": {}
      },
      "source": [
        "# going to drop internal scraper columns that dont add context for the information\n",
        "# that is provided by them\n",
        "df=df.drop(['web-scraper-order','web-scraper-start-url'],axis=1)\n",
        "df_labels=df_labels.drop(['web-scraper-order','start_url'],axis=1)"
      ],
      "execution_count": 0,
      "outputs": []
    },
    {
      "cell_type": "markdown",
      "metadata": {
        "id": "jc9uP7N8GKeQ",
        "colab_type": "text"
      },
      "source": [
        "##merging df's based on geo codes"
      ]
    },
    {
      "cell_type": "code",
      "metadata": {
        "id": "V3EDr6VIFtw0",
        "colab_type": "code",
        "colab": {
          "base_uri": "https://localhost:8080/",
          "height": 68
        },
        "outputId": "0d86c39a-f461-4f63-dff9-6cabc7515b52"
      },
      "source": [
        "# but first i have to cast and round existing geo codes in both df's because\n",
        "# google does such a great job at consitency\n",
        "testvalue=df['geo'].iloc[0]\n",
        "# define a function that reurns a tuple of rounded floates from the geo tags\n",
        "def clean_geos(x):\n",
        "  out=[round(float(x[0]),2),round(float(x[1]),2)]\n",
        "  return out\n",
        "\n",
        "# self explainitory\n",
        "def sep_lat(x):\n",
        "  return x[0]\n",
        "def sep_long(x):\n",
        "  return x[1]\n",
        "\n",
        "print(clean_geos(testvalue))\n",
        "print(sep_lat(testvalue))\n",
        "print(sep_long(testvalue))"
      ],
      "execution_count": 45,
      "outputs": [
        {
          "output_type": "stream",
          "text": [
            "[36.78, -76.34]\n",
            "36.7819861\n",
            "-76.3383989\n"
          ],
          "name": "stdout"
        }
      ]
    },
    {
      "cell_type": "code",
      "metadata": {
        "id": "sXgPBABoGsB4",
        "colab_type": "code",
        "colab": {}
      },
      "source": [
        ""
      ],
      "execution_count": 0,
      "outputs": []
    }
  ]
}